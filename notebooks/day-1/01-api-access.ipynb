{
 "cells": [
  {
   "attachments": {},
   "cell_type": "markdown",
   "metadata": {},
   "source": [
    "# Day 1 - API Access\n",
    "\n",
    "This is just an introductory notebook to make sure you have API access. We simply test each API and ensure we're getting a response. If you run into any issues here, please reach out to us!\n",
    "\n",
    "Please make sure that you've set your environment variables in the `.env` file at the root of this repositiory. Specifically, this notebook (and the others in this folder) require the following variables to be set: `OPENAI_API_KEY`, `GOOGLE_APPLICATION_CREDENTIALS`"
   ]
  },
  {
   "cell_type": "code",
   "execution_count": 1,
   "metadata": {},
   "outputs": [
    {
     "data": {
      "text/plain": [
       "True"
      ]
     },
     "execution_count": 1,
     "metadata": {},
     "output_type": "execute_result"
    }
   ],
   "source": [
    "# Load environment variables\n",
    "import dotenv\n",
    "dotenv.load_dotenv(\"../../.env\", override=True)"
   ]
  },
  {
   "attachments": {},
   "cell_type": "markdown",
   "metadata": {},
   "source": [
    "The models we use in this notebook for OpenAI (Completion API) and PaLM (Text Generation API) are text completion APIs. There is a subtle difference between these APIs and the chat APIs we cover later. The chat APIs are used for conversations. That is, both the user and the model take turns to send messages (like ChatGPT). The text completion APIs on the other hand are meant to be singular prompts where we give the model an instruction and get an output."
   ]
  },
  {
   "attachments": {},
   "cell_type": "markdown",
   "metadata": {},
   "source": [
    "## OpenAI"
   ]
  },
  {
   "cell_type": "code",
   "execution_count": 2,
   "metadata": {},
   "outputs": [
    {
     "name": "stdout",
     "output_type": "stream",
     "text": [
      "How do I make a margherita pizza?\n",
      "\n",
      "1. Preheat the oven to 425°F.\n",
      "\n",
      "2. Roll out the pizza dough on a lightly floured surface and place it on a pizza pan or baking sheet.\n",
      "\n",
      "3. Spread a thin layer of tomato sauce over the dough, leaving a 1-inch border around the edge.\n",
      "\n",
      "4. Sprinkle a generous amount of shredded mozzarella cheese over the sauce.\n",
      "\n",
      "5. Top with thin slices of fresh mozzarella and a few leaves of fresh basil.\n",
      "\n",
      "6. Drizzle with olive oil and sprinkle with a pinch of salt.\n",
      "\n",
      "7. Bake for 15-20 minutes, or until the crust is golden and the cheese is melted and bubbly.\n",
      "\n",
      "8. Let cool for a few minutes before slicing and serving. Enjoy!\n"
     ]
    }
   ],
   "source": [
    "import openai\n",
    "\n",
    "PROMPT = \"How do I make a margherita pizza?\"\n",
    "\n",
    "response = openai.Completion.create(\n",
    "  model=\"text-davinci-003\",\n",
    "  prompt=PROMPT,\n",
    "  max_tokens=256,\n",
    "  temperature=0.3\n",
    ")\n",
    "\n",
    "print(PROMPT, end='')\n",
    "print(response[\"choices\"][0][\"text\"])"
   ]
  },
  {
   "attachments": {},
   "cell_type": "markdown",
   "metadata": {},
   "source": [
    "## Google PaLM"
   ]
  },
  {
   "cell_type": "code",
   "execution_count": 3,
   "metadata": {},
   "outputs": [
    {
     "name": "stdout",
     "output_type": "stream",
     "text": [
      "How do I make a margherita pizza?\n",
      "------------------------------------------------------------------------------------------\n",
      "**Ingredients:**\n",
      "\n",
      "* 1 batch of pizza dough (homemade or store-bought)\n",
      "* 2 cups of pizza sauce\n",
      "* 1 cup of shredded mozzarella cheese\n",
      "* 1/2 cup of grated Parmesan cheese\n",
      "* 4 to 5 fresh basil leaves, torn\n",
      "* 1/4 cup of olive oil\n",
      "\n",
      "**Instructions:**\n",
      "\n",
      "1. Preheat the oven to 450 degrees Fahrenheit.\n",
      "2. If using homemade pizza dough, prepare the dough according to the recipe. If using store-bought pizza dough, let it come to room temperature for about 30 minutes before using.\n",
      "3. Roll out the pizza dough into a 12-inch circle.\n",
      "4. Spread the pizza sauce evenly over the dough.\n",
      "5. Sprinkle the mozzarella cheese over the pizza sauce.\n",
      "6. Tear the basil leaves into small pieces and sprinkle them over the pizza.\n",
      "7. Drizzle the olive oil over the pizza.\n",
      "8. Bake the pizza for 15 to 20 minutes, or until the crust is golden brown and the cheese is melted and bubbly.\n",
      "9. Let the pizza cool for a few minutes before slicing and serving.\n",
      "\n",
      "**Enjoy\n"
     ]
    }
   ],
   "source": [
    "from vertexai.preview.language_models import TextGenerationModel\n",
    "\n",
    "QUESTION = \"How do I make a margherita pizza?\"\n",
    "\n",
    "model = TextGenerationModel.from_pretrained(\"text-bison@001\")\n",
    "response = model.predict(\n",
    "    QUESTION,\n",
    "    temperature=0.3,\n",
    "    max_output_tokens=256,\n",
    ")\n",
    "\n",
    "print(QUESTION)\n",
    "print(\"---\" * 30)\n",
    "print(response.text)"
   ]
  },
  {
   "attachments": {},
   "cell_type": "markdown",
   "metadata": {},
   "source": [
    "## Self-Hosted (TBD)"
   ]
  },
  {
   "attachments": {},
   "cell_type": "markdown",
   "metadata": {},
   "source": []
  }
 ],
 "metadata": {
  "kernelspec": {
   "display_name": "Python 3 (ipykernel)",
   "language": "python",
   "name": "python3"
  },
  "language_info": {
   "codemirror_mode": {
    "name": "ipython",
    "version": 3
   },
   "file_extension": ".py",
   "mimetype": "text/x-python",
   "name": "python",
   "nbconvert_exporter": "python",
   "pygments_lexer": "ipython3",
   "version": "3.11.3"
  }
 },
 "nbformat": 4,
 "nbformat_minor": 4
}
