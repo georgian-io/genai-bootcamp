{
 "cells": [
  {
   "attachments": {},
   "cell_type": "markdown",
   "metadata": {},
   "source": [
    "# Day 1 - API Access\n",
    "\n",
    "This is just an introductory notebook to make sure you have API access. We simply test each API and ensure we're getting a response. If you run into any issues here, please reach out to us!\n",
    "\n",
    "Please make sure that you've set your environment variables in the `.env` file at the root of this repositiory. Specifically, this notebook (and the others in this folder) require the following variables to be set: `OPENAI_API_KEY`, `GOOGLE_APPLICATION_CREDENTIALS`"
   ]
  },
  {
   "cell_type": "code",
   "execution_count": 1,
   "metadata": {},
   "outputs": [
    {
     "data": {
      "text/plain": [
       "True"
      ]
     },
     "execution_count": 1,
     "metadata": {},
     "output_type": "execute_result"
    }
   ],
   "source": [
    "# Load environment variables\n",
    "import dotenv\n",
    "dotenv.load_dotenv(\"../../.env\", override=True)"
   ]
  },
  {
   "attachments": {},
   "cell_type": "markdown",
   "metadata": {},
   "source": [
    "### Chat Completion APIs vs Text Completion APIs\n",
    "\n",
    "Both OpenAI and Google have two different APIs we can use to make calls to their respective LLMs. Chat Completion APIs are conversational in nature, meaning the user and the model take turns to send messages (like chatGPT). Text Completion APIs on the other hand are meant to be singular prompts where we give a prompt and the model attempts to \"complete\" the text sequence.\n",
    "\n",
    "Chat Completion APIs: [ChatCompletion (OpenAI)](https://platform.openai.com/docs/api-reference/chat), [ChatModel (Google)](https://cloud.google.com/vertex-ai/docs/generative-ai/learn/models#chat_model_parameters)\n",
    "\n",
    "Text Completion APIs: [Completion (OpenAI)](https://platform.openai.com/docs/api-reference/completions), [TextGeneration (Google)](https://cloud.google.com/vertex-ai/docs/generative-ai/learn/models#text_model_parameters)\n",
    "\n",
    "Note that the latest OpenAI models such as GPT-4 and GPT-3.5-turbo are only available through their chat completion API. Thus we exclusively use only the chat completion API for OpenAI models. In contrast, Google's PaLM 2 model is available for both APIs. Hence we primarily use the text completion API as [it supports several tasks](https://developers.generativeai.google/models/language). We use the chat completion API only for the chatbot example."
   ]
  },
  {
   "attachments": {},
   "cell_type": "markdown",
   "metadata": {},
   "source": [
    "## OpenAI"
   ]
  },
  {
   "cell_type": "code",
   "execution_count": 7,
   "metadata": {},
   "outputs": [
    {
     "name": "stdout",
     "output_type": "stream",
     "text": [
      "How do I make a margherita pizza?\n",
      "To make a Margherita pizza, follow these steps:\n",
      "\n",
      "Ingredients:\n",
      "\n",
      "1) Pizza Dough:\n",
      "- 2 1/4 teaspoons (or 1 packet) active dry yeast\n",
      "- 1 1/3 cups warm water (around 110°F/45°C)\n",
      "- 3 1/2 cups all-purpose flour\n",
      "- 2 tablespoons olive oil\n",
      "- 2 teaspoons sugar\n",
      "- 1 teaspoon salt\n",
      "\n",
      "2) Toppings:\n",
      "- 1 cup tomato sauce (preferably San Marzano or homemade)\n",
      "- 8 oz. fresh mozzarella cheese (sliced or torn into small pieces)\n",
      "- 1/2 cup fresh basil leaves\n",
      "- 2 tablespoons olive oil\n",
      "- Salt, to taste\n",
      "\n",
      "Instructions:\n",
      "\n",
      "1. Prepare the pizza dough:\n",
      "  a. In a small bowl, combine the warm water and sugar. Sprinkle the active dry yeast on top and let it sit for about 5 minutes, until it becomes foamy.\n",
      "  b. In a large mixing bowl, combine the flour and salt. Make a well in the middle and pour in the yeast mixture and olive oil. Mix the ingredients together until a rough dough forms.\n",
      "  c. Knead the dough on a floured surface for about 10 minutes, or until it becomes smooth and elastic. Alternatively, you can use a stand mixer with a dough hook to mix and knead the dough.\n",
      "  d. Shape the dough into a ball and place it in a large bowl lightly greased with olive oil. Cover the bowl with a damp cloth and let the dough rise in a warm place for about 1-2 hours, or until it doubles in size.\n",
      "\n",
      "2. Preheat your oven to the highest setting (usually around 500°F/260°C). Set the oven rack in the lowest position and place a pizza stone or baking sheet on the rack to heat up.\n",
      "\n",
      "3. Punch down the risen dough and divide it into two equal parts. Shape each part into a ball.\n",
      "\n",
      "4. For each pizza, on a lightly floured surface, roll out one dough ball into a 12-inch (30 cm) circle. Transfer the rolled dough onto a sheet of parchment paper or a pizza peel lightly dusted with flour or cornmeal.\n",
      "\n",
      "5. Spread a thin layer of tomato sauce evenly over the pizza dough, leaving a small border around the edges. Be careful not to use too much sauce, as it can make the pizza soggy.\n",
      "\n",
      "6. Evenly distribute the fresh mozzarella cheese over the sauce.\n",
      "\n",
      "7. Slide the pizza (with the parchment paper, if using) onto the preheated pizza stone or baking sheet. Bake the pizza for 8-12 minutes, or until the crust is golden brown and the cheese is melted and bubbly.\n",
      "\n",
      "8. Remove the pizza from the oven, and immediately top it with fresh basil leaves.\n",
      "\n",
      "9. Drizzle a bit of olive oil on top, and season with salt to taste.\n",
      "\n",
      "10. Slice and serve the pizza. Enjoy your homemade Margherita pizza!\n"
     ]
    }
   ],
   "source": [
    "import openai\n",
    "\n",
    "messages = [\n",
    "    {\"role\": \"system\", \"content\": \"You are a helpful assistant.\"},\n",
    "    {\"role\": \"user\", \"content\": \"How do I make a margherita pizza?\"},\n",
    "]\n",
    "\n",
    "chatbot_response = openai.ChatCompletion.create(\n",
    "  model=\"gpt-4\",\n",
    "  messages=messages \n",
    ")\n",
    "\n",
    "print(messages[-1][\"content\"])\n",
    "print(chatbot_response.choices[0].message[\"content\"])"
   ]
  },
  {
   "attachments": {},
   "cell_type": "markdown",
   "metadata": {},
   "source": [
    "## Google"
   ]
  },
  {
   "cell_type": "code",
   "execution_count": 8,
   "metadata": {},
   "outputs": [
    {
     "name": "stdout",
     "output_type": "stream",
     "text": [
      "How do I make a margherita pizza?\n",
      "------------------------------------------------------------------------------------------\n",
      "Ingredients:\n",
      "\n",
      "* 1 batch of pizza dough (homemade or store-bought)\n",
      "* 1 cup pizza sauce\n",
      "* 2 cups shredded mozzarella cheese\n",
      "* 2-3 large fresh tomatoes, sliced\n",
      "* 1/2 cup fresh basil leaves, torn\n",
      "* 1/4 cup olive oil\n",
      "* Salt and pepper to taste\n",
      "\n",
      "Instructions:\n",
      "\n",
      "1. Preheat the oven to 450 degrees F (230 degrees C).\n",
      "2. If using homemade pizza dough, prepare the dough according to the recipe. If using store-bought pizza dough, let it come to room temperature for about 30 minutes before using.\n",
      "3. Roll out the pizza dough into a 12-inch circle.\n",
      "4. Spread the pizza sauce evenly over the dough.\n",
      "5. Top with the mozzarella cheese, sliced tomatoes, and basil leaves.\n",
      "6. Drizzle with olive oil and season with salt and pepper to taste.\n",
      "7. Bake the pizza for 15-20 minutes, or until the crust is golden brown and the cheese is melted and bubbly.\n",
      "8. Let the pizza cool for a few minutes before slicing and serving.\n",
      "\n",
      "Enjoy!\n"
     ]
    }
   ],
   "source": [
    "from vertexai.preview.language_models import TextGenerationModel\n",
    "\n",
    "QUESTION = \"How do I make a margherita pizza?\"\n",
    "\n",
    "model = TextGenerationModel.from_pretrained(\"text-bison@001\")\n",
    "response = model.predict(\n",
    "    QUESTION,\n",
    "    temperature=0.3,\n",
    "    max_output_tokens=256,\n",
    ")\n",
    "\n",
    "print(QUESTION)\n",
    "print(\"---\" * 30)\n",
    "print(response.text)"
   ]
  },
  {
   "attachments": {},
   "cell_type": "markdown",
   "metadata": {},
   "source": [
    "## Self-Hosted (TBD)"
   ]
  },
  {
   "attachments": {},
   "cell_type": "markdown",
   "metadata": {},
   "source": []
  }
 ],
 "metadata": {
  "kernelspec": {
   "display_name": "Python 3 (ipykernel)",
   "language": "python",
   "name": "python3"
  },
  "language_info": {
   "codemirror_mode": {
    "name": "ipython",
    "version": 3
   },
   "file_extension": ".py",
   "mimetype": "text/x-python",
   "name": "python",
   "nbconvert_exporter": "python",
   "pygments_lexer": "ipython3",
   "version": "3.11.3"
  }
 },
 "nbformat": 4,
 "nbformat_minor": 4
}
