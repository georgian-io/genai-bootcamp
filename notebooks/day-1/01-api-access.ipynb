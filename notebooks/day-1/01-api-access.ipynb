{
 "cells": [
  {
   "attachments": {},
   "cell_type": "markdown",
   "metadata": {},
   "source": [
    "# Day 1 - API Access\n",
    "\n",
    "This is just an introductory notebook to make sure you have API access. We simply test each API and ensure we're getting a response. If you run into any issues here, please reach out to us!"
   ]
  },
  {
   "cell_type": "code",
   "execution_count": 1,
   "metadata": {},
   "outputs": [
    {
     "data": {
      "text/plain": [
       "True"
      ]
     },
     "execution_count": 1,
     "metadata": {},
     "output_type": "execute_result"
    }
   ],
   "source": [
    "# Load environment variables\n",
    "import dotenv\n",
    "dotenv.load_dotenv(\"../../.env\", override=True)"
   ]
  },
  {
   "attachments": {},
   "cell_type": "markdown",
   "metadata": {},
   "source": [
    "## OpenAI\n",
    "\n",
    "Make sure that you've set your OpenAI API key in the `.env` file at the root of this repository. Or just set it in your environment directly."
   ]
  },
  {
   "attachments": {},
   "cell_type": "markdown",
   "metadata": {},
   "source": [
    "### Completion\n",
    "\n",
    "The Completion API on API just attempts to complete text that you offer it. This is not used for ChatGPT-style chats."
   ]
  },
  {
   "cell_type": "code",
   "execution_count": 3,
   "metadata": {},
   "outputs": [
    {
     "name": "stdout",
     "output_type": "stream",
     "text": [
      "There are many different types of pizza such as:\n",
      "\n",
      "1. Neapolitan Pizza – This classic Italian pizza is made with a thin, crispy crust and topped with tomatoes, mozzarella cheese, and fresh basil.\n",
      "\n",
      "2. Chicago-Style Deep Dish Pizza – This pizza is made with a thick, buttery crust and is filled with cheese, vegetables, and meats.\n",
      "\n",
      "3. New York-Style Pizza – This pizza is made with a thin, chewy crust and is usually topped with tomato sauce and mozzarella cheese.\n",
      "\n",
      "4. Sicilian Pizza – This pizza is made with a thick, focaccia-like crust and is usually topped with anchovies, tomatoes, and oregano.\n",
      "\n",
      "5. California-Style Pizza – This pizza is made with a thin, crispy crust and is usually topped with fresh vegetables, herbs, and cheese.\n",
      "\n",
      "6. Stuffed Crust Pizza – This pizza is made with a thick, doughy crust and is filled with cheese and other toppings.\n",
      "\n",
      "7. Greek Pizza – This pizza is made with a thin, crispy crust and is usually topped with feta cheese, olives, and oregano.\n",
      "\n",
      "8. White Pizza – This pizza is made with a thin, crispy crust and is\n"
     ]
    }
   ],
   "source": [
    "import openai\n",
    "\n",
    "PROMPT = \"There are many different types of pizza such as\"\n",
    "\n",
    "response = openai.Completion.create(\n",
    "  model=\"text-davinci-003\",\n",
    "  prompt=PROMPT,\n",
    "  max_tokens=256,\n",
    "  temperature=0.3\n",
    ")\n",
    "\n",
    "print(PROMPT, end='')\n",
    "print(response[\"choices\"][0][\"text\"])"
   ]
  },
  {
   "attachments": {},
   "cell_type": "markdown",
   "metadata": {},
   "source": [
    "### ChatCompletion\n",
    "\n",
    "The ChatCompletion API offers ChatGPT-style messaging."
   ]
  },
  {
   "cell_type": "code",
   "execution_count": 4,
   "metadata": {},
   "outputs": [
    {
     "name": "stdout",
     "output_type": "stream",
     "text": [
      "How do I make a margherita pizza?\n",
      "------------------------------------------------------------------------------------------\n",
      "Here's a simple recipe for making a margherita pizza:\n",
      "\n",
      "Ingredients:\n",
      "- 1 pizza dough ball\n",
      "- 1/2 cup tomato sauce\n",
      "- 8 oz. fresh mozzarella cheese, sliced\n",
      "- 1/4 cup fresh basil leaves\n",
      "- 1 tbsp. olive oil\n",
      "- Salt and pepper to taste\n",
      "\n",
      "Instructions:\n",
      "1. Preheat your oven to 450°F (230°C).\n",
      "2. Roll out the pizza dough on a floured surface until it's about 1/4 inch thick.\n",
      "3. Place the dough on a pizza pan or baking sheet.\n",
      "4. Spread the tomato sauce evenly over the dough, leaving a small border around the edges.\n",
      "5. Arrange the mozzarella slices on top of the sauce.\n",
      "6. Drizzle the olive oil over the pizza.\n",
      "7. Season with salt and pepper to taste.\n",
      "8. Bake the pizza for 10-12 minutes, or until the crust is golden brown and the cheese is melted.\n",
      "9. Remove the pizza from the oven and sprinkle the fresh basil leaves over the top.\n",
      "10. Slice and serve hot.\n",
      "\n",
      "Enjoy your homemade margherita pizza!\n"
     ]
    }
   ],
   "source": [
    "QUESTION = \"How do I make a margherita pizza?\"\n",
    "\n",
    "response = openai.ChatCompletion.create(\n",
    "  model=\"gpt-3.5-turbo\",\n",
    "  messages=[\n",
    "        {\"role\": \"system\", \"content\": \"You are a helpful assistant.\"},\n",
    "        {\"role\": \"user\", \"content\": QUESTION},\n",
    "    ],\n",
    "  max_tokens=256,\n",
    "  temperature=0.3\n",
    ")\n",
    "\n",
    "print(QUESTION)\n",
    "print(\"---\" * 30)\n",
    "print(response[\"choices\"][0][\"message\"][\"content\"])"
   ]
  },
  {
   "attachments": {},
   "cell_type": "markdown",
   "metadata": {},
   "source": [
    "## Google PaLM\n",
    "\n",
    "PaLM's text generation API is similar to the ChatCompletion API from above."
   ]
  },
  {
   "cell_type": "code",
   "execution_count": 5,
   "metadata": {},
   "outputs": [
    {
     "name": "stdout",
     "output_type": "stream",
     "text": [
      "How do I make a margherita pizza?\n",
      "------------------------------------------------------------------------------------------\n",
      "Ingredients:\n",
      "\n",
      "* 1 batch of pizza dough (homemade or store-bought)\n",
      "* 1 cup of pizza sauce\n",
      "* 1/2 cup of shredded mozzarella cheese\n",
      "* 1/4 cup of grated Parmesan cheese\n",
      "* 3-4 fresh basil leaves, torn\n",
      "* 1/4 teaspoon of red pepper flakes (optional)\n",
      "\n",
      "Instructions:\n",
      "\n",
      "1. Preheat the oven to 450 degrees F (230 degrees C).\n",
      "2. If using homemade pizza dough, prepare the dough according to the recipe. If using store-bought pizza dough, let it come to room temperature for about 30 minutes before using.\n",
      "3. Roll out the pizza dough into a 12-inch circle.\n",
      "4. Spread the pizza sauce evenly over the dough.\n",
      "5. Sprinkle the mozzarella cheese over the sauce.\n",
      "6. Tear the basil leaves into small pieces and sprinkle them over the cheese.\n",
      "7. If desired, sprinkle the red pepper flakes over the pizza.\n",
      "8. Bake the pizza for 10-12 minutes, or until the crust is golden brown and the cheese is melted and bubbly.\n",
      "9. Remove the pizza from the oven and let it cool\n"
     ]
    }
   ],
   "source": [
    "from vertexai.preview.language_models import TextGenerationModel\n",
    "\n",
    "QUESTION = \"How do I make a margherita pizza?\"\n",
    "\n",
    "model = TextGenerationModel.from_pretrained(\"text-bison@001\")\n",
    "response = model.predict(\n",
    "    QUESTION,\n",
    "    temperature=0.3,\n",
    "    max_output_tokens=256,\n",
    ")\n",
    "\n",
    "print(QUESTION)\n",
    "print(\"---\" * 30)\n",
    "print(response.text)"
   ]
  },
  {
   "attachments": {},
   "cell_type": "markdown",
   "metadata": {},
   "source": [
    "## Self-Hosted (TBD)"
   ]
  },
  {
   "attachments": {},
   "cell_type": "markdown",
   "metadata": {},
   "source": []
  }
 ],
 "metadata": {
  "kernelspec": {
   "display_name": "Python 3 (ipykernel)",
   "language": "python",
   "name": "python3"
  },
  "language_info": {
   "codemirror_mode": {
    "name": "ipython",
    "version": 3
   },
   "file_extension": ".py",
   "mimetype": "text/x-python",
   "name": "python",
   "nbconvert_exporter": "python",
   "pygments_lexer": "ipython3",
   "version": "3.11.3"
  }
 },
 "nbformat": 4,
 "nbformat_minor": 4
}
