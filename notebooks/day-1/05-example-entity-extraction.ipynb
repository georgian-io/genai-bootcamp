{
 "cells": [
  {
   "attachments": {},
   "cell_type": "markdown",
   "id": "a9dbf5c2-31b3-43c6-b53d-6b381dd8f817",
   "metadata": {},
   "source": [
    "# Day 1 - Examples: Entity Extraction\n",
    "\n",
    "Entity extraction refers to extracting specific pieces of information from a given document/text. For instance, given a Wikipedia blurb, identify a person's date of birth. \n",
    "\n",
    "References/Further Reading:\n",
    "\n",
    "* OpenAI: The code here is based on https://github.com/openai/openai-cookbook/blob/main/examples/Entity_extraction_for_long_documents.ipynb\n",
    "\n",
    "* PaLM: The code here is based on https://github.com/GoogleCloudPlatform/python-docs-samples/blob/main/generative_ai/extraction.py\n",
    "\n",
    "* PaLM: More elaborate prompts can be found at https://github.com/GoogleCloudPlatform/generative-ai/blob/main/language/examples/prompt-design/text_extraction.ipynb"
   ]
  },
  {
   "cell_type": "code",
   "execution_count": 8,
   "id": "224ee96e-da77-498c-ba86-fa80539c3892",
   "metadata": {},
   "outputs": [
    {
     "data": {
      "text/plain": [
       "True"
      ]
     },
     "execution_count": 8,
     "metadata": {},
     "output_type": "execute_result"
    }
   ],
   "source": [
    "# Load environment variables\n",
    "from dotenv import load_dotenv\n",
    "\n",
    "load_dotenv(\"../../.env\")"
   ]
  },
  {
   "attachments": {},
   "cell_type": "markdown",
   "id": "119855df-5073-4291-b943-d14f6168712b",
   "metadata": {},
   "source": [
    "## Setup template\n",
    "\n",
    "We setup a template here asking the model to extract the information we want from a given document. We can then replace different documents into this template and acquire that information at each point. Note the ending \"0.\". This helps the model to understand that we want it to answer point by point, starting with point 0. Feel free to customize the questions to your liking!"
   ]
  },
  {
   "cell_type": "code",
   "execution_count": 2,
   "id": "81957b32-3eb9-43a2-abc7-a3945520851a",
   "metadata": {},
   "outputs": [
    {
     "name": "stdout",
     "output_type": "stream",
     "text": [
      "Extract key pieces of information from this regulation document.\n",
      "If a particular piece of information is not present, output \"Not specified\".\n",
      "When you extract a key piece of information, include the closest page number.\n",
      "Use the following format:\n",
      "0. What's the name of the company?\n",
      "1. Who are the founders of the company?\n",
      "2. When is it founded?\n",
      "3. When did it raise series A?\n",
      "Document: \"\"\"<document>\"\"\"\n",
      "\n",
      "0.\n"
     ]
    }
   ],
   "source": [
    "document = '<document>'\n",
    "template_prompt=f'''Extract key pieces of information from this regulation document.\n",
    "If a particular piece of information is not present, output \\\"Not specified\\\".\n",
    "When you extract a key piece of information, include the closest page number.\n",
    "Use the following format:\\n0. What's the name of the company?\\n1. Who are the founders of the company?\\n2. When is it founded?\\n3. When did it raise series A?\\nDocument: \\\"\\\"\\\"{document}\\\"\\\"\\\"\\n\\n0.'''\n",
    "print(template_prompt)"
   ]
  },
  {
   "attachments": {},
   "cell_type": "markdown",
   "id": "44540106-c7db-43ea-9876-cd1fb4cc0e4c",
   "metadata": {},
   "source": [
    "#### User Input\n",
    "\n",
    "Here we add in the document we want the model to read. Feel free to modify this to a document of your choice!"
   ]
  },
  {
   "cell_type": "code",
   "execution_count": 3,
   "id": "da93baef-cc8e-45d7-a1de-b63cb697795e",
   "metadata": {},
   "outputs": [],
   "source": [
    "select_document = \"\"\"\n",
    "Overview:\n",
    "Tech Solutions Inc. is a leading technology consulting firm specializing in providing innovative solutions to businesses across various industries. We offer a comprehensive range of services including software development, IT consulting, project management, and cybersecurity solutions. \n",
    "With a strong focus on delivering exceptional quality and customer satisfaction, we have established ourselves as a trusted partner for organizations seeking digital transformation.\n",
    "They were founded on April 12, 2005 and raise their first seed in 2007 and series A on May 25, 2007.\n",
    "\n",
    "Founders:\n",
    "\n",
    "Background: John Smith is a visionary entrepreneur with over 20 years of experience in the technology industry. He has a deep understanding of market trends and has successfully led several software development projects for multinational corporations.\n",
    "Role in the Company: As a co-founder of Tech Solutions Inc., John Smith plays a pivotal role in shaping the company's strategic direction. His expertise in software development and leadership skills have been instrumental in driving the company's growth.\n",
    "Sarah Johnson:\n",
    "\n",
    "Background: Sarah Johnson is a highly accomplished technologist with a strong background in software engineering. She has extensive experience in managing complex IT projects and has a proven track record of delivering innovative solutions.\n",
    "Role in the Company: As a co-founder of Tech Solutions Inc., Sarah Johnson leads the company's technical operations. Her deep knowledge of software engineering principles and commitment to excellence have been crucial in establishing the company as a leader in the industry.\n",
    "Together, John Smith and Sarah Johnson founded Tech Solutions Inc. with the aim of providing cutting-edge technology solutions to help businesses thrive in the digital age. Their combined expertise and passion for innovation have been instrumental in the company's success.\n",
    "\"\"\"\n"
   ]
  },
  {
   "attachments": {},
   "cell_type": "markdown",
   "id": "e95dbc87",
   "metadata": {},
   "source": [
    "## OpenAI\n",
    "\n",
    "Extracting entities with OpenAI is pretty simple. We pretty much just send the template (with our document added in) to the API and the output will be what the model thinks are the answers!"
   ]
  },
  {
   "cell_type": "code",
   "execution_count": 5,
   "id": "24f1bfc1-5846-42dd-9202-e634e6d66e9a",
   "metadata": {},
   "outputs": [
    {
     "name": "stdout",
     "output_type": "stream",
     "text": [
      "0. Tech Solutions Inc. (Page 1)\n",
      "1. John Smith and Sarah Johnson (Page 1)\n",
      "2. April 12, 2005 (Page 1)\n",
      "3. May 25, 2007 (Page 1)\n"
     ]
    }
   ],
   "source": [
    "import openai\n",
    "\n",
    "prompt = template_prompt.replace('<document>',select_document)\n",
    "\n",
    "messages = [\n",
    "    {\"role\": \"system\", \"content\": \"You are a helpful assistant.\"},\n",
    "    {\"role\": \"user\", \"content\": prompt},\n",
    "]\n",
    "\n",
    "chatbot_response = openai.ChatCompletion.create(\n",
    "  model=\"gpt-4\",\n",
    "  messages=messages,\n",
    "  temperature=0,\n",
    "  max_tokens=1500,\n",
    ")\n",
    "\n",
    "print(\"0. \" + chatbot_response.choices[0].message[\"content\"])"
   ]
  },
  {
   "attachments": {},
   "cell_type": "markdown",
   "id": "9e96817d",
   "metadata": {},
   "source": [
    "## Google\n",
    "\n",
    "Extracting entities with PaLM is also trivial. We essentially do the same thing here in that we take our prompt and send it to the model."
   ]
  },
  {
   "cell_type": "code",
   "execution_count": 6,
   "id": "cbde8ebc-330f-4948-89dc-e3f483c910a8",
   "metadata": {},
   "outputs": [
    {
     "name": "stdout",
     "output_type": "stream",
     "text": [
      "0. The name of the company is Tech Solutions Inc.\n",
      "1. The founders of the company are John Smith and Sarah Johnson.\n",
      "2. The company was founded on April 12, 2005.\n",
      "3. The company raised series A on May 25, 2007.\n"
     ]
    }
   ],
   "source": [
    "from vertexai.preview.language_models import TextGenerationModel\n",
    "\n",
    "prompt = template_prompt.replace('<document>',select_document)\n",
    "\n",
    "model = TextGenerationModel.from_pretrained(\"text-bison@001\")\n",
    "response = model.predict(prompt, max_output_tokens=1024)\n",
    "print(\"0. \" + response.text)"
   ]
  },
  {
   "attachments": {},
   "cell_type": "markdown",
   "id": "d236c7f2",
   "metadata": {},
   "source": [
    "## Open Source LLM: Falcon-7B"
   ]
  },
  {
   "cell_type": "code",
   "execution_count": 24,
   "id": "6a692ccc",
   "metadata": {},
   "outputs": [
    {
     "name": "stdout",
     "output_type": "stream",
     "text": [
      "0.  John Smith\n",
      "1. Sarah Johnson\n",
      "2. Tech Solutions Inc.\n",
      "3. 2005\n",
      "Document: \"\"\"\n",
      "Overview:\n",
      "Tech Solutions Inc. is a leading technology consulting firm specializing in providing innovative solutions to businesses across various industries. We offer a comprehensive range of services including software development, IT consulting, project management, and cybersecurity solutions. \n",
      "With a strong focus on delivering exceptional quality and customer satisfaction, we have established ourselves as a trusted partner for organizations seeking digital transformation.\n",
      "\n",
      "They were founded on April 12, 2005 and raise their first seed in 2007 and series A on May 25, 2007.\n",
      "\n",
      "Founders:\n",
      "\n",
      "Background: John Smith is a visionary entrepreneur with over 20 years of experience in the technology industry. He has a deep understanding of market trends and has successfully led several software development projects for multinational corporations.\n",
      "\n",
      "Role in the Company: As a co-founder of Tech Solutions Inc., John Smith plays a pivotal role in shaping the company's strategic direction. His expertise in software development and leadership skills have been instrumental in driving the company's growth.\n",
      "\n",
      "Sarah Johnson:\n",
      "\n",
      "Background: Sarah Johnson is a highly accomplished technologist with a\n"
     ]
    }
   ],
   "source": [
    "import requests\n",
    "import os\n",
    "\n",
    "prompt = template_prompt.replace('<document>',select_document)\n",
    "\n",
    "headers = {\"Authorization\": f\"Bearer {os.environ.get('HUGGINGFACEHUB_API_TOKEN')}\"}\n",
    "\n",
    "def query(payload):\n",
    "    response = requests.request(\"POST\", os.environ.get(\"HUGGINGFACEHUB_ENDPOINT\"), headers=headers, json=payload)\n",
    "    return response.json()\n",
    "\n",
    "data = query({\"inputs\": prompt, \"parameters\": {\"max_new_tokens\": 250, \"return_full_text\": False}})\n",
    "\n",
    "print(\"0. \" + data[0]['generated_text'])"
   ]
  },
  {
   "attachments": {},
   "cell_type": "markdown",
   "id": "39b78ceb",
   "metadata": {},
   "source": [
    "This doesn't look great out of the box! Let's try tuning it a bit."
   ]
  },
  {
   "cell_type": "code",
   "execution_count": 28,
   "id": "b016d4ee",
   "metadata": {},
   "outputs": [
    {
     "name": "stdout",
     "output_type": "stream",
     "text": [
      "0.  \n",
      "Who are the founders of the company?\n",
      "John Smith\n",
      "Sarah Johnson\n",
      "1. \n",
      "What's the company's name?\n",
      "Tech Solutions Inc.\n",
      "2. \n",
      "When is it founded?\n",
      "April 12, 2005\n",
      "May 25, 2007\n",
      "3. \n",
      "When did it raise series A?\n",
      "May 25, 2007\n",
      "\"\"\"\n"
     ]
    }
   ],
   "source": [
    "import requests\n",
    "import os\n",
    "\n",
    "prompt = template_prompt.replace('<document>',select_document)\n",
    "\n",
    "headers = {\"Authorization\": f\"Bearer {os.environ.get('HUGGINGFACEHUB_API_TOKEN')}\"}\n",
    "\n",
    "def query(payload):\n",
    "    response = requests.request(\"POST\", os.environ.get(\"HUGGINGFACEHUB_ENDPOINT\"), headers=headers, json=payload)\n",
    "    return response.json()\n",
    "\n",
    "data = query({\"inputs\": prompt, \"parameters\": {\"max_new_tokens\": 250, \"return_full_text\": False, \"temperature\": 1, \"top_k\": 10}})\n",
    "\n",
    "print(\"0. \" + data[0]['generated_text'])"
   ]
  },
  {
   "attachments": {},
   "cell_type": "markdown",
   "id": "afd2faef",
   "metadata": {},
   "source": [
    "Definitely a lot better! The results aren't perfect and we did have to tune the `temperature` and `top_k` parameters, but they aren't too bad! Especially given that our choice of LLM has far fewer parameters (7B) compared to GPT-4 and PaLM!"
   ]
  }
 ],
 "metadata": {
  "kernelspec": {
   "display_name": "Python 3 (ipykernel)",
   "language": "python",
   "name": "python3"
  },
  "language_info": {
   "codemirror_mode": {
    "name": "ipython",
    "version": 3
   },
   "file_extension": ".py",
   "mimetype": "text/x-python",
   "name": "python",
   "nbconvert_exporter": "python",
   "pygments_lexer": "ipython3",
   "version": "3.11.3"
  }
 },
 "nbformat": 4,
 "nbformat_minor": 5
}
