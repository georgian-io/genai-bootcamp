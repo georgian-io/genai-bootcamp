{
 "cells": [
  {
   "attachments": {},
   "cell_type": "markdown",
   "id": "a9dbf5c2-31b3-43c6-b53d-6b381dd8f817",
   "metadata": {},
   "source": [
    "# Day 1 - Examples: Entity Extraction\n",
    "\n",
    "OpenAI: A simplified version of https://github.com/openai/openai-cookbook/blob/main/examples/Entity_extraction_for_long_documents.ipynb\n",
    "\n",
    "PaLM: Based on https://github.com/GoogleCloudPlatform/python-docs-samples/blob/main/generative_ai/extraction.py"
   ]
  },
  {
   "cell_type": "code",
   "execution_count": 1,
   "id": "224ee96e-da77-498c-ba86-fa80539c3892",
   "metadata": {},
   "outputs": [
    {
     "data": {
      "text/plain": [
       "True"
      ]
     },
     "execution_count": 1,
     "metadata": {},
     "output_type": "execute_result"
    }
   ],
   "source": [
    "# Load environment variables\n",
    "from dotenv import load_dotenv\n",
    "\n",
    "load_dotenv(\"../../.env\")"
   ]
  },
  {
   "attachments": {},
   "cell_type": "markdown",
   "id": "119855df-5073-4291-b943-d14f6168712b",
   "metadata": {},
   "source": [
    "## Setup a prompt asking for entity extraction"
   ]
  },
  {
   "cell_type": "code",
   "execution_count": 2,
   "id": "81957b32-3eb9-43a2-abc7-a3945520851a",
   "metadata": {},
   "outputs": [
    {
     "name": "stdout",
     "output_type": "stream",
     "text": [
      "Extract key pieces of information from this regulation document.\n",
      "If a particular piece of information is not present, output \"Not specified\".\n",
      "When you extract a key piece of information, include the closest page number.\n",
      "Use the following format:\n",
      "0. What's the name of the company?\n",
      "1. Who are the founders of the company?\n",
      "2. When is it founded?\n",
      "3. When did it raise series A?\n",
      "Document: \"\"\"<document>\"\"\"\n",
      "\n",
      "0.\n"
     ]
    }
   ],
   "source": [
    "document = '<document>'\n",
    "template_prompt=f'''Extract key pieces of information from this regulation document.\n",
    "If a particular piece of information is not present, output \\\"Not specified\\\".\n",
    "When you extract a key piece of information, include the closest page number.\n",
    "Use the following format:\\n0. What's the name of the company?\\n1. Who are the founders of the company?\\n2. When is it founded?\\n3. When did it raise series A?\\nDocument: \\\"\\\"\\\"{document}\\\"\\\"\\\"\\n\\n0.'''\n",
    "print(template_prompt)"
   ]
  },
  {
   "attachments": {},
   "cell_type": "markdown",
   "id": "44540106-c7db-43ea-9876-cd1fb4cc0e4c",
   "metadata": {},
   "source": [
    "## Replace the relevant document in the prompt"
   ]
  },
  {
   "cell_type": "code",
   "execution_count": 3,
   "id": "da93baef-cc8e-45d7-a1de-b63cb697795e",
   "metadata": {},
   "outputs": [],
   "source": [
    "select_document = \"\"\"\n",
    "Overview:\n",
    "Tech Solutions Inc. is a leading technology consulting firm specializing in providing innovative solutions to businesses across various industries. We offer a comprehensive range of services including software development, IT consulting, project management, and cybersecurity solutions. \n",
    "With a strong focus on delivering exceptional quality and customer satisfaction, we have established ourselves as a trusted partner for organizations seeking digital transformation.\n",
    "They were founded on April 12, 2005 and raise their first seed in 2007 and series A on May 25, 2007.\n",
    "\n",
    "Founders:\n",
    "\n",
    "Background: John Smith is a visionary entrepreneur with over 20 years of experience in the technology industry. He has a deep understanding of market trends and has successfully led several software development projects for multinational corporations.\n",
    "Role in the Company: As a co-founder of Tech Solutions Inc., John Smith plays a pivotal role in shaping the company's strategic direction. His expertise in software development and leadership skills have been instrumental in driving the company's growth.\n",
    "Sarah Johnson:\n",
    "\n",
    "Background: Sarah Johnson is a highly accomplished technologist with a strong background in software engineering. She has extensive experience in managing complex IT projects and has a proven track record of delivering innovative solutions.\n",
    "Role in the Company: As a co-founder of Tech Solutions Inc., Sarah Johnson leads the company's technical operations. Her deep knowledge of software engineering principles and commitment to excellence have been crucial in establishing the company as a leader in the industry.\n",
    "Together, John Smith and Sarah Johnson founded Tech Solutions Inc. with the aim of providing cutting-edge technology solutions to help businesses thrive in the digital age. Their combined expertise and passion for innovation have been instrumental in the company's success.\n",
    "\"\"\"\n"
   ]
  },
  {
   "attachments": {},
   "cell_type": "markdown",
   "id": "e95dbc87",
   "metadata": {},
   "source": [
    "## OpenAI"
   ]
  },
  {
   "cell_type": "code",
   "execution_count": 5,
   "id": "24f1bfc1-5846-42dd-9202-e634e6d66e9a",
   "metadata": {},
   "outputs": [
    {
     "name": "stdout",
     "output_type": "stream",
     "text": [
      "0. What's the name of the company?\n",
      "Tech Solutions Inc.\n",
      "\n",
      "1. Who are the founders of the company?\n",
      "John Smith and Sarah Johnson (Page 1)\n",
      "\n",
      "2. When is it founded?\n",
      "April 12, 2005 (Page 1)\n",
      "\n",
      "3. When did it raise series A?\n",
      "May 25, 2007 (Page 1)\n"
     ]
    }
   ],
   "source": [
    "import openai\n",
    "\n",
    "prompt = template_prompt.replace('<document>',select_document)\n",
    "\n",
    "response = openai.Completion.create(\n",
    "    model='text-davinci-003', \n",
    "    prompt=prompt,\n",
    "    temperature=0,\n",
    "    max_tokens=1500,\n",
    "    top_p=1,\n",
    "    frequency_penalty=0,\n",
    "    presence_penalty=0\n",
    ")\n",
    "print(\"0.\" + response['choices'][0]['text'])"
   ]
  },
  {
   "attachments": {},
   "cell_type": "markdown",
   "id": "9e96817d",
   "metadata": {},
   "source": [
    "## PaLM"
   ]
  },
  {
   "cell_type": "code",
   "execution_count": 9,
   "id": "cbde8ebc-330f-4948-89dc-e3f483c910a8",
   "metadata": {},
   "outputs": [
    {
     "name": "stdout",
     "output_type": "stream",
     "text": [
      "The name of the company is Tech Solutions Inc.\n",
      "1. The founders of the company are John Smith and Sarah Johnson.\n",
      "2. The company was founded on April 12, 2005.\n",
      "3. The company raised series A on May 25, 2007.\n"
     ]
    }
   ],
   "source": [
    "from vertexai.preview.language_models import TextGenerationModel\n",
    "\n",
    "prompt = template_prompt.replace('<document>',select_document)\n",
    "\n",
    "model = TextGenerationModel.from_pretrained(\"text-bison@001\")\n",
    "response = model.predict(prompt, max_output_tokens=1024)\n",
    "print(response.text)"
   ]
  }
 ],
 "metadata": {
  "kernelspec": {
   "display_name": "Python 3 (ipykernel)",
   "language": "python",
   "name": "python3"
  },
  "language_info": {
   "codemirror_mode": {
    "name": "ipython",
    "version": 3
   },
   "file_extension": ".py",
   "mimetype": "text/x-python",
   "name": "python",
   "nbconvert_exporter": "python",
   "pygments_lexer": "ipython3",
   "version": "3.11.3"
  }
 },
 "nbformat": 4,
 "nbformat_minor": 5
}
