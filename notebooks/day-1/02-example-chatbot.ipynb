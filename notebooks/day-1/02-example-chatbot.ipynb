{
 "cells": [
  {
   "attachments": {},
   "cell_type": "markdown",
   "id": "a9dbf5c2-31b3-43c6-b53d-6b381dd8f817",
   "metadata": {},
   "source": [
    "# Day 1 - Examples: Chatbot\n",
    "\n",
    "Our first example of using an LLM is a chatbot. Think of this as a recreation of ChatGPT! "
   ]
  },
  {
   "cell_type": "code",
   "execution_count": 1,
   "id": "224ee96e-da77-498c-ba86-fa80539c3892",
   "metadata": {},
   "outputs": [
    {
     "data": {
      "text/plain": [
       "True"
      ]
     },
     "execution_count": 1,
     "metadata": {},
     "output_type": "execute_result"
    }
   ],
   "source": [
    "# Load environment variables\n",
    "from dotenv import load_dotenv\n",
    "\n",
    "load_dotenv(\"../../.env\")"
   ]
  },
  {
   "attachments": {},
   "cell_type": "markdown",
   "id": "4005eaaa",
   "metadata": {},
   "source": [
    "In this notebook, we used the chat APIs (ChatCompletion for OpenAI and ChatModel for PaLM) to build a simple chatbot. This is the same usecase as ChatGPT."
   ]
  },
  {
   "attachments": {},
   "cell_type": "markdown",
   "id": "339fc768",
   "metadata": {},
   "source": [
    "## OpenAI"
   ]
  },
  {
   "attachments": {},
   "cell_type": "markdown",
   "id": "119855df-5073-4291-b943-d14f6168712b",
   "metadata": {},
   "source": [
    "#### 1. Start the chatbot"
   ]
  },
  {
   "cell_type": "code",
   "execution_count": 6,
   "id": "81957b32-3eb9-43a2-abc7-a3945520851a",
   "metadata": {},
   "outputs": [
    {
     "name": "stdout",
     "output_type": "stream",
     "text": [
      "User: Hello!\n",
      "Assistant: Hello! How can I help you today?\n"
     ]
    }
   ],
   "source": [
    "import openai\n",
    "\n",
    "messages = [\n",
    "    {\"role\": \"user\", \"content\": \"Hello!\"},\n",
    "]\n",
    "\n",
    "chatbot_response = openai.ChatCompletion.create(\n",
    "  model=\"gpt-4\",\n",
    "  messages=messages \n",
    ")\n",
    "\n",
    "print(\"User: \" + messages[-1][\"content\"])\n",
    "print(\"Assistant: \" + chatbot_response.choices[0].message[\"content\"])\n"
   ]
  },
  {
   "attachments": {},
   "cell_type": "markdown",
   "id": "44540106-c7db-43ea-9876-cd1fb4cc0e4c",
   "metadata": {},
   "source": [
    "#### 2. Respond to the chatbot"
   ]
  },
  {
   "cell_type": "code",
   "execution_count": 8,
   "id": "24f1bfc1-5846-42dd-9202-e634e6d66e9a",
   "metadata": {},
   "outputs": [
    {
     "name": "stdout",
     "output_type": "stream",
     "text": [
      "User: How do I make a chatbot with OpenAI API?\n",
      "Assistant: To create a chatbot using OpenAI API, you will need to follow these steps:\n",
      "\n",
      "1. Access the API Key: First, you'll need an API key to use OpenAI's GPT-3. You can obtain one by signing up on their website (https://beta.openai.com/signup/) and checking if you can access the API. Keep in mind that there may be a waitlist.\n",
      "\n",
      "2. Install OpenAI Python library: Install the required library for Python by running `pip install openai`.\n",
      "\n",
      "3. Import the library: In your Python code, use `import openai` to import the library.\n",
      "\n",
      "4. Set up your API key: Use the `openai.api_key` attribute to set your API key:\n",
      "\n",
      "```python\n",
      "import openai\n",
      "openai.api_key = \"your-api-key\"\n",
      "```\n",
      "\n",
      "5. Choose an API \"engine\": The OpenAI API provides a few engines (e.g., \"davinci-codex\", \"text-davinci-002\") that vary in response time, cost, and features. Choose an engine according to your requirements.\n",
      "\n",
      "6. Send a prompt to the engine: Create a function that sends a prompt to the engine and receives a response.\n",
      "\n",
      "```python\n",
      "def ask_gpt_3(prompt, engine=\"text-davinci-002\"):\n",
      "    response = openai.Completion.create(\n",
      "        engine=engine,\n",
      "        prompt=prompt,\n",
      "        max_tokens=150,\n",
      "        n=1,\n",
      "        stop=None,\n",
      "        temperature=0.5\n",
      "    )\n",
      "    return response.choices[0].text.strip()\n",
      "```\n",
      "\n",
      "In this example, we're using the `text-davinci-002` engine and setting some parameters like token length, number of responses, and temperature.\n",
      "\n",
      "7. Implement the chatbot: You can now use the `ask_gpt_3` function to interact with the GPT-3 model.\n",
      "\n",
      "```python\n",
      "def chatbot():\n",
      "    while True:\n",
      "        prompt = input(\"You: \")\n",
      "        if prompt.lower() in [\"quit\", \"exit\", \"bye\"]:\n",
      "            print(\"Chatbot: Goodbye!\")\n",
      "            break\n",
      "        response = ask_gpt_3(prompt)\n",
      "        print(f\"Chatbot: {response}\")\n",
      "```\n",
      "\n",
      "8. Test the chatbot: Run the chatbot function and interact with it.\n",
      "\n",
      "```python\n",
      "chatbot()\n",
      "```\n",
      "\n",
      "That's it! You have now created a simple text-based chatbot that uses OpenAI's GPT-3 as the underlying engine. Note that there are more options and parameters for customizing the chatbot's behavior, so be sure to check the API documentation for further details.\n"
     ]
    }
   ],
   "source": [
    "messages.append(chatbot_response.choices[0].message)\n",
    "\n",
    "messages.append({\"role\": \"user\", \"content\": \"How do I make a chatbot with OpenAI API?\"})\n",
    "\n",
    "chatbot_response = openai.ChatCompletion.create(\n",
    "  model=\"gpt-4\",\n",
    "  messages=messages \n",
    ")\n",
    "\n",
    "print(\"User: \" + messages[-1][\"content\"])\n",
    "print(\"Assistant: \" + chatbot_response.choices[0].message[\"content\"])"
   ]
  },
  {
   "attachments": {},
   "cell_type": "markdown",
   "id": "356e07db-f89d-4bc6-8db0-bce80cc22ec2",
   "metadata": {},
   "source": [
    "#### 3. Chatbot in Action"
   ]
  },
  {
   "cell_type": "code",
   "execution_count": 9,
   "id": "d775403d-86ff-4a79-af9f-4d64d399d0c2",
   "metadata": {},
   "outputs": [
    {
     "name": "stdout",
     "output_type": "stream",
     "text": [
      "User: What are the different kinds of pizza?\n",
      "Assistant: There are many different kinds of pizza, which can be categorized by their crust, toppings, and style. Some popular types include:\n",
      "\n",
      "1. Neapolitan pizza: Originating from Naples, Italy, this pizza is known for its thin and chewy crust, simple tomato sauce, fresh mozzarella, and basil leaves.\n",
      "\n",
      "2. Margherita pizza: A classic Neapolitan pizza topped with tomato sauce, fresh mozzarella, basil, and olive oil.\n",
      "\n",
      "3. Sicilian pizza: A thick-crusted, square-shaped pizza with a light, airy interior, often topped with tomato sauce, cheese, and various toppings.\n",
      "\n",
      "4. New York-style pizza: Known for its thin, foldable crust, New York-style pizza is topped with a simple tomato sauce and mozzarella cheese.\n",
      "\n",
      "5. Chicago deep-dish pizza: A thick, buttery crust filled with layers of cheese, toppings, and chunky tomato sauce, baked in a deep pan.\n",
      "\n",
      "6. Detroit-style pizza: A square-shaped, deep-dish pizza with a thick, crispy crust, topped with cheese, toppings, and tomato sauce drizzled on top.\n",
      "\n",
      "7. California-style pizza: Known for its unique, gourmet toppings and thin crust, often including fresh, locally-sourced ingredients.\n",
      "\n",
      "8. St. Louis-style pizza: A thin, cracker-like crust topped with a unique blend of cheeses called Provel, and often cut into squares.\n",
      "\n",
      "9. Greek pizza: Features a thicker, chewy crust, often flavored with olive oil and herbs, with toppings that can include feta cheese, Kalamata olives, and various Mediterranean ingredients.\n",
      "\n",
      "10. Roman pizza: Known for its thin, crispy crust and minimalist toppings, often focused on high-quality ingredients.\n",
      "\n",
      "11. Hawaiian pizza: Topped with tomato sauce, cheese, ham, and pineapple, Hawaiian pizza is a controversial favorite among pizza enthusiasts.\n",
      "\n",
      "12. BBQ Chicken pizza: Topped with barbecue sauce, grilled chicken, onions, and cheese, this California-inspired pizza is a popular non-traditional option.\n",
      "\n",
      "These are just a few examples; many variations and regional specialties exist, and the possibilities for pizza ingredients and combinations are virtually endless.\n",
      "User: Which is the best one?\n",
      "Assistant: Determining the \"best\" pizza is subjective, as it depends on personal taste and preferences. Some people might prefer a classic Neapolitan Margherita pizza, while others might enjoy a hearty Chicago deep-dish pizza or a New York-style slice.\n",
      "\n",
      "To find the best pizza for yourself, try out different styles, crusts, and toppings to discover the combination that appeals most to your taste buds.\n"
     ]
    }
   ],
   "source": [
    "messages = []\n",
    "\n",
    "for i in range(2):\n",
    "    val = input(\"User: \")\n",
    "    messages.append({\"role\": \"user\", \"content\": val})\n",
    "\n",
    "    chatbot_response = openai.ChatCompletion.create(\n",
    "      model=\"gpt-4\",\n",
    "      messages=messages \n",
    "    ).choices[0].message\n",
    "\n",
    "    messages.append(chatbot_response)\n",
    "    chatbot_content = chatbot_response[\"content\"]\n",
    "    print(\"User: \" + val)\n",
    "    print(\"Assistant: \" + chatbot_content)"
   ]
  },
  {
   "attachments": {},
   "cell_type": "markdown",
   "id": "f3992ac4",
   "metadata": {},
   "source": [
    "## PaLM"
   ]
  },
  {
   "attachments": {},
   "cell_type": "markdown",
   "id": "99ba62dd",
   "metadata": {},
   "source": [
    "#### 1. Start the chatbot"
   ]
  },
  {
   "cell_type": "code",
   "execution_count": 21,
   "id": "cbde8ebc-330f-4948-89dc-e3f483c910a8",
   "metadata": {},
   "outputs": [
    {
     "name": "stdout",
     "output_type": "stream",
     "text": [
      "User: Hello world!\n",
      "Assistant: Hello! How can I help you today?\n"
     ]
    }
   ],
   "source": [
    "from vertexai.preview.language_models import ChatModel, InputOutputTextPair\n",
    "\n",
    "chat_model = ChatModel.from_pretrained(\"chat-bison@001\")\n",
    "\n",
    "chat = chat_model.start_chat(\n",
    "    context=\"You are a helpful chat assistant.\",\n",
    ")\n",
    "\n",
    "message = \"Hello world!\"\n",
    "response = chat.send_message(message)\n",
    "print(f\"User: {message}\")\n",
    "print(f\"Assistant: {response.text}\")"
   ]
  },
  {
   "attachments": {},
   "cell_type": "markdown",
   "id": "4eb98370",
   "metadata": {},
   "source": [
    "#### 2. Respond to the chatbot"
   ]
  },
  {
   "cell_type": "code",
   "execution_count": 22,
   "id": "a9b37553",
   "metadata": {},
   "outputs": [
    {
     "name": "stdout",
     "output_type": "stream",
     "text": [
      "User: How do I make a chatbot with Google PaLM?\n",
      "Assistant: To make a chatbot with Google PaLM, you will need to have a basic understanding of Python and the Google Cloud Platform. You can find a tutorial on how to do this here: https://cloud.google.com/ai-platform/natural-language/docs/how-to/create-chatbot-with-palm\n",
      "\n",
      "Once you have a basic understanding of how to use Google PaLM, you can start building your chatbot. The first step is to create a new project in the Google Cloud Platform. Once you have created a project, you can create a new service account and download the JSON key file.\n",
      "\n",
      "\n"
     ]
    }
   ],
   "source": [
    "message = \"How do I make a chatbot with Google PaLM?\"\n",
    "\n",
    "response = chat.send_message(message)\n",
    "print(f\"User: {message}\")\n",
    "print(f\"Assistant: {response.text}\")"
   ]
  },
  {
   "attachments": {},
   "cell_type": "markdown",
   "id": "0693b514",
   "metadata": {},
   "source": [
    "#### 3. Chatbot in Action"
   ]
  },
  {
   "cell_type": "code",
   "execution_count": 25,
   "id": "91659c42",
   "metadata": {},
   "outputs": [
    {
     "name": "stdout",
     "output_type": "stream",
     "text": [
      "User: What are the different types of pizzas?\n",
      "Assistant: There are many different types of pizzas, but some of the most popular include:\n",
      "\n",
      "* Neapolitan pizza: This type of pizza is made with a thin crust and is typically topped with tomatoes, mozzarella cheese, and fresh basil. It is named after the city of Naples, Italy, where it originated.\n",
      "* Sicilian pizza: This type of pizza is made with a thick crust and is often topped with onions, anchovies, and tomatoes. It is named after the island of Sicily, Italy, where it originated.\n",
      "* American-style pizza: This type of pizza is typically made with a thicker crust and is often topped with a variety of ingredients, such as pepperoni, sausage, mushrooms, and peppers.\n",
      "* Gluten-free pizza: This type of pizza is made with gluten-free flour and is suitable for people with celiac disease or gluten intolerance.\n",
      "* Vegetarian pizza: This type of pizza is made without meat and is often topped with vegetables, such as mushrooms, peppers, and onions.\n",
      "* Vegan pizza: This type of pizza is made without any animal products, including cheese. It is often topped with vegetables, tofu, or seitan.\n",
      "* Deep dish pizza: This type of pizza is made with a thick crust and is often topped with a variety of ingredients, such as pepperoni, sausage, mushrooms, and peppers. It is then baked in a deep dish pan, which gives it its characteristic shape.\n",
      "* Thin crust pizza: This type of pizza is made with a thin crust and is often topped with a variety of ingredients, such as pepperoni, sausage, mushrooms, and peppers. It is then baked in a regular pizza pan, which gives it its characteristic shape.\n",
      "* Stuffed crust pizza: This type of pizza has a thick crust that is stuffed with cheese and other ingredients, such as pepperoni, sausage, mushrooms, and peppers. It is then baked in a regular pizza pan, which gives it its characteristic shape.\n",
      "* White pizza: This type of pizza is made with a white sauce, such as a béchamel sauce, and is often topped with cheese and vegetables.\n",
      "* Hawaiian pizza: This type of pizza is made with a tomato sauce and is topped with ham and pineapple.\n",
      "* BBQ chicken pizza: This type of pizza is made with a tomato sauce and is topped with chicken, barbecue sauce, and cheese.\n",
      "* Meat lovers pizza: This type of pizza is made with a tomato sauce and is topped with a variety of meats, such as\n",
      "User: Which one is the best?\n",
      "Assistant: The best type of pizza is the one that you enjoy the most. There are many different types of pizzas available, so it is important to find one that suits your taste. If you are looking for a traditional pizza, then a Neapolitan pizza is a good option. If you prefer a thicker crust, then a Sicilian pizza may be more to your liking. And if you are looking for a gluten-free option, there are many gluten-free pizzas available. Ultimately, the best kind of pizza is the one that you enjoy eating.\n",
      "\n",
      "Here are some of the most popular types of pizza:\n",
      "\n",
      "* Neapolitan pizza: This type of pizza is made with a thin crust and is typically topped with tomatoes, mozzarella cheese, and fresh basil. It is named after the city of Naples, Italy, where it originated.\n",
      "* Sicilian pizza: This type of pizza is made with a thick crust and is often topped with onions, anchovies, and tomatoes. It is named after the island of Sicily, Italy, where it originated.\n",
      "* American-style pizza: This type of pizza is typically made with a thicker crust and is often topped with a variety of ingredients, such as pepperoni, sausage, mushrooms, and peppers.\n",
      "* Gluten-free pizza: This type of pizza is made with gluten-free flour and is suitable for people with celiac disease or gluten intolerance.\n",
      "* Vegetarian pizza: This type of pizza is made without meat and is often topped with vegetables, such as mushrooms, peppers, and onions.\n",
      "* Vegan pizza: This type of pizza is made without any animal products, including cheese. It is often topped with vegetables, tofu, or seitan.\n",
      "* Deep dish pizza: This type of pizza is made with a thick crust and is often topped with a variety of ingredients, such as pepperoni, sausage, mushrooms, and peppers. It is then baked in a deep dish pan, which gives it its characteristic shape.\n",
      "* Thin crust pizza: This type of pizza is made with a thin crust and is often topped with a variety of ingredients, such as pepperoni, sausage, mushrooms, and peppers. It is then baked in a regular pizza pan, which gives it its characteristic shape.\n",
      "* Stuffed crust pizza: This type of pizza has a thick crust that is stuffed with cheese and other ingredients, such as pepperoni, sausage, mushrooms, and peppers. It is then baked in a regular pizza pan, which gives\n"
     ]
    }
   ],
   "source": [
    "messages = []\n",
    "\n",
    "for i in range(2):\n",
    "    val = input(\"User: \")\n",
    "    messages.append({\"role\": \"user\", \"content\": val})\n",
    "\n",
    "    response = chat.send_message(val, max_output_tokens=512)\n",
    "\n",
    "    messages.append(response.text)\n",
    "    print(\"User: \" + val)\n",
    "    print(\"Assistant: \" + response.text)\n",
    "    \n",
    "    "
   ]
  }
 ],
 "metadata": {
  "kernelspec": {
   "display_name": "Python 3 (ipykernel)",
   "language": "python",
   "name": "python3"
  },
  "language_info": {
   "codemirror_mode": {
    "name": "ipython",
    "version": 3
   },
   "file_extension": ".py",
   "mimetype": "text/x-python",
   "name": "python",
   "nbconvert_exporter": "python",
   "pygments_lexer": "ipython3",
   "version": "3.11.3"
  }
 },
 "nbformat": 4,
 "nbformat_minor": 5
}
