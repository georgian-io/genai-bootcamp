{
 "cells": [
  {
   "cell_type": "markdown",
   "id": "a9dbf5c2-31b3-43c6-b53d-6b381dd8f817",
   "metadata": {},
   "source": [
    "# Day 1 - Chatbot example"
   ]
  },
  {
   "cell_type": "markdown",
   "id": "fbde90ea-f16e-430c-935d-907fcbda4852",
   "metadata": {},
   "source": [
    "## Load OpenAI API key from .env"
   ]
  },
  {
   "cell_type": "code",
   "execution_count": 4,
   "id": "224ee96e-da77-498c-ba86-fa80539c3892",
   "metadata": {},
   "outputs": [
    {
     "data": {
      "text/plain": [
       "True"
      ]
     },
     "execution_count": 4,
     "metadata": {},
     "output_type": "execute_result"
    }
   ],
   "source": [
    "from dotenv import load_dotenv\n",
    "\n",
    "load_dotenv(\"../../.env\")"
   ]
  },
  {
   "cell_type": "markdown",
   "id": "119855df-5073-4291-b943-d14f6168712b",
   "metadata": {},
   "source": [
    "## Start the chatbot"
   ]
  },
  {
   "cell_type": "code",
   "execution_count": 8,
   "id": "81957b32-3eb9-43a2-abc7-a3945520851a",
   "metadata": {},
   "outputs": [
    {
     "name": "stdout",
     "output_type": "stream",
     "text": [
      "{\n",
      "  \"content\": \"Hello! How can I assist you today?\",\n",
      "  \"role\": \"assistant\"\n",
      "}\n"
     ]
    }
   ],
   "source": [
    "import openai\n",
    "\n",
    "messages = [\n",
    "    {\"role\": \"user\", \"content\": \"Hello!\"},\n",
    "]\n",
    "\n",
    "chatbot_response = openai.ChatCompletion.create(\n",
    "  model=\"gpt-3.5-turbo\",\n",
    "  messages=messages \n",
    ")\n",
    "\n",
    "print(chatbot_response.choices[0].message)\n"
   ]
  },
  {
   "cell_type": "markdown",
   "id": "44540106-c7db-43ea-9876-cd1fb4cc0e4c",
   "metadata": {},
   "source": [
    "## Add response to the messages and type the response"
   ]
  },
  {
   "cell_type": "code",
   "execution_count": 9,
   "id": "24f1bfc1-5846-42dd-9202-e634e6d66e9a",
   "metadata": {},
   "outputs": [
    {
     "name": "stdout",
     "output_type": "stream",
     "text": [
      "{\n",
      "  \"content\": \"To create a chatbot with OpenAI API, follow these steps:\\n\\n1. Create an account with OpenAI and log in to your dashboard.\\n2. Under the API Access section, create a new API key.\\n3. Install an API client library for your preferred programming language. For example, you can use Python by installing the `openai` package using pip.\\n4. Import the OpenAI library and use the API key to authenticate.\\n5. Use the `create_completion` function to generate text responses. You can provide the initial message as the prompt and use the `max_tokens` parameter to limit the length of the response.\\n\\nFor example, in Python:\\n\\n```python\\nimport openai\\nopenai.api_key = \\\"your_api_key\\\"\\n\\ndef generate_response(prompt):\\n    response = openai.Completion.create(\\n        engine=\\\"davinci\\\", \\n        prompt=prompt, \\n        max_tokens=100, \\n        n=1, \\n        stop=None, \\n        temperature=0.7\\n    )\\n    return response.choices[0].text.strip()\\n```\\n\\nIn this example, we are using the `davinci` engine, which is the most advanced model available. Other engines are also available depending on your needs and budget.\\n\\nOnce you have generated the response, you can display it to the user and use it as input for the next round of conversation. You can also save context information to keep track of the conversation history.\\n\\nNote that training a chatbot requires a large amount of high-quality data, so you may need to invest significant resources in collecting and annotating your data.\",\n",
      "  \"role\": \"assistant\"\n",
      "}\n"
     ]
    }
   ],
   "source": [
    "messages.append(chatbot_response.choices[0].message)\n",
    "\n",
    "messages.append({\"role\": \"user\", \"content\": \"How do I make a chatbot with OpenAI API?\"})\n",
    "\n",
    "chatbot_response = openai.ChatCompletion.create(\n",
    "  model=\"gpt-3.5-turbo\",\n",
    "  messages=messages \n",
    ")\n",
    "\n",
    "print(chatbot_response.choices[0].message)"
   ]
  },
  {
   "cell_type": "markdown",
   "id": "356e07db-f89d-4bc6-8db0-bce80cc22ec2",
   "metadata": {},
   "source": [
    "## Simulating this simply"
   ]
  },
  {
   "cell_type": "code",
   "execution_count": null,
   "id": "d775403d-86ff-4a79-af9f-4d64d399d0c2",
   "metadata": {},
   "outputs": [
    {
     "name": "stdin",
     "output_type": "stream",
     "text": [
      "User:  Hello\n"
     ]
    },
    {
     "name": "stdout",
     "output_type": "stream",
     "text": [
      "Assistant: Hello! How may I assist you today?\n"
     ]
    },
    {
     "name": "stdin",
     "output_type": "stream",
     "text": [
      "User:  How are you today?\n"
     ]
    },
    {
     "name": "stdout",
     "output_type": "stream",
     "text": [
      "Assistant: As an AI language model, I do not have personal feelings, but I am functioning well. Thank you for asking. How may I assist you with your query today?\n"
     ]
    },
    {
     "name": "stdin",
     "output_type": "stream",
     "text": [
      "User:  I would like to know how to make chatbot with OpenAI\n"
     ]
    },
    {
     "name": "stdout",
     "output_type": "stream",
     "text": [
      "Assistant: Sure, I can help you. Here are the steps to make a chatbot using OpenAI:\n",
      "\n",
      "1. Sign up for the OpenAI API Beta program at https://beta.openai.com/signup/. Wait for the approval email from OpenAI.\n",
      "\n",
      "2. Install the OpenAI API package by running the following command in terminal or command prompt:\n",
      "   ```\n",
      "   pip install openai\n",
      "   ```\n",
      "\n",
      "3. Create an OpenAI API key in your account dashboard. Note down the key as you will need it later for authentication.\n",
      "\n",
      "4. Import the OpenAI package and authenticate with your API key using the following script:\n",
      "   ```python\n",
      "   import openai_secret_manager\n",
      "\n",
      "   assert \"openai\" in openai_secret_manager.get_services()\n",
      "   secrets = openai_secret_manager.get_secret(\"openai\")\n",
      "\n",
      "   import openai\n",
      "   openai.api_key = secrets[\"api_key\"]\n",
      "   ```\n",
      "\n",
      "5. Start a conversation with your chatbot using the `openai.Completion.create` method. For example:\n",
      "   ```python\n",
      "   prompt = \"Hello, my name is [your name]. What's your name?\"\n",
      "   response = openai.Completion.create(\n",
      "       engine=\"text-davinci-002\",\n",
      "       prompt=prompt,\n",
      "       max_tokens=10,\n",
      "       n=1,\n",
      "       stop=None,\n",
      "       temperature=0.5\n",
      "   )\n",
      "   message = response.choices[0].text.strip()\n",
      "   print(message)\n",
      "   ```\n",
      "\n",
      "6. Iterate the conversation with the chatbot using the `openai.Completion.create` method and appending the user's message as part of the prompt. For example:\n",
      "   ```python\n",
      "   prompt = \"Hello, my name is [your name]. What's your name?\"\n",
      "   message = \"\"\n",
      "   while message.lower() not in [\"bye\", \"goodbye\"]:\n",
      "       prompt += f\"\\nUser: {message}\\nBot:\"\n",
      "       response = openai.Completion.create(\n",
      "           engine=\"text-davinci-002\",\n",
      "           prompt=prompt,\n",
      "           max_tokens=50,\n",
      "           n=1,\n",
      "           stop=None,\n",
      "           temperature=0.5\n",
      "       )\n",
      "       message = response.choices[0].text.strip()\n",
      "       print(message)\n",
      "   ```\n",
      "\n",
      "And there you have it! This is a basic guide on how to create a chatbot using OpenAI. You can customize and improve the chatbot according to your specific needs and preferences.\n"
     ]
    }
   ],
   "source": [
    "messages = []\n",
    "\n",
    "while True:\n",
    "    val = input(\"User: \")\n",
    "    messages.append({\"role\": \"user\", \"content\": val})\n",
    "\n",
    "    chatbot_response = openai.ChatCompletion.create(\n",
    "      model=\"gpt-3.5-turbo\",\n",
    "      messages=messages \n",
    "    ).choices[0].message\n",
    "\n",
    "    messages.append(chatbot_response)\n",
    "    chatbot_content = chatbot_response[\"content\"]\n",
    "    print(\"Assistant: \" + chatbot_content)\n",
    "    \n",
    "    "
   ]
  },
  {
   "cell_type": "code",
   "execution_count": null,
   "id": "cbde8ebc-330f-4948-89dc-e3f483c910a8",
   "metadata": {},
   "outputs": [],
   "source": []
  }
 ],
 "metadata": {
  "kernelspec": {
   "display_name": "Python 3 (ipykernel)",
   "language": "python",
   "name": "python3"
  },
  "language_info": {
   "codemirror_mode": {
    "name": "ipython",
    "version": 3
   },
   "file_extension": ".py",
   "mimetype": "text/x-python",
   "name": "python",
   "nbconvert_exporter": "python",
   "pygments_lexer": "ipython3",
   "version": "3.9.16"
  }
 },
 "nbformat": 4,
 "nbformat_minor": 5
}
