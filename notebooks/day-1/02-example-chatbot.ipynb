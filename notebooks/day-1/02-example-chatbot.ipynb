{
 "cells": [
  {
   "attachments": {},
   "cell_type": "markdown",
   "id": "a9dbf5c2-31b3-43c6-b53d-6b381dd8f817",
   "metadata": {},
   "source": [
    "# Day 1 - Examples: Chatbot\n",
    "\n",
    "Our first example of using an LLM is a chatbot. Think of this as a recreation of ChatGPT!"
   ]
  },
  {
   "cell_type": "code",
   "execution_count": 4,
   "id": "224ee96e-da77-498c-ba86-fa80539c3892",
   "metadata": {},
   "outputs": [
    {
     "data": {
      "text/plain": [
       "True"
      ]
     },
     "execution_count": 4,
     "metadata": {},
     "output_type": "execute_result"
    }
   ],
   "source": [
    "# Load environment variables\n",
    "from dotenv import load_dotenv\n",
    "\n",
    "load_dotenv(\"../../.env\")"
   ]
  },
  {
   "attachments": {},
   "cell_type": "markdown",
   "id": "339fc768",
   "metadata": {},
   "source": [
    "## OpenAI"
   ]
  },
  {
   "attachments": {},
   "cell_type": "markdown",
   "id": "119855df-5073-4291-b943-d14f6168712b",
   "metadata": {},
   "source": [
    "#### 1. Start the chatbot"
   ]
  },
  {
   "cell_type": "code",
   "execution_count": 17,
   "id": "81957b32-3eb9-43a2-abc7-a3945520851a",
   "metadata": {},
   "outputs": [
    {
     "name": "stdout",
     "output_type": "stream",
     "text": [
      "User: Hello!\n",
      "Assistant: Hi there! How can I assist you today?\n"
     ]
    }
   ],
   "source": [
    "import openai\n",
    "\n",
    "messages = [\n",
    "    {\"role\": \"user\", \"content\": \"Hello!\"},\n",
    "]\n",
    "\n",
    "chatbot_response = openai.ChatCompletion.create(\n",
    "  model=\"gpt-3.5-turbo\",\n",
    "  messages=messages \n",
    ")\n",
    "\n",
    "print(\"User: \" + messages[-1][\"content\"])\n",
    "print(\"Assistant: \" + chatbot_response.choices[0].message[\"content\"])\n"
   ]
  },
  {
   "attachments": {},
   "cell_type": "markdown",
   "id": "44540106-c7db-43ea-9876-cd1fb4cc0e4c",
   "metadata": {},
   "source": [
    "#### 2. Respond to the chatbot"
   ]
  },
  {
   "cell_type": "code",
   "execution_count": 18,
   "id": "24f1bfc1-5846-42dd-9202-e634e6d66e9a",
   "metadata": {},
   "outputs": [
    {
     "name": "stdout",
     "output_type": "stream",
     "text": [
      "User: How do I make a chatbot with OpenAI API?\n",
      "Assistant: Here are the general steps to create a chatbot with OpenAI API:\n",
      "\n",
      "1. Sign up for OpenAI API access and obtain an API key.\n",
      "2. Choose a framework to integrate with the OpenAI API. Popular choices include Python, Node.js, and Java.\n",
      "3. Install the OpenAI API client library for your chosen framework.\n",
      "4. Design the conversation flow and intent of your chatbot.\n",
      "5. Use the OpenAI API to train your chatbot through text-based conversations using the provided API endpoints.\n",
      "6. Integrate the trained model with your chatbot's framework of choice.\n",
      "7. Test the chatbot for accuracy and usability.\n",
      "\n",
      "Bear in mind that creating a chatbot with OpenAI API requires programming skills and familiarity with the chosen framework. You can consult OpenAI's documentation for more detailed instructions.\n"
     ]
    }
   ],
   "source": [
    "messages.append(chatbot_response.choices[0].message)\n",
    "\n",
    "messages.append({\"role\": \"user\", \"content\": \"How do I make a chatbot with OpenAI API?\"})\n",
    "\n",
    "chatbot_response = openai.ChatCompletion.create(\n",
    "  model=\"gpt-3.5-turbo\",\n",
    "  messages=messages \n",
    ")\n",
    "\n",
    "print(\"User: \" + messages[-1][\"content\"])\n",
    "print(\"Assistant: \" + chatbot_response.choices[0].message[\"content\"])"
   ]
  },
  {
   "attachments": {},
   "cell_type": "markdown",
   "id": "356e07db-f89d-4bc6-8db0-bce80cc22ec2",
   "metadata": {},
   "source": [
    "#### Chatbot in Action"
   ]
  },
  {
   "cell_type": "code",
   "execution_count": 19,
   "id": "d775403d-86ff-4a79-af9f-4d64d399d0c2",
   "metadata": {},
   "outputs": [
    {
     "name": "stdout",
     "output_type": "stream",
     "text": [
      "User: What kind of pizzas can I make at home?\n",
      "Assistant: There are endless possibilities when it comes to making pizzas at home. Here are some ideas: \n",
      "\n",
      "1. Margherita pizza: Classic tomato sauce, mozzarella cheese, fresh basil and olive oil on a thin crust.\n",
      "\n",
      "2. Pepperoni pizza: Tomato sauce, mozzarella cheese and pepperoni slices on a thin crust.\n",
      "\n",
      "3. Vegetarian pizza: Tomato sauce, mozzarella cheese, onions, bell peppers, olives, mushrooms and any other veggies you like on a thin crust.\n",
      "\n",
      "4. BBQ chicken pizza: Barbecue sauce, mozzarella cheese, grilled chicken, onions and cilantro on a thin crust.\n",
      "\n",
      "5. White pizza: Olive oil, ricotta cheese, mozzarella cheese, garlic, spinach and mushrooms on a thin crust.\n",
      "\n",
      "6. Hawaiian pizza: Tomato sauce, mozzarella cheese, ham and pineapple on a thin crust.\n",
      "\n",
      "7. Meat lover's pizza: Tomato sauce, mozzarella cheese, pepperoni, sausage, bacon on a thin crust.\n",
      "\n",
      "8. Buffalo chicken pizza: Buffalo sauce, mozzarella cheese, grilled chicken and blue cheese on a thin crust.\n",
      "\n",
      "9. Taco pizza: Refried beans, taco meat, cheddar cheese, tomatoes, lettuce and sour cream on a thin crust.\n",
      "\n",
      "10. Pesto pizza: Pesto sauce, mozzarella cheese, sun-dried tomatoes and grilled chicken on a thin crust.\n",
      "User: Which is the best pizza to make at home?\n",
      "Assistant: The best pizza to make at home ultimately comes down to personal preference. However, a classic Margherita pizza is a simple and delicious option that is easy to make at home. The ingredients are few and fresh, consisting of tomato sauce, mozzarella cheese, fresh basil, and olive oil on a thin crust. Another great option is a veggie pizza with toppings of your choice, which is a healthy and flavorful meal that can be customized to your taste. Ultimately, the best pizza is the one you enjoy the most!\n"
     ]
    }
   ],
   "source": [
    "messages = []\n",
    "\n",
    "for i in range(2):\n",
    "    val = input(\"User: \")\n",
    "    messages.append({\"role\": \"user\", \"content\": val})\n",
    "\n",
    "    chatbot_response = openai.ChatCompletion.create(\n",
    "      model=\"gpt-3.5-turbo\",\n",
    "      messages=messages \n",
    "    ).choices[0].message\n",
    "\n",
    "    messages.append(chatbot_response)\n",
    "    chatbot_content = chatbot_response[\"content\"]\n",
    "    print(\"User: \" + val)\n",
    "    print(\"Assistant: \" + chatbot_content)"
   ]
  },
  {
   "attachments": {},
   "cell_type": "markdown",
   "id": "f3992ac4",
   "metadata": {},
   "source": [
    "## PaLM"
   ]
  },
  {
   "attachments": {},
   "cell_type": "markdown",
   "id": "99ba62dd",
   "metadata": {},
   "source": [
    "#### 1. Start the chatbot"
   ]
  },
  {
   "cell_type": "code",
   "execution_count": 21,
   "id": "cbde8ebc-330f-4948-89dc-e3f483c910a8",
   "metadata": {},
   "outputs": [
    {
     "name": "stdout",
     "output_type": "stream",
     "text": [
      "User: Hello world!\n",
      "Assistant: Hello! How can I help you today?\n"
     ]
    }
   ],
   "source": [
    "from vertexai.preview.language_models import ChatModel, InputOutputTextPair\n",
    "\n",
    "chat_model = ChatModel.from_pretrained(\"chat-bison@001\")\n",
    "\n",
    "chat = chat_model.start_chat(\n",
    "    context=\"You are a helpful chat assistant.\",\n",
    ")\n",
    "\n",
    "message = \"Hello world!\"\n",
    "response = chat.send_message(message)\n",
    "print(f\"User: {message}\")\n",
    "print(f\"Assistant: {response.text}\")"
   ]
  },
  {
   "attachments": {},
   "cell_type": "markdown",
   "id": "4eb98370",
   "metadata": {},
   "source": [
    "#### 2. Respond to the chatbot"
   ]
  },
  {
   "cell_type": "code",
   "execution_count": 22,
   "id": "a9b37553",
   "metadata": {},
   "outputs": [
    {
     "name": "stdout",
     "output_type": "stream",
     "text": [
      "User: How do I make a chatbot with Google PaLM?\n",
      "Assistant: To make a chatbot with Google PaLM, you will need to have a basic understanding of Python and the Google Cloud Platform. You can find a tutorial on how to do this here: https://cloud.google.com/ai-platform/natural-language/docs/how-to/create-chatbot-with-palm\n",
      "\n",
      "Once you have a basic understanding of how to use Google PaLM, you can start building your chatbot. The first step is to create a new project in the Google Cloud Platform. Once you have created a project, you can create a new service account and download the JSON key file.\n",
      "\n",
      "\n"
     ]
    }
   ],
   "source": [
    "message = \"How do I make a chatbot with Google PaLM?\"\n",
    "\n",
    "response = chat.send_message(message)\n",
    "print(f\"User: {message}\")\n",
    "print(f\"Assistant: {response.text}\")"
   ]
  },
  {
   "attachments": {},
   "cell_type": "markdown",
   "id": "0693b514",
   "metadata": {},
   "source": [
    "#### Chatbot in Action"
   ]
  },
  {
   "cell_type": "code",
   "execution_count": 25,
   "id": "91659c42",
   "metadata": {},
   "outputs": [
    {
     "name": "stdout",
     "output_type": "stream",
     "text": [
      "User: What are the different types of pizzas?\n",
      "Assistant: There are many different types of pizzas, but some of the most popular include:\n",
      "\n",
      "* Neapolitan pizza: This type of pizza is made with a thin crust and is typically topped with tomatoes, mozzarella cheese, and fresh basil. It is named after the city of Naples, Italy, where it originated.\n",
      "* Sicilian pizza: This type of pizza is made with a thick crust and is often topped with onions, anchovies, and tomatoes. It is named after the island of Sicily, Italy, where it originated.\n",
      "* American-style pizza: This type of pizza is typically made with a thicker crust and is often topped with a variety of ingredients, such as pepperoni, sausage, mushrooms, and peppers.\n",
      "* Gluten-free pizza: This type of pizza is made with gluten-free flour and is suitable for people with celiac disease or gluten intolerance.\n",
      "* Vegetarian pizza: This type of pizza is made without meat and is often topped with vegetables, such as mushrooms, peppers, and onions.\n",
      "* Vegan pizza: This type of pizza is made without any animal products, including cheese. It is often topped with vegetables, tofu, or seitan.\n",
      "* Deep dish pizza: This type of pizza is made with a thick crust and is often topped with a variety of ingredients, such as pepperoni, sausage, mushrooms, and peppers. It is then baked in a deep dish pan, which gives it its characteristic shape.\n",
      "* Thin crust pizza: This type of pizza is made with a thin crust and is often topped with a variety of ingredients, such as pepperoni, sausage, mushrooms, and peppers. It is then baked in a regular pizza pan, which gives it its characteristic shape.\n",
      "* Stuffed crust pizza: This type of pizza has a thick crust that is stuffed with cheese and other ingredients, such as pepperoni, sausage, mushrooms, and peppers. It is then baked in a regular pizza pan, which gives it its characteristic shape.\n",
      "* White pizza: This type of pizza is made with a white sauce, such as a béchamel sauce, and is often topped with cheese and vegetables.\n",
      "* Hawaiian pizza: This type of pizza is made with a tomato sauce and is topped with ham and pineapple.\n",
      "* BBQ chicken pizza: This type of pizza is made with a tomato sauce and is topped with chicken, barbecue sauce, and cheese.\n",
      "* Meat lovers pizza: This type of pizza is made with a tomato sauce and is topped with a variety of meats, such as\n",
      "User: Which one is the best?\n",
      "Assistant: The best type of pizza is the one that you enjoy the most. There are many different types of pizzas available, so it is important to find one that suits your taste. If you are looking for a traditional pizza, then a Neapolitan pizza is a good option. If you prefer a thicker crust, then a Sicilian pizza may be more to your liking. And if you are looking for a gluten-free option, there are many gluten-free pizzas available. Ultimately, the best kind of pizza is the one that you enjoy eating.\n",
      "\n",
      "Here are some of the most popular types of pizza:\n",
      "\n",
      "* Neapolitan pizza: This type of pizza is made with a thin crust and is typically topped with tomatoes, mozzarella cheese, and fresh basil. It is named after the city of Naples, Italy, where it originated.\n",
      "* Sicilian pizza: This type of pizza is made with a thick crust and is often topped with onions, anchovies, and tomatoes. It is named after the island of Sicily, Italy, where it originated.\n",
      "* American-style pizza: This type of pizza is typically made with a thicker crust and is often topped with a variety of ingredients, such as pepperoni, sausage, mushrooms, and peppers.\n",
      "* Gluten-free pizza: This type of pizza is made with gluten-free flour and is suitable for people with celiac disease or gluten intolerance.\n",
      "* Vegetarian pizza: This type of pizza is made without meat and is often topped with vegetables, such as mushrooms, peppers, and onions.\n",
      "* Vegan pizza: This type of pizza is made without any animal products, including cheese. It is often topped with vegetables, tofu, or seitan.\n",
      "* Deep dish pizza: This type of pizza is made with a thick crust and is often topped with a variety of ingredients, such as pepperoni, sausage, mushrooms, and peppers. It is then baked in a deep dish pan, which gives it its characteristic shape.\n",
      "* Thin crust pizza: This type of pizza is made with a thin crust and is often topped with a variety of ingredients, such as pepperoni, sausage, mushrooms, and peppers. It is then baked in a regular pizza pan, which gives it its characteristic shape.\n",
      "* Stuffed crust pizza: This type of pizza has a thick crust that is stuffed with cheese and other ingredients, such as pepperoni, sausage, mushrooms, and peppers. It is then baked in a regular pizza pan, which gives\n"
     ]
    }
   ],
   "source": [
    "messages = []\n",
    "\n",
    "for i in range(2):\n",
    "    val = input(\"User: \")\n",
    "    messages.append({\"role\": \"user\", \"content\": val})\n",
    "\n",
    "    response = chat.send_message(val, max_output_tokens=512)\n",
    "\n",
    "    messages.append(response.text)\n",
    "    print(\"User: \" + val)\n",
    "    print(\"Assistant: \" + response.text)\n",
    "    \n",
    "    "
   ]
  },
  {
   "cell_type": "code",
   "execution_count": null,
   "id": "2f3947f9",
   "metadata": {},
   "outputs": [],
   "source": []
  }
 ],
 "metadata": {
  "kernelspec": {
   "display_name": "Python 3 (ipykernel)",
   "language": "python",
   "name": "python3"
  },
  "language_info": {
   "codemirror_mode": {
    "name": "ipython",
    "version": 3
   },
   "file_extension": ".py",
   "mimetype": "text/x-python",
   "name": "python",
   "nbconvert_exporter": "python",
   "pygments_lexer": "ipython3",
   "version": "3.11.3"
  }
 },
 "nbformat": 4,
 "nbformat_minor": 5
}
