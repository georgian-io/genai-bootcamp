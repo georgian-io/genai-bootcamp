{
 "cells": [
  {
   "cell_type": "code",
   "execution_count": 1,
   "metadata": {},
   "outputs": [],
   "source": [
    "import os\n",
    "import tqdm\n",
    "import numpy as np\n",
    "import pandas as pd"
   ]
  },
  {
   "cell_type": "markdown",
   "metadata": {},
   "source": [
    "# API Setup"
   ]
  },
  {
   "cell_type": "code",
   "execution_count": 2,
   "metadata": {},
   "outputs": [
    {
     "data": {
      "text/plain": [
       "True"
      ]
     },
     "execution_count": 2,
     "metadata": {},
     "output_type": "execute_result"
    }
   ],
   "source": [
    "from dotenv import load_dotenv\n",
    "load_dotenv(dotenv_path=\"../.env\")"
   ]
  },
  {
   "cell_type": "markdown",
   "metadata": {},
   "source": [
    "# Load Data"
   ]
  },
  {
   "cell_type": "code",
   "execution_count": 3,
   "metadata": {},
   "outputs": [
    {
     "name": "stderr",
     "output_type": "stream",
     "text": [
      "/Users/akashsaravanan/Library/Caches/pypoetry/virtualenvs/genai-bootcamp-4wh1UwyX-py3.12/lib/python3.12/site-packages/huggingface_hub/file_download.py:1132: FutureWarning: `resume_download` is deprecated and will be removed in version 1.0.0. Downloads always resume when possible. If you want to force a new download, use `force_download=True`.\n",
      "  warnings.warn(\n"
     ]
    }
   ],
   "source": [
    "# Load embedding model\n",
    "from llama_index.embeddings.huggingface import HuggingFaceEmbedding\n",
    "embedding_model = HuggingFaceEmbedding(model_name=\"BAAI/bge-small-en-v1.5\", embed_batch_size=32)"
   ]
  },
  {
   "cell_type": "code",
   "execution_count": 4,
   "metadata": {},
   "outputs": [],
   "source": [
    "# Load the index from disk\n",
    "from llama_index.vector_stores.lancedb import LanceDBVectorStore\n",
    "from llama_index.core import VectorStoreIndex\n",
    "\n",
    "vector_store = LanceDBVectorStore(\n",
    "    uri=\"./lancedb\", table_name=\"pipeline_test\"\n",
    ")\n",
    "index = VectorStoreIndex.from_vector_store(\n",
    "    vector_store,\n",
    "    embed_model=embedding_model,\n",
    ")"
   ]
  },
  {
   "cell_type": "markdown",
   "metadata": {},
   "source": [
    "# Set up LLM"
   ]
  },
  {
   "cell_type": "code",
   "execution_count": 5,
   "metadata": {},
   "outputs": [],
   "source": [
    "# OpenAI\n",
    "from llama_index.llms.openai import OpenAI\n",
    "\n",
    "# Set up OpenAI client - API key is handled in your .env file\n",
    "openai_llm = OpenAI(model=\"gpt-4o\", temperature=0.1, max_tokens=2048)"
   ]
  },
  {
   "cell_type": "code",
   "execution_count": 6,
   "metadata": {},
   "outputs": [],
   "source": [
    "# AnyScale\n",
    "from llama_index.llms.anyscale import Anyscale\n",
    "\n",
    "# Set up AnyScale client - API key is handled in your .env file\n",
    "anyscale_llm = Anyscale(model=\"meta-llama/Meta-Llama-3-70B-Instruct\", temperature=0.1, max_tokens=2048)"
   ]
  },
  {
   "cell_type": "markdown",
   "metadata": {},
   "source": [
    "# Setup RAG"
   ]
  },
  {
   "cell_type": "code",
   "execution_count": 7,
   "metadata": {},
   "outputs": [],
   "source": [
    "from llama_index.core.prompts import PromptTemplate\n",
    "\n",
    "prompt = \"\"\"You are a helpful AI assistant that answers questions after carefully reading all the provided context. You always cite sources (document titles) and also quote the relevant snippets. Information may be spread across multiple documents. If the information is not present in any of the contexts, you will say 'I don't know'.\n",
    "-----\n",
    "Context: \n",
    "{context_str} \n",
    "-----\n",
    "Question: {query_str} \n",
    "Answer: `answer`\n",
    "Source: `source document title`\n",
    "Relevant Snippet: `snippet`\n",
    "\"\"\"\n",
    "\n",
    "# Convert prompt into a prompt template that llamaindex can use\n",
    "prompt = PromptTemplate(template=prompt)"
   ]
  },
  {
   "cell_type": "code",
   "execution_count": 8,
   "metadata": {},
   "outputs": [],
   "source": [
    "# OpenAI\n",
    "openai_query_engine = index.as_query_engine(llm=openai_llm, text_qa_template=prompt, similarity_top_k=3)\n",
    "\n",
    "# Anyscale\n",
    "anyscale_query_engine = index.as_query_engine(llm=anyscale_llm, text_qa_template=prompt, similarity_top_k=3)"
   ]
  },
  {
   "cell_type": "markdown",
   "metadata": {},
   "source": [
    "# Query Transformation: HyDE\n",
    "\n",
    "We examine two scenarios - one where we don't use HyDE and one where we do. \n",
    "\n",
    "Note: To focus on HyDE, we've simplified and abstracted away most of the helper code we used previously.\n",
    "\n",
    "## Without Hyde\n",
    "\n"
   ]
  },
  {
   "cell_type": "code",
   "execution_count": 9,
   "metadata": {},
   "outputs": [],
   "source": [
    "user_input = \"How many points did Michael Jordan actually score in his final NBA game?\""
   ]
  },
  {
   "cell_type": "code",
   "execution_count": 10,
   "metadata": {},
   "outputs": [
    {
     "name": "stderr",
     "output_type": "stream",
     "text": [
      "huggingface/tokenizers: The current process just got forked, after parallelism has already been used. Disabling parallelism to avoid deadlocks...\n",
      "To disable this warning, you can either:\n",
      "\t- Avoid using `tokenizers` before the fork if possible\n",
      "\t- Explicitly set the environment variable TOKENIZERS_PARALLELISM=(true | false)\n"
     ]
    },
    {
     "name": "stdout",
     "output_type": "stream",
     "text": [
      "Michael Jordan scored 15 points in his final NBA game.\n",
      "\n",
      "Source: Michael Jordan\n",
      "Relevant Snippet: \"Jordan's final NBA game was on April 16, 2003 in Philadelphia. After scoring only 13 points in the game, Jordan went to the bench with 4 minutes and 13 seconds remaining in the third quarter... At 1:45, Jordan was intentionally fouled by the 76ers' Eric Snow, and stepped to the line to make both free throws.\"\n"
     ]
    }
   ],
   "source": [
    "print(openai_query_engine.query(user_input))"
   ]
  },
  {
   "cell_type": "code",
   "execution_count": 11,
   "metadata": {},
   "outputs": [
    {
     "name": "stdout",
     "output_type": "stream",
     "text": [
      "Answer: 13 points\n",
      "Source: Michael Jordan\n",
      "Relevant Snippet: \"After scoring only 13 points in the game, Jordan went to the bench with 4 minutes and 13 seconds remaining in the third quarter and with his team trailing the Philadelphia 76ers, 75–56.\"\n"
     ]
    }
   ],
   "source": [
    "print(anyscale_query_engine.query(user_input))"
   ]
  },
  {
   "cell_type": "markdown",
   "metadata": {},
   "source": [
    "## With HyDE"
   ]
  },
  {
   "cell_type": "code",
   "execution_count": 12,
   "metadata": {},
   "outputs": [],
   "source": [
    "# Query transforms perform query transformations such as expansion, HyDE, etc.\n",
    "from llama_index.core.indices.query.query_transform import HyDEQueryTransform\n",
    "openai_hyde = HyDEQueryTransform(llm=openai_llm, include_original=True)\n",
    "anyscale_hyde = HyDEQueryTransform(llm=anyscale_llm, include_original=True)"
   ]
  },
  {
   "cell_type": "code",
   "execution_count": 13,
   "metadata": {},
   "outputs": [],
   "source": [
    "# Query engine applies a query transformation before retrieval/answer generation\n",
    "from llama_index.core.query_engine import TransformQueryEngine\n",
    "anyscale_hyde_query_engine = TransformQueryEngine(anyscale_query_engine, anyscale_hyde)\n",
    "openai_hyde_query_engine = TransformQueryEngine(openai_query_engine, anyscale_hyde)"
   ]
  },
  {
   "cell_type": "code",
   "execution_count": 14,
   "metadata": {},
   "outputs": [
    {
     "name": "stdout",
     "output_type": "stream",
     "text": [
      "Please write a passage to answer the question\n",
      "Try to include as many key details as possible.\n",
      "\n",
      "\n",
      "{context_str}\n",
      "\n",
      "\n",
      "Passage:\"\"\"\n",
      "\n"
     ]
    }
   ],
   "source": [
    "# Show the HyDE prompt\n",
    "print(anyscale_hyde.get_prompts()[\"hyde_prompt\"].template)"
   ]
  },
  {
   "cell_type": "code",
   "execution_count": 15,
   "metadata": {},
   "outputs": [
    {
     "name": "stdout",
     "output_type": "stream",
     "text": [
      "Hypothetical document:\n",
      "Here is a passage answering the question:\n",
      "\n",
      "Michael Jordan's final NBA game took place on April 18, 2003, when his Washington Wizards faced off against the Philadelphia 76ers in the first round of the Eastern Conference playoffs. In a game that would ultimately be a 107-87 loss for the Wizards, Jordan, then 40 years old, played 37 minutes and scored 15 points on 6-of-15 shooting from the field, including 1-of-3 from three-point range. He also added 4 rebounds, 2 assists, and 2 steals to his stat line. Although it wasn't one of his most impressive performances, Jordan's 15 points in his final NBA game marked a fitting conclusion to an illustrious career that saw him win six NBA championships, five MVP awards, and cement his status as one of the greatest basketball players of all time.\n",
      "------------------------------------------------------------------------------------------\n",
      "Answer: 13 points\n",
      "Source: Michael Jordan\n",
      "Relevant Snippet: \"After scoring only 13 points in the game, Jordan went to the bench with 4 minutes and 13 seconds remaining in the third quarter and with his team trailing the Philadelphia 76ers, 75–56.\"\n"
     ]
    }
   ],
   "source": [
    "# Anyscale\n",
    "print(\"Hypothetical document:\")\n",
    "print(anyscale_hyde.run(user_input).custom_embedding_strs[0])\n",
    "print(\"---\" * 30)\n",
    "print(anyscale_hyde_query_engine.query(user_input))"
   ]
  },
  {
   "cell_type": "code",
   "execution_count": 16,
   "metadata": {},
   "outputs": [
    {
     "name": "stdout",
     "output_type": "stream",
     "text": [
      "Hypothetical document:\n",
      "OpenAI: Michael Jordan, widely regarded as one of the greatest basketball players of all time, played his final NBA game on April 16, 2003. This game was between the Washington Wizards, the team Jordan was playing for at the time, and the Philadelphia 76ers. Despite the Wizards' 107-87 loss to the 76ers, Jordan's performance was a memorable moment in sports history. In his final appearance on the NBA court, Michael Jordan scored 15 points. He played a total of 28 minutes, during which he made 6 out of 15 field goal attempts and 3 out of 4 free throws. The game was marked by a standing ovation from the crowd and heartfelt tributes from fellow players and fans, celebrating the end of an illustrious career that spanned over 15 seasons and included six NBA championships.\n",
      "------------------------------------------------------------------------------------------\n",
      "Michael Jordan scored 15 points in his final NBA game.\n",
      "\n",
      "Source: Michael Jordan\n",
      "Relevant Snippet: \"Jordan's final NBA game was on April 16, 2003 in Philadelphia. After scoring only 13 points in the game, Jordan went to the bench with 4 minutes and 13 seconds remaining in the third quarter and with his team trailing the Philadelphia 76ers, 75 – 56. Just after the start of the fourth quarter, the First Union Center crowd began chanting 'We want Mike!'... At 1:45, Jordan was intentionally fouled by the 76ers' Eric Snow, and stepped to the line to make both free throws.\"\n"
     ]
    }
   ],
   "source": [
    "# OpenAI\n",
    "print(\"Hypothetical document:\")\n",
    "print(\"OpenAI:\", openai_hyde.run(user_input).custom_embedding_strs[0])\n",
    "print(\"---\" * 30)\n",
    "print(openai_hyde_query_engine.query(user_input))"
   ]
  },
  {
   "cell_type": "markdown",
   "metadata": {},
   "source": [
    "# Query Rewriting\n",
    "\n",
    "Ref: https://docs.llamaindex.ai/en/latest/examples/query_transformations/query_transform_cookbook/#query-rewriting-custom"
   ]
  },
  {
   "cell_type": "code",
   "execution_count": 17,
   "metadata": {},
   "outputs": [],
   "source": [
    "user_input = \"How many points did Michael Jordan actually score in his final NBA game?\""
   ]
  },
  {
   "cell_type": "code",
   "execution_count": 18,
   "metadata": {},
   "outputs": [],
   "source": [
    "# Define a prompt to generate a number of queries similar to a given query\n",
    "query_gen_str = \"\"\"\\\n",
    "You are a helpful assistant that generates similar search queries based on a \\\n",
    "single input query. Generate {num_queries} search queries, one on each line, \\\n",
    "related to the following input query. Do not include anything else in your response.\n",
    "Query: {query}\n",
    "Queries:\n",
    "\"\"\"\n",
    "query_gen_prompt = PromptTemplate(query_gen_str)"
   ]
  },
  {
   "cell_type": "code",
   "execution_count": 19,
   "metadata": {},
   "outputs": [],
   "source": [
    "def generate_queries(query: str, llm, num_queries: int = 4):\n",
    "    response = llm.predict(\n",
    "        query_gen_prompt, num_queries=num_queries, query=query\n",
    "    )\n",
    "    # assumes LLM properly put each query on a newline\n",
    "    queries = response.split(\"\\n\")\n",
    "    return queries"
   ]
  },
  {
   "cell_type": "code",
   "execution_count": 20,
   "metadata": {},
   "outputs": [
    {
     "name": "stdout",
     "output_type": "stream",
     "text": [
      "What was the date of Michael Jordan's final NBA game?\n",
      "What team did Michael Jordan play for in his final NBA game?\n",
      "What was the outcome of Michael Jordan's final NBA game?\n",
      "What was Michael Jordan's highest scoring performance in his NBA career?\n",
      "How many points did Michael Jordan actually score in his final NBA game?\n"
     ]
    }
   ],
   "source": [
    "# Anyscale\n",
    "anyscale_queries = generate_queries(query=user_input, llm=anyscale_llm, num_queries=4) + [user_input]\n",
    "\n",
    "print(\"\\n\".join(anyscale_queries))"
   ]
  },
  {
   "cell_type": "code",
   "execution_count": 21,
   "metadata": {},
   "outputs": [
    {
     "name": "stdout",
     "output_type": "stream",
     "text": [
      "With the recognition that 2002 – 03 would be Jordan 's final season , tributes were paid to him thro 0.6940546035766602\n",
      "With the recognition that 2002 – 03 would be Jordan 's final season , tributes were paid to him thro 0.6894277334213257\n",
      "With the recognition that 2002 – 03 would be Jordan 's final season , tributes were paid to him thro 0.6841335296630859\n",
      "Jordan also holds the top career regular season and playoff scoring averages of 30.1 and 33.4 points 0.7003832459449768\n",
      "With the recognition that 2002 – 03 would be Jordan 's final season , tributes were paid to him thro 0.6666018962860107\n"
     ]
    }
   ],
   "source": [
    "all_anyscale_results = []\n",
    "for query in anyscale_queries:\n",
    "    top_result = anyscale_query_engine.retrieve(query)[0]\n",
    "    all_anyscale_results.append(top_result)\n",
    "    print(top_result.text[:100], top_result.score)"
   ]
  },
  {
   "cell_type": "code",
   "execution_count": 22,
   "metadata": {},
   "outputs": [
    {
     "name": "stdout",
     "output_type": "stream",
     "text": [
      "Michael Jordan final NBA game points total\n",
      "Michael Jordan last game scoring stats\n",
      "Michael Jordan retirement game points scored\n",
      "Michael Jordan final game performance stats\n",
      "How many points did Michael Jordan actually score in his final NBA game?\n"
     ]
    }
   ],
   "source": [
    "# OpenAI\n",
    "openai_queries = generate_queries(query=user_input, llm=openai_llm, num_queries=4) + [user_input]\n",
    "\n",
    "print(\"\\n\".join(openai_queries))"
   ]
  },
  {
   "cell_type": "code",
   "execution_count": 23,
   "metadata": {},
   "outputs": [
    {
     "name": "stdout",
     "output_type": "stream",
     "text": [
      "Jordan also holds the top career regular season and playoff scoring averages of 30.1 and 33.4 points 0.7295424342155457\n",
      "In an injury-plagued 2001 – 02 season , he led the team in scoring ( 22.9 ppg ) , assists ( 5.2 apg  0.750728189945221\n",
      "In March 1995 , Jordan decided to quit baseball due to the ongoing Major League Baseball strike , as 0.7328667044639587\n",
      "Jordan averaged a league leading 33.6 ppg on 52.6 % shooting , to go with 6.9 rpg and 6.3 apg in lea 0.7255814075469971\n",
      "With the recognition that 2002 – 03 would be Jordan 's final season , tributes were paid to him thro 0.6666018962860107\n"
     ]
    }
   ],
   "source": [
    "all_openai_results = []\n",
    "for query in openai_queries:\n",
    "    top_result = openai_query_engine.retrieve(query)[0]\n",
    "    all_openai_results.append(top_result)\n",
    "    print(top_result.text[:100], top_result.score)"
   ]
  },
  {
   "cell_type": "markdown",
   "metadata": {},
   "source": [
    "# Rank Fusion\n",
    "\n",
    "[Reciprocal Rank Fusion (RRF)](https://plg.uwaterloo.ca/~gvcormac/cormacksigir09-rrf.pdf) is a commonly used rank fusion algorithm. You can find an implementation of this algorithm in [this](https://docs.llamaindex.ai/en/stable/examples/low_level/fusion_retriever/#step-3-perform-fusion) example from LlamaIndex. "
   ]
  },
  {
   "cell_type": "code",
   "execution_count": 24,
   "metadata": {},
   "outputs": [],
   "source": [
    "from collections import Counter\n",
    "\n",
    "def most_common(results):\n",
    "    counts = Counter([result.node_id for result in results])\n",
    "    most_common = counts.most_common(1)[0][0]\n",
    "    for result in results:\n",
    "        if result.node_id == most_common:\n",
    "            return result"
   ]
  },
  {
   "cell_type": "code",
   "execution_count": 25,
   "metadata": {},
   "outputs": [
    {
     "name": "stdout",
     "output_type": "stream",
     "text": [
      "With the recognition that 2002 – 03 would be Jordan 's final season , tributes were paid to him throughout the NBA . In his final game at his old home court , the United Center in Chicago , Jordan received a four-minute standing ovation . The Miami Heat retired the number 23 jersey on April 11 , 2003 , even though Jordan never played for the team . At the 2003 All-Star Game , Jordan was offered a starting spot from Tracy McGrady and Allen Iverson , but refused both . In the end he accepted the spot of Vince Carter , who decided to give it up under great public pressure . \n",
      " Jordan 's final NBA game was on April 16 , 2003 in Philadelphia . After scoring only 13 points in the game , Jordan went to the bench with 4 minutes and 13 seconds remaining in the third quarter and with his team trailing the Philadelphia 76ers , 75 – 56 . Just after the start of the fourth quarter , the First Union Center crowd began chanting \" We want Mike ! \" . After much encouragement from coach Doug Collins , Jordan finally rose from the bench and re-entered the game , replacing Larry Hughes with 2 : 35 remaining . At 1 : 45 , Jordan was intentionally fouled by the 76ers ' Eric Snow , and stepped to the line to make both free throws . After the second foul shot , the 76ers in-bounded the ball to rookie John Salmons , who in turn was intentionally fouled by Bobby Simmons one second later , stopping time so that Jordan could return to the bench . Jordan received a three-minute standing ovation from his teammates , his opponents , the officials and the crowd of 21,257 fans . \n",
      " \n",
      " = = Olympic career = = \n",
      " \n",
      " Jordan played on two Olympic gold medal-winning American basketball teams . As a college player he participated , and won the gold , in the 1984 Summer Olympics . The team was coached by Bob Knight and featured players such as Patrick Ewing , Sam Perkins , Chris Mullin , Steve Alford , and Wayman Tisdale . Jordan led the team in scoring , averaging 17.1 ppg for the tournament . \n",
      " In the 1992 Summer Olympics , he was a member of the star-studded squad that included Magic Johnson , Larry Bird , and David Robinson and was dubbed the \" Dream Team \" .\n"
     ]
    }
   ],
   "source": [
    "print(most_common(all_anyscale_results).text)"
   ]
  },
  {
   "cell_type": "code",
   "execution_count": 26,
   "metadata": {},
   "outputs": [
    {
     "name": "stdout",
     "output_type": "stream",
     "text": [
      "Jordan also holds the top career regular season and playoff scoring averages of 30.1 and 33.4 points per game , respectively . By 1998 , the season of his Finals-winning shot against the Jazz , he was well known throughout the league as a clutch performer . In the regular season , Jordan was the Bulls ' primary threat in the final seconds of a close game and in the playoffs , Jordan would always demand the ball at crunch time . Jordan 's total of 5,987 points in the playoffs is the highest in NBA history . He retired with 32,292 points in regular season play , placing him fourth on the NBA 's all-time scoring list behind Kareem Abdul-Jabbar , Karl Malone , and Kobe Bryant . \n",
      " With five regular-season MVPs ( tied for second place with Bill Russell ; only Kareem Abdul-Jabbar has won more , six ) , six Finals MVPs ( NBA record ) , and three All-Star MVPs , Jordan is the most decorated player ever to play in the NBA . Jordan finished among the top three in regular-season MVP voting a record 10 times , and was named one of the 50 Greatest Players in NBA History in 1996 . He is one of only seven players in history to win an NCAA championship , an NBA championship , and an Olympic gold medal ( doing so twice with the 1984 and 1992 U.S. men 's basketball teams ) . \n",
      " Many of Jordan 's contemporaries say that Jordan is the greatest basketball player of all time . In 1999 , an ESPN survey of journalists , athletes and other sports figures ranked Jordan the greatest North American athlete of the 20th century , above such luminaries as Babe Ruth and Muhammad Ali . Jordan placed second to Babe Ruth in the Associated Press 's December 1999 list of 20th century athletes . In addition , the Associated Press voted him as the basketball player of the 20th century . Jordan has also appeared on the front cover of Sports Illustrated a record 50 times . In the September 1996 issue of Sport , which was the publication 's 50th anniversary issue , Jordan was named the greatest athlete of the past 50 years . \n",
      " Jordan 's athletic leaping ability , highlighted in his back-to-back slam dunk contest championships in 1987 and 1988 , is credited by many with having influenced a generation of young players .\n"
     ]
    }
   ],
   "source": [
    "print(most_common(all_openai_results).text)"
   ]
  }
 ],
 "metadata": {
  "kernelspec": {
   "display_name": "genai-bootcamp-4wh1UwyX-py3.12",
   "language": "python",
   "name": "python3"
  },
  "language_info": {
   "codemirror_mode": {
    "name": "ipython",
    "version": 3
   },
   "file_extension": ".py",
   "mimetype": "text/x-python",
   "name": "python",
   "nbconvert_exporter": "python",
   "pygments_lexer": "ipython3",
   "version": "3.12.3"
  }
 },
 "nbformat": 4,
 "nbformat_minor": 2
}
