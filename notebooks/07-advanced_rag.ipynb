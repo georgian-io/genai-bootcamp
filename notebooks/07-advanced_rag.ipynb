{
 "cells": [
  {
   "cell_type": "code",
   "execution_count": 1,
   "metadata": {},
   "outputs": [],
   "source": [
    "import os\n",
    "import tqdm\n",
    "import numpy as np\n",
    "import pandas as pd"
   ]
  },
  {
   "cell_type": "markdown",
   "metadata": {},
   "source": [
    "# API Setup"
   ]
  },
  {
   "cell_type": "code",
   "execution_count": 2,
   "metadata": {},
   "outputs": [
    {
     "data": {
      "text/plain": [
       "True"
      ]
     },
     "execution_count": 2,
     "metadata": {},
     "output_type": "execute_result"
    }
   ],
   "source": [
    "from dotenv import load_dotenv\n",
    "load_dotenv(dotenv_path=\"../.env\")"
   ]
  },
  {
   "cell_type": "markdown",
   "metadata": {},
   "source": [
    "# Load Data"
   ]
  },
  {
   "cell_type": "code",
   "execution_count": 3,
   "metadata": {},
   "outputs": [
    {
     "name": "stderr",
     "output_type": "stream",
     "text": [
      "/Users/akashsaravanan/Library/Caches/pypoetry/virtualenvs/genai-bootcamp-4wh1UwyX-py3.12/lib/python3.12/site-packages/huggingface_hub/file_download.py:1132: FutureWarning: `resume_download` is deprecated and will be removed in version 1.0.0. Downloads always resume when possible. If you want to force a new download, use `force_download=True`.\n",
      "  warnings.warn(\n"
     ]
    }
   ],
   "source": [
    "# Load embedding model\n",
    "from llama_index.embeddings.huggingface import HuggingFaceEmbedding\n",
    "embedding_model = HuggingFaceEmbedding(model_name=\"BAAI/bge-small-en-v1.5\", embed_batch_size=32)"
   ]
  },
  {
   "cell_type": "code",
   "execution_count": 4,
   "metadata": {},
   "outputs": [],
   "source": [
    "# Load the index from disk\n",
    "from llama_index.vector_stores.lancedb import LanceDBVectorStore\n",
    "from llama_index.core import VectorStoreIndex\n",
    "\n",
    "vector_store = LanceDBVectorStore(\n",
    "    uri=\"./lancedb\", table_name=\"pipeline_test\"\n",
    ")\n",
    "index = VectorStoreIndex.from_vector_store(\n",
    "    vector_store,\n",
    "    embed_model=embedding_model,\n",
    ")"
   ]
  },
  {
   "cell_type": "markdown",
   "metadata": {},
   "source": [
    "# Set up LLM"
   ]
  },
  {
   "cell_type": "code",
   "execution_count": 5,
   "metadata": {},
   "outputs": [],
   "source": [
    "# OpenAI\n",
    "from llama_index.llms.openai import OpenAI\n",
    "\n",
    "# Set up OpenAI client - API key is handled in your .env file\n",
    "openai_llm = OpenAI(model=\"gpt-4o\", temperature=0.1, max_tokens=2048)"
   ]
  },
  {
   "cell_type": "code",
   "execution_count": 6,
   "metadata": {},
   "outputs": [],
   "source": [
    "# AnyScale\n",
    "from llama_index.llms.anyscale import Anyscale\n",
    "\n",
    "# Set up AnyScale client - API key is handled in your .env file\n",
    "anyscale_llm = Anyscale(model=\"meta-llama/Meta-Llama-3-70B-Instruct\", temperature=0.1, max_tokens=2048)"
   ]
  },
  {
   "cell_type": "markdown",
   "metadata": {},
   "source": [
    "# Setup RAG"
   ]
  },
  {
   "cell_type": "code",
   "execution_count": 7,
   "metadata": {},
   "outputs": [],
   "source": [
    "from llama_index.core.prompts import PromptTemplate\n",
    "\n",
    "# We put our system prompt into the template we're using to simplift things.\n",
    "prompt = \"\"\"You are a helpful AI assistant that answers questions after carefully reading all the provided context. You always cite sources (document titles) and also quote the relevant snippets. Information may be spread across multiple documents. If the information is not present in any of the contexts, you will say 'I don't know'.\n",
    "-----\n",
    "Context: \n",
    "{context_str} \n",
    "-----\n",
    "Question: {query_str} \n",
    "Answer: `answer`\n",
    "Source: `source document title`\n",
    "Relevant Snippet: `snippet`\n",
    "\"\"\"\n",
    "\n",
    "# Convert prompt into a prompt template that llamaindex can use\n",
    "prompt = PromptTemplate(template=prompt)"
   ]
  },
  {
   "cell_type": "code",
   "execution_count": 8,
   "metadata": {},
   "outputs": [],
   "source": [
    "user_input = \"How many points did Michael Jordan actually score in his final NBA game?\""
   ]
  },
  {
   "cell_type": "code",
   "execution_count": 9,
   "metadata": {},
   "outputs": [],
   "source": [
    "# A query engine combines a retriever + a language model into a single object\n",
    "\n",
    "# OpenAI\n",
    "openai_query_engine = index.as_query_engine(llm=openai_llm, text_qa_template=prompt, similarity_top_k=3)\n",
    "\n",
    "# Anyscale\n",
    "anyscale_query_engine = index.as_query_engine(llm=anyscale_llm, text_qa_template=prompt, similarity_top_k=3)"
   ]
  },
  {
   "cell_type": "code",
   "execution_count": 10,
   "metadata": {},
   "outputs": [
    {
     "name": "stderr",
     "output_type": "stream",
     "text": [
      "huggingface/tokenizers: The current process just got forked, after parallelism has already been used. Disabling parallelism to avoid deadlocks...\n",
      "To disable this warning, you can either:\n",
      "\t- Avoid using `tokenizers` before the fork if possible\n",
      "\t- Explicitly set the environment variable TOKENIZERS_PARALLELISM=(true | false)\n"
     ]
    },
    {
     "name": "stdout",
     "output_type": "stream",
     "text": [
      "With the recognition that 2002 – 03 would be Jordan 's final season , tributes were paid to him thro 0.6666018962860107\n",
      "In an injury-plagued 2001 – 02 season , he led the team in scoring ( 22.9 ppg ) , assists ( 5.2 apg  0.6664695143699646\n",
      "Jordan led the league with 28.7 points per game , securing his fifth regular-season MVP award , plus 0.6528033018112183\n",
      "------------------------------\n",
      "**Answer:** Michael Jordan scored 15 points in his final NBA game.\n",
      "\n",
      "**Source:** Michael Jordan\n",
      "\n",
      "**Relevant Snippet:** \"After scoring only 13 points in the game, Jordan went to the bench with 4 minutes and 13 seconds remaining in the third quarter... At 1:45, Jordan was intentionally fouled by the 76ers' Eric Snow, and stepped to the line to make both free throws.\"\n"
     ]
    }
   ],
   "source": [
    "# OpenAI\n",
    "results = openai_query_engine.query(user_input)\n",
    "for node in results.source_nodes:\n",
    "    print(node.text[:100], node.score)\n",
    "print(\"---\" * 10)\n",
    "print(results.response)"
   ]
  },
  {
   "cell_type": "code",
   "execution_count": 11,
   "metadata": {},
   "outputs": [
    {
     "name": "stdout",
     "output_type": "stream",
     "text": [
      "With the recognition that 2002 – 03 would be Jordan 's final season , tributes were paid to him thro 0.6666018962860107\n",
      "In an injury-plagued 2001 – 02 season , he led the team in scoring ( 22.9 ppg ) , assists ( 5.2 apg  0.6664695143699646\n",
      "Jordan led the league with 28.7 points per game , securing his fifth regular-season MVP award , plus 0.6528033018112183\n",
      "------------------------------\n",
      "Answer: 13 points\n",
      "Source: Michael Jordan\n",
      "Relevant Snippet: \"After scoring only 13 points in the game, Jordan went to the bench with 4 minutes and 13 seconds remaining in the third quarter and with his team trailing the Philadelphia 76ers, 75–56.\"\n"
     ]
    }
   ],
   "source": [
    "# AnyScale\n",
    "results = anyscale_query_engine.query(user_input)\n",
    "for node in results.source_nodes:\n",
    "    print(node.text[:100], node.score)\n",
    "print(\"---\" * 10)\n",
    "print(results.response)"
   ]
  },
  {
   "cell_type": "markdown",
   "metadata": {},
   "source": [
    "# Reranking\n",
    "\n",
    "Reranking involves a two stage search process - a fast, less accurate search to narrow down the search space followed by a slower search that prioritizes accuracy. \n",
    "\n",
    "In this case we perform a search through our vector DB created earlier and use [cross-encoder/ms-marco-MiniLM-L-2-v2](https://huggingface.co/cross-encoder/ms-marco-MiniLM-L-2-v2), an open-source (Apache 2.0) cross-encoder model. The former searches for the 10 most similar nodes while the latter narrows it down to 3."
   ]
  },
  {
   "cell_type": "code",
   "execution_count": 12,
   "metadata": {},
   "outputs": [
    {
     "name": "stderr",
     "output_type": "stream",
     "text": [
      "/Users/akashsaravanan/Library/Caches/pypoetry/virtualenvs/genai-bootcamp-4wh1UwyX-py3.12/lib/python3.12/site-packages/huggingface_hub/file_download.py:1132: FutureWarning: `resume_download` is deprecated and will be removed in version 1.0.0. Downloads always resume when possible. If you want to force a new download, use `force_download=True`.\n",
      "  warnings.warn(\n"
     ]
    }
   ],
   "source": [
    "from llama_index.core.postprocessor import SentenceTransformerRerank\n",
    "reranker = SentenceTransformerRerank(\n",
    "    model=\"cross-encoder/ms-marco-MiniLM-L-4-v2\", top_n=5\n",
    ")"
   ]
  },
  {
   "cell_type": "code",
   "execution_count": 13,
   "metadata": {},
   "outputs": [],
   "source": [
    "# OpenAI\n",
    "openai_rerank_query_engine = index.as_query_engine(\n",
    "    llm=openai_llm,\n",
    "    text_qa_template=prompt,\n",
    "    similarity_top_k=10,\n",
    "    node_postprocessors=[reranker],\n",
    ")\n",
    "\n",
    "# Anyscale\n",
    "anyscale_rerank_query_engine = index.as_query_engine(\n",
    "    llm=anyscale_llm,\n",
    "    text_qa_template=prompt,\n",
    "    similarity_top_k=10,\n",
    "    node_postprocessors=[reranker],\n",
    ")"
   ]
  },
  {
   "cell_type": "code",
   "execution_count": 14,
   "metadata": {},
   "outputs": [
    {
     "name": "stdout",
     "output_type": "stream",
     "text": [
      "Jordan led the league with 28.7 points per game , securing his fifth regular-season MVP award , plus 7.501506\n",
      "Jordan also holds the top career regular season and playoff scoring averages of 30.1 and 33.4 points 7.0058327\n",
      "Jordan led the league in scoring with 30.4 ppg , and won the league 's regular season and All-Star G 6.9607058\n",
      "In an injury-plagued 2001 – 02 season , he led the team in scoring ( 22.9 ppg ) , assists ( 5.2 apg  6.7087536\n",
      "With the recognition that 2002 – 03 would be Jordan 's final season , tributes were paid to him thro 6.416082\n",
      "------------------------------\n",
      "Michael Jordan scored 15 points in his final NBA game.\n",
      "\n",
      "Source: Michael Jordan\n",
      "Relevant Snippet: \"Jordan's final NBA game was on April 16, 2003 in Philadelphia. After scoring only 13 points in the game, Jordan went to the bench with 4 minutes and 13 seconds remaining in the third quarter and with his team trailing the Philadelphia 76ers, 75 – 56. ... At 1:45, Jordan was intentionally fouled by the 76ers' Eric Snow, and stepped to the line to make both free throws.\"\n"
     ]
    }
   ],
   "source": [
    "# OpenAI\n",
    "results = openai_rerank_query_engine.query(user_input)\n",
    "for node in results.source_nodes:\n",
    "    print(node.text[:100], node.score)\n",
    "print(\"---\" * 10)\n",
    "print(results.response)"
   ]
  },
  {
   "cell_type": "code",
   "execution_count": 15,
   "metadata": {},
   "outputs": [
    {
     "name": "stdout",
     "output_type": "stream",
     "text": [
      "Jordan led the league with 28.7 points per game , securing his fifth regular-season MVP award , plus 7.501506\n",
      "Jordan also holds the top career regular season and playoff scoring averages of 30.1 and 33.4 points 7.0058327\n",
      "Jordan led the league in scoring with 30.4 ppg , and won the league 's regular season and All-Star G 6.9607058\n",
      "In an injury-plagued 2001 – 02 season , he led the team in scoring ( 22.9 ppg ) , assists ( 5.2 apg  6.7087536\n",
      "With the recognition that 2002 – 03 would be Jordan 's final season , tributes were paid to him thro 6.416082\n",
      "------------------------------\n",
      "Answer: 13 points\n",
      "Source: Michael Jordan\n",
      "Relevant Snippet: \"After scoring only 13 points in the game, Jordan went to the bench with 4 minutes and 13 seconds remaining in the third quarter and with his team trailing the Philadelphia 76ers, 75–56.\"\n"
     ]
    }
   ],
   "source": [
    "# AnyScale\n",
    "results = anyscale_rerank_query_engine.query(user_input)\n",
    "for node in results.source_nodes:\n",
    "    print(node.text[:100], node.score)\n",
    "print(\"---\" * 10)\n",
    "print(results.response)"
   ]
  },
  {
   "cell_type": "markdown",
   "metadata": {},
   "source": [
    "# Keyword / Lexical Search\n",
    "\n",
    "Below is an example of a lexical search method - [BM25](https://en.wikipedia.org/wiki/Okapi_BM25). We create a retriever from the same chunked documents that we created for the semantic search approach from before."
   ]
  },
  {
   "cell_type": "code",
   "execution_count": 16,
   "metadata": {},
   "outputs": [
    {
     "name": "stderr",
     "output_type": "stream",
     "text": [
      "Repo card metadata block was not found. Setting CardData to empty.\n",
      "100%|██████████| 100/100 [00:00<00:00, 4380.15it/s]\n"
     ]
    },
    {
     "data": {
      "application/vnd.jupyter.widget-view+json": {
       "model_id": "4e0248ff85914f3b93f29713775d6e3f",
       "version_major": 2,
       "version_minor": 0
      },
      "text/plain": [
       "Parsing nodes:   0%|          | 0/100 [00:00<?, ?it/s]"
      ]
     },
     "metadata": {},
     "output_type": "display_data"
    },
    {
     "name": "stdout",
     "output_type": "stream",
     "text": [
      "Documents before chunking: 100\n",
      "Documents after chunking: 837\n"
     ]
    }
   ],
   "source": [
    "import utils\n",
    "data = utils.load_data(sample_size=100)\n",
    "documents = utils.preprocess_data(data)\n",
    "nodes = utils.chunk_documents(documents)"
   ]
  },
  {
   "cell_type": "code",
   "execution_count": 17,
   "metadata": {},
   "outputs": [],
   "source": [
    "from llama_index.retrievers.bm25 import BM25Retriever\n",
    "bm25_retriever = BM25Retriever.from_defaults(nodes=nodes, similarity_top_k=3)"
   ]
  },
  {
   "cell_type": "code",
   "execution_count": 18,
   "metadata": {},
   "outputs": [
    {
     "name": "stdout",
     "output_type": "stream",
     "text": [
      "Jordan led the league in scoring with 30.4 ppg , and won the league 's regular season and All-Star G 20.286742252961535\n",
      "In later years , the NBA shortened its three-point line to 22 feet ( from 23 feet , 9 inches ) , whi 19.37173182877688\n",
      "He became the only player other than Wilt Chamberlain to score 3,000 points in a season , averaging  18.505265737705894\n"
     ]
    }
   ],
   "source": [
    "# This query relies on semantic meaning so the poor results are not surprising\n",
    "bm25_results = bm25_retriever.retrieve(user_input)\n",
    "for result in bm25_results:\n",
    "    print(result.text[:100], result.score)"
   ]
  },
  {
   "cell_type": "code",
   "execution_count": 40,
   "metadata": {},
   "outputs": [
    {
     "name": "stdout",
     "output_type": "stream",
     "text": [
      "I don't know. The provided context does not contain information about the number of points Michael Jordan scored in his final NBA game.\n"
     ]
    }
   ],
   "source": [
    "# OpenAI\n",
    "print(openai_query_engine.synthesize(user_input, bm25_results).response)"
   ]
  },
  {
   "cell_type": "code",
   "execution_count": 41,
   "metadata": {},
   "outputs": [
    {
     "name": "stdout",
     "output_type": "stream",
     "text": [
      "I don't know.\n",
      "\n",
      "The provided context does not mention Michael Jordan's final NBA game or the number of points he scored in it. The context primarily focuses on his achievements and performances during his playing career, but it does not provide information about his final game.\n"
     ]
    }
   ],
   "source": [
    "# AnyScale\n",
    "print(anyscale_query_engine.synthesize(user_input, bm25_results).response)"
   ]
  },
  {
   "cell_type": "markdown",
   "metadata": {},
   "source": [
    "# Rank Fusion\n",
    "\n",
    "[Reciprocal Rank Fusion (RRF)](https://plg.uwaterloo.ca/~gvcormac/cormacksigir09-rrf.pdf) is a commonly used rank fusion algorithm. LlamaIndex has an implementation of the same within `llama_index.core.retrievers.QueryFusionRetriever`. For illustration purposes, we implement the rank fusion algorithm below."
   ]
  },
  {
   "cell_type": "code",
   "execution_count": 19,
   "metadata": {},
   "outputs": [
    {
     "name": "stdout",
     "output_type": "stream",
     "text": [
      "With the recognition that 2002 – 03 would be Jordan 's final season , tributes were paid to him thro 0.6666018962860107\n",
      "In an injury-plagued 2001 – 02 season , he led the team in scoring ( 22.9 ppg ) , assists ( 5.2 apg  0.6664695143699646\n",
      "Jordan led the league with 28.7 points per game , securing his fifth regular-season MVP award , plus 0.6528033018112183\n"
     ]
    }
   ],
   "source": [
    "# The retriever in both query engines are the same, so we use only one\n",
    "anyscale_results = anyscale_query_engine.retrieve(user_input)\n",
    "for result in anyscale_results:\n",
    "    print(result.text[:100], result.score)"
   ]
  },
  {
   "cell_type": "code",
   "execution_count": 20,
   "metadata": {},
   "outputs": [],
   "source": [
    "# Ref: https://github.com/run-llama/llama_index/blob/main/llama-index-core/llama_index/core/retrievers/fusion_retriever.py\n",
    "\n",
    "def reciprocal_rank_fusion(results):\n",
    "    fused_scores = {}\n",
    "    text_to_node = {}\n",
    "    k = 60.0 # See paper referenced at the top of this section\n",
    "    # Compute Reciprocal Rank\n",
    "    for nodes_with_scores in results:\n",
    "        for rank, node_with_score in enumerate(\n",
    "            sorted(nodes_with_scores, key=lambda x: x.score or 0.0, reverse=True)\n",
    "        ):\n",
    "            text = node_with_score.node.get_content()\n",
    "            text_to_node[text] = node_with_score\n",
    "            if text not in fused_scores:\n",
    "                fused_scores[text] = 0.0\n",
    "            fused_scores[text] += 1.0 / (rank + k)\n",
    "    # Sort results\n",
    "    reranked_results = dict(\n",
    "        sorted(fused_scores.items(), key=lambda x: x[1], reverse=True)\n",
    "    )\n",
    "    reranked_nodes = []\n",
    "    for text, score in reranked_results.items():\n",
    "        reranked_nodes.append(text_to_node[text])\n",
    "        reranked_nodes[-1].score = score\n",
    "    return reranked_nodes"
   ]
  },
  {
   "cell_type": "code",
   "execution_count": 21,
   "metadata": {},
   "outputs": [
    {
     "name": "stdout",
     "output_type": "stream",
     "text": [
      "Jordan led the league in scoring with 30.4 ppg , and won the league 's regular season and All-Star G 0.016666666666666666\n",
      "With the recognition that 2002 – 03 would be Jordan 's final season , tributes were paid to him thro 0.016666666666666666\n",
      "In later years , the NBA shortened its three-point line to 22 feet ( from 23 feet , 9 inches ) , whi 0.01639344262295082\n",
      "In an injury-plagued 2001 – 02 season , he led the team in scoring ( 22.9 ppg ) , assists ( 5.2 apg  0.01639344262295082\n",
      "He became the only player other than Wilt Chamberlain to score 3,000 points in a season , averaging  0.016129032258064516\n",
      "Jordan led the league with 28.7 points per game , securing his fifth regular-season MVP award , plus 0.016129032258064516\n"
     ]
    }
   ],
   "source": [
    "reranked = reciprocal_rank_fusion([bm25_results, anyscale_results])\n",
    "for result in reranked:\n",
    "    print(result.text[:100], result.score)"
   ]
  },
  {
   "cell_type": "code",
   "execution_count": 42,
   "metadata": {},
   "outputs": [
    {
     "name": "stdout",
     "output_type": "stream",
     "text": [
      "Michael Jordan scored 15 points in his final NBA game.\n",
      "\n",
      "Source: Michael Jordan\n",
      "Relevant Snippet: \"Jordan finally rose from the bench and re-entered the game, replacing Larry Hughes with 2:35 remaining. At 1:45, Jordan was intentionally fouled by the 76ers' Eric Snow, and stepped to the line to make both free throws. After the second foul shot, the 76ers in-bounded the ball to rookie John Salmons, who in turn was intentionally fouled by Bobby Simmons one second later, stopping time so that Jordan could return to the bench.\"\n"
     ]
    }
   ],
   "source": [
    "# OpenAI\n",
    "print(openai_query_engine.synthesize(user_input, reranked).response)"
   ]
  },
  {
   "cell_type": "code",
   "execution_count": 43,
   "metadata": {},
   "outputs": [
    {
     "name": "stdout",
     "output_type": "stream",
     "text": [
      "Answer: 13\n",
      "Source: Michael Jordan\n",
      "Relevant Snippet: \"After scoring only 13 points in the game, Jordan went to the bench with 4 minutes and 13 seconds remaining in the third quarter and with his team trailing the Philadelphia 76ers, 75–56.\"\n"
     ]
    }
   ],
   "source": [
    "# AnyScale\n",
    "print(anyscale_query_engine.synthesize(user_input, reranked).response)"
   ]
  },
  {
   "cell_type": "markdown",
   "metadata": {},
   "source": [
    "# Query Rewriting\n",
    "\n",
    "In this next example, we prompt an LLM to generate several variants of a given query. We then perform retrieval for each query."
   ]
  },
  {
   "cell_type": "code",
   "execution_count": 22,
   "metadata": {},
   "outputs": [],
   "source": [
    "# Ref: https://docs.llamaindex.ai/en/latest/examples/query_transformations/query_transform_cookbook/#query-rewriting-custom\n",
    "# Define a prompt to generate a number of queries similar to a given query\n",
    "query_gen_str = \"\"\"\\\n",
    "You are a helpful assistant that generates similar search queries based on a \\\n",
    "single input query. Generate {num_queries} search queries, one on each line, \\\n",
    "related to the following input query. Do not include anything else in your response.\n",
    "Query: {query}\n",
    "Queries:\n",
    "\"\"\"\n",
    "query_gen_prompt = PromptTemplate(query_gen_str)"
   ]
  },
  {
   "cell_type": "code",
   "execution_count": 44,
   "metadata": {},
   "outputs": [],
   "source": [
    "def generate_queries(query: str, llm, num_queries: int = 4):\n",
    "    response = llm.predict(\n",
    "        query_gen_prompt, num_queries=num_queries, query=query\n",
    "    )\n",
    "    # assumes LLM properly put each query on a newline\n",
    "    queries = response.split(\"\\n\")\n",
    "    return queries"
   ]
  },
  {
   "cell_type": "code",
   "execution_count": 45,
   "metadata": {},
   "outputs": [
    {
     "name": "stdout",
     "output_type": "stream",
     "text": [
      "What was the date of Michael Jordan's final NBA game?\n",
      "What team did Michael Jordan play for in his final NBA game?\n",
      "What was the outcome of Michael Jordan's final NBA game?\n",
      "What was Michael Jordan's highest scoring performance in his NBA career?\n",
      "How many points did Michael Jordan actually score in his final NBA game?\n"
     ]
    }
   ],
   "source": [
    "# Anyscale\n",
    "anyscale_queries = generate_queries(query=user_input, llm=anyscale_llm, num_queries=4) + [user_input]\n",
    "\n",
    "print(\"\\n\".join(anyscale_queries))"
   ]
  },
  {
   "cell_type": "code",
   "execution_count": 46,
   "metadata": {},
   "outputs": [
    {
     "name": "stdout",
     "output_type": "stream",
     "text": [
      "With the recognition that 2002 – 03 would be Jordan 's final season , tributes were paid to him thro 0.6940546035766602\n",
      "With the recognition that 2002 – 03 would be Jordan 's final season , tributes were paid to him thro 0.6894277334213257\n",
      "With the recognition that 2002 – 03 would be Jordan 's final season , tributes were paid to him thro 0.6841335296630859\n",
      "Jordan also holds the top career regular season and playoff scoring averages of 30.1 and 33.4 points 0.7003832459449768\n",
      "With the recognition that 2002 – 03 would be Jordan 's final season , tributes were paid to him thro 0.6666018962860107\n"
     ]
    }
   ],
   "source": [
    "# Store all results but see only the top result per query\n",
    "all_anyscale_results = []\n",
    "for query in anyscale_queries:\n",
    "    results = anyscale_query_engine.retrieve(query)\n",
    "    all_anyscale_results.append(results)\n",
    "    print(results[0].text[:100], results[0].score)"
   ]
  },
  {
   "cell_type": "code",
   "execution_count": 47,
   "metadata": {},
   "outputs": [
    {
     "name": "stdout",
     "output_type": "stream",
     "text": [
      "Michael Jordan final NBA game points scored\n",
      "Michael Jordan last game NBA points total\n",
      "Michael Jordan retirement game scoring stats\n",
      "Michael Jordan final match NBA score details\n",
      "How many points did Michael Jordan actually score in his final NBA game?\n"
     ]
    }
   ],
   "source": [
    "# OpenAI\n",
    "openai_queries = generate_queries(query=user_input, llm=openai_llm, num_queries=4) + [user_input]\n",
    "\n",
    "print(\"\\n\".join(openai_queries))"
   ]
  },
  {
   "cell_type": "code",
   "execution_count": 48,
   "metadata": {},
   "outputs": [
    {
     "name": "stdout",
     "output_type": "stream",
     "text": [
      "Jordan also holds the top career regular season and playoff scoring averages of 30.1 and 33.4 points 0.7494400143623352\n",
      "In an injury-plagued 2001 – 02 season , he led the team in scoring ( 22.9 ppg ) , assists ( 5.2 apg  0.7365968227386475\n",
      "In an injury-plagued 2001 – 02 season , he led the team in scoring ( 22.9 ppg ) , assists ( 5.2 apg  0.7230042219161987\n",
      "With the recognition that 2002 – 03 would be Jordan 's final season , tributes were paid to him thro 0.714702308177948\n",
      "With the recognition that 2002 – 03 would be Jordan 's final season , tributes were paid to him thro 0.6666018962860107\n"
     ]
    }
   ],
   "source": [
    "# Store all results but see only the top result per query\n",
    "all_openai_results = []\n",
    "for query in openai_queries:\n",
    "    results = openai_query_engine.retrieve(query)\n",
    "    all_openai_results.append(results)\n",
    "    print(results[0].text[:100], results[0].score)"
   ]
  },
  {
   "cell_type": "markdown",
   "metadata": {},
   "source": [
    "## Rank Fusion (Again)\n",
    "\n",
    "Let's try the rank fusion algorithm we saw previously again on the results from above."
   ]
  },
  {
   "cell_type": "code",
   "execution_count": 49,
   "metadata": {},
   "outputs": [
    {
     "name": "stdout",
     "output_type": "stream",
     "text": [
      "With the recognition that 2002 – 03 would be Jordan 's final season , tributes were paid to him thro 0.06666666666666667\n",
      "In March 1995 , Jordan decided to quit baseball due to the ongoing Major League Baseball strike , as 0.03278688524590164\n",
      "In his 1998 autobiography For the Love of the Game , Jordan wrote that he had been preparing for ret 0.03252247488101534\n",
      "Jordan also holds the top career regular season and playoff scoring averages of 30.1 and 33.4 points 0.016666666666666666\n",
      "In later years , the NBA shortened its three-point line to 22 feet ( from 23 feet , 9 inches ) , whi 0.01639344262295082\n",
      "In an injury-plagued 2001 – 02 season , he led the team in scoring ( 22.9 ppg ) , assists ( 5.2 apg  0.01639344262295082\n",
      "= Michael Jordan = \n",
      " \n",
      " Michael Jeffrey Jordan ( born February 17 , 1963 ) , also known by his initia 0.016129032258064516\n",
      "Jordan led the league in scoring with 30.4 ppg , and won the league 's regular season and All-Star G 0.016129032258064516\n",
      "Among his numerous accomplishments , Jordan holds the NBA records for highest career regular season  0.016129032258064516\n",
      "Jordan led the league with 28.7 points per game , securing his fifth regular-season MVP award , plus 0.016129032258064516\n"
     ]
    }
   ],
   "source": [
    "# AnyScale\n",
    "reranked = reciprocal_rank_fusion(all_anyscale_results)\n",
    "for result in reranked:\n",
    "    print(result.text[:100], result.score)"
   ]
  },
  {
   "cell_type": "code",
   "execution_count": 50,
   "metadata": {},
   "outputs": [
    {
     "name": "stdout",
     "output_type": "stream",
     "text": [
      "With the recognition that 2002 – 03 would be Jordan 's final season , tributes were paid to him throughout the NBA . In his final game at his old home court , the United Center in Chicago , Jordan received a four-minute standing ovation . The Miami Heat retired the number 23 jersey on April 11 , 2003 , even though Jordan never played for the team . At the 2003 All-Star Game , Jordan was offered a starting spot from Tracy McGrady and Allen Iverson , but refused both . In the end he accepted the spot of Vince Carter , who decided to give it up under great public pressure . \n",
      " Jordan 's final NBA game was on April 16 , 2003 in Philadelphia . After scoring only 13 points in the game , Jordan went to the bench with 4 minutes and 13 seconds remaining in the third quarter and with his team trailing the Philadelphia 76ers , 75 – 56 . Just after the start of the fourth quarter , the First Union Center crowd began chanting \" We want Mike ! \" . After much encouragement from coach Doug Collins , Jordan finally rose from the bench and re-entered the game , replacing Larry Hughes with 2 : 35 remaining . At 1 : 45 , Jordan was intentionally fouled by the 76ers ' Eric Snow , and stepped to the line to make both free throws . After the second foul shot , the 76ers in-bounded the ball to rookie John Salmons , who in turn was intentionally fouled by Bobby Simmons one second later , stopping time so that Jordan could return to the bench . Jordan received a three-minute standing ovation from his teammates , his opponents , the officials and the crowd of 21,257 fans . \n",
      " \n",
      " = = Olympic career = = \n",
      " \n",
      " Jordan played on two Olympic gold medal-winning American basketball teams . As a college player he participated , and won the gold , in the 1984 Summer Olympics . The team was coached by Bob Knight and featured players such as Patrick Ewing , Sam Perkins , Chris Mullin , Steve Alford , and Wayman Tisdale . Jordan led the team in scoring , averaging 17.1 ppg for the tournament . \n",
      " In the 1992 Summer Olympics , he was a member of the star-studded squad that included Magic Johnson , Larry Bird , and David Robinson and was dubbed the \" Dream Team \" .\n"
     ]
    }
   ],
   "source": [
    "print(reranked[0].text)"
   ]
  },
  {
   "cell_type": "code",
   "execution_count": 51,
   "metadata": {},
   "outputs": [
    {
     "name": "stdout",
     "output_type": "stream",
     "text": [
      "With the recognition that 2002 – 03 would be Jordan 's final season , tributes were paid to him thro 0.06559139784946236\n",
      "In an injury-plagued 2001 – 02 season , he led the team in scoring ( 22.9 ppg ) , assists ( 5.2 apg  0.04972677595628415\n",
      "Jordan led the league with 28.7 points per game , securing his fifth regular-season MVP award , plus 0.048651507139079855\n",
      "Jordan also holds the top career regular season and playoff scoring averages of 30.1 and 33.4 points 0.03279569892473118\n",
      "In March 1995 , Jordan decided to quit baseball due to the ongoing Major League Baseball strike , as 0.03278688524590164\n",
      "Jordan averaged a league leading 33.6 ppg on 52.6 % shooting , to go with 6.9 rpg and 6.3 apg in lea 0.01639344262295082\n"
     ]
    }
   ],
   "source": [
    "# OpenAI\n",
    "reranked = reciprocal_rank_fusion(all_openai_results)\n",
    "for result in reranked:\n",
    "    print(result.text[:100], result.score)"
   ]
  },
  {
   "cell_type": "code",
   "execution_count": 52,
   "metadata": {},
   "outputs": [
    {
     "name": "stdout",
     "output_type": "stream",
     "text": [
      "With the recognition that 2002 – 03 would be Jordan 's final season , tributes were paid to him throughout the NBA . In his final game at his old home court , the United Center in Chicago , Jordan received a four-minute standing ovation . The Miami Heat retired the number 23 jersey on April 11 , 2003 , even though Jordan never played for the team . At the 2003 All-Star Game , Jordan was offered a starting spot from Tracy McGrady and Allen Iverson , but refused both . In the end he accepted the spot of Vince Carter , who decided to give it up under great public pressure . \n",
      " Jordan 's final NBA game was on April 16 , 2003 in Philadelphia . After scoring only 13 points in the game , Jordan went to the bench with 4 minutes and 13 seconds remaining in the third quarter and with his team trailing the Philadelphia 76ers , 75 – 56 . Just after the start of the fourth quarter , the First Union Center crowd began chanting \" We want Mike ! \" . After much encouragement from coach Doug Collins , Jordan finally rose from the bench and re-entered the game , replacing Larry Hughes with 2 : 35 remaining . At 1 : 45 , Jordan was intentionally fouled by the 76ers ' Eric Snow , and stepped to the line to make both free throws . After the second foul shot , the 76ers in-bounded the ball to rookie John Salmons , who in turn was intentionally fouled by Bobby Simmons one second later , stopping time so that Jordan could return to the bench . Jordan received a three-minute standing ovation from his teammates , his opponents , the officials and the crowd of 21,257 fans . \n",
      " \n",
      " = = Olympic career = = \n",
      " \n",
      " Jordan played on two Olympic gold medal-winning American basketball teams . As a college player he participated , and won the gold , in the 1984 Summer Olympics . The team was coached by Bob Knight and featured players such as Patrick Ewing , Sam Perkins , Chris Mullin , Steve Alford , and Wayman Tisdale . Jordan led the team in scoring , averaging 17.1 ppg for the tournament . \n",
      " In the 1992 Summer Olympics , he was a member of the star-studded squad that included Magic Johnson , Larry Bird , and David Robinson and was dubbed the \" Dream Team \" .\n"
     ]
    }
   ],
   "source": [
    "print(reranked[0].text)"
   ]
  },
  {
   "cell_type": "markdown",
   "metadata": {},
   "source": [
    "# Query Transformation: HyDE\n",
    "\n",
    "We examine two scenarios - one where we don't use HyDE and one where we do. \n",
    "\n",
    "## Without Hyde\n",
    "\n"
   ]
  },
  {
   "cell_type": "code",
   "execution_count": 32,
   "metadata": {},
   "outputs": [],
   "source": [
    "user_input = \"How many points did Michael Jordan actually score in his final NBA game?\""
   ]
  },
  {
   "cell_type": "code",
   "execution_count": 33,
   "metadata": {},
   "outputs": [
    {
     "name": "stdout",
     "output_type": "stream",
     "text": [
      "Michael Jordan scored 15 points in his final NBA game.\n",
      "\n",
      "Source: Michael Jordan\n",
      "Relevant Snippet: \"Jordan's final NBA game was on April 16, 2003 in Philadelphia. After scoring only 13 points in the game, Jordan went to the bench with 4 minutes and 13 seconds remaining in the third quarter... At 1:45, Jordan was intentionally fouled by the 76ers' Eric Snow, and stepped to the line to make both free throws.\"\n"
     ]
    }
   ],
   "source": [
    "print(openai_query_engine.query(user_input))"
   ]
  },
  {
   "cell_type": "code",
   "execution_count": 34,
   "metadata": {},
   "outputs": [
    {
     "name": "stdout",
     "output_type": "stream",
     "text": [
      "Answer: 13 points\n",
      "Source: Michael Jordan\n",
      "Relevant Snippet: \"After scoring only 13 points in the game, Jordan went to the bench with 4 minutes and 13 seconds remaining in the third quarter and with his team trailing the Philadelphia 76ers, 75–56.\"\n"
     ]
    }
   ],
   "source": [
    "print(anyscale_query_engine.query(user_input))"
   ]
  },
  {
   "cell_type": "markdown",
   "metadata": {},
   "source": [
    "## With HyDE"
   ]
  },
  {
   "cell_type": "code",
   "execution_count": 35,
   "metadata": {},
   "outputs": [],
   "source": [
    "# Query transforms perform query transformations such as expansion, HyDE, etc.\n",
    "from llama_index.core.indices.query.query_transform import HyDEQueryTransform\n",
    "openai_hyde = HyDEQueryTransform(llm=openai_llm, include_original=True)\n",
    "anyscale_hyde = HyDEQueryTransform(llm=anyscale_llm, include_original=True)"
   ]
  },
  {
   "cell_type": "code",
   "execution_count": 36,
   "metadata": {},
   "outputs": [],
   "source": [
    "# Query engine applies a query transformation before retrieval/answer generation\n",
    "from llama_index.core.query_engine import TransformQueryEngine\n",
    "anyscale_hyde_query_engine = TransformQueryEngine(anyscale_query_engine, anyscale_hyde)\n",
    "openai_hyde_query_engine = TransformQueryEngine(openai_query_engine, anyscale_hyde)"
   ]
  },
  {
   "cell_type": "code",
   "execution_count": 37,
   "metadata": {},
   "outputs": [
    {
     "name": "stdout",
     "output_type": "stream",
     "text": [
      "Please write a passage to answer the question\n",
      "Try to include as many key details as possible.\n",
      "\n",
      "\n",
      "{context_str}\n",
      "\n",
      "\n",
      "Passage:\"\"\"\n",
      "\n"
     ]
    }
   ],
   "source": [
    "# Show the HyDE prompt\n",
    "print(anyscale_hyde.get_prompts()[\"hyde_prompt\"].template)"
   ]
  },
  {
   "cell_type": "code",
   "execution_count": 38,
   "metadata": {},
   "outputs": [
    {
     "name": "stdout",
     "output_type": "stream",
     "text": [
      "Hypothetical document:\n",
      "Here is a passage answering the question:\n",
      "\n",
      "Michael Jordan's final NBA game took place on April 18, 2003, when his Washington Wizards faced off against the Philadelphia 76ers in the first round of the Eastern Conference playoffs. In a game that would ultimately be a 107-87 loss for the Wizards, Jordan, then 40 years old, played 37 minutes and scored 15 points on 6-of-15 shooting from the field, including 1-of-3 from three-point range. He also added 4 rebounds, 2 assists, and 2 steals to his stat line. Although the game marked the end of Jordan's illustrious 15-year NBA career, his 15-point performance was a testament to his enduring skill and competitive drive, even in the twilight of his playing days.\n",
      "------------------------------------------------------------------------------------------\n",
      "Answer: 13 points\n",
      "Source: Michael Jordan\n",
      "Relevant Snippet: \"After scoring only 13 points in the game, Jordan went to the bench with 4 minutes and 13 seconds remaining in the third quarter and with his team trailing the Philadelphia 76ers, 75–56.\"\n"
     ]
    }
   ],
   "source": [
    "# Anyscale\n",
    "print(\"Hypothetical document:\")\n",
    "print(anyscale_hyde.run(user_input).custom_embedding_strs[0])\n",
    "print(\"---\" * 30)\n",
    "print(anyscale_hyde_query_engine.query(user_input))"
   ]
  },
  {
   "cell_type": "code",
   "execution_count": 39,
   "metadata": {},
   "outputs": [
    {
     "name": "stdout",
     "output_type": "stream",
     "text": [
      "Hypothetical document:\n",
      "OpenAI: Michael Jordan, widely regarded as one of the greatest basketball players of all time, played his final NBA game on April 16, 2003. This game was between the Washington Wizards, the team Jordan was playing for at the time, and the Philadelphia 76ers. Despite the Wizards' loss with a final score of 107-87, Jordan's performance was a memorable moment in basketball history. In his last appearance on the NBA court, Michael Jordan scored 15 points. This game marked the end of an illustrious career that included six NBA championships, five MVP awards, and numerous other accolades. Jordan's final points came from a free throw, and he received a standing ovation from the crowd, which included fans, fellow players, and even opponents, all paying tribute to his legendary career.\n",
      "------------------------------------------------------------------------------------------\n",
      "Michael Jordan scored 15 points in his final NBA game.\n",
      "\n",
      "Source: Michael Jordan\n",
      "Relevant Snippet: \"Jordan's final NBA game was on April 16, 2003 in Philadelphia. After scoring only 13 points in the game, Jordan went to the bench with 4 minutes and 13 seconds remaining in the third quarter... Jordan finally rose from the bench and re-entered the game... At 1:45, Jordan was intentionally fouled by the 76ers' Eric Snow, and stepped to the line to make both free throws.\"\n"
     ]
    }
   ],
   "source": [
    "# OpenAI\n",
    "print(\"Hypothetical document:\")\n",
    "print(\"OpenAI:\", openai_hyde.run(user_input).custom_embedding_strs[0])\n",
    "print(\"---\" * 30)\n",
    "print(openai_hyde_query_engine.query(user_input))"
   ]
  }
 ],
 "metadata": {
  "kernelspec": {
   "display_name": "genai-bootcamp-4wh1UwyX-py3.12",
   "language": "python",
   "name": "python3"
  },
  "language_info": {
   "codemirror_mode": {
    "name": "ipython",
    "version": 3
   },
   "file_extension": ".py",
   "mimetype": "text/x-python",
   "name": "python",
   "nbconvert_exporter": "python",
   "pygments_lexer": "ipython3",
   "version": "3.12.3"
  }
 },
 "nbformat": 4,
 "nbformat_minor": 2
}
