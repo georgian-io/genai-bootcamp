{
 "cells": [
  {
   "cell_type": "code",
   "execution_count": 1,
   "metadata": {},
   "outputs": [],
   "source": [
    "import os\n",
    "import tqdm\n",
    "import numpy as np\n",
    "import pandas as pd\n",
    "from datasets import load_dataset\n",
    "from llama_index.core.node_parser import TokenTextSplitter, SentenceSplitter\n",
    "from llama_index.embeddings.huggingface import HuggingFaceEmbedding\n",
    "from llama_index.core import Document, VectorStoreIndex"
   ]
  },
  {
   "cell_type": "markdown",
   "metadata": {},
   "source": [
    "# API Setup"
   ]
  },
  {
   "cell_type": "code",
   "execution_count": 2,
   "metadata": {},
   "outputs": [
    {
     "data": {
      "text/plain": [
       "True"
      ]
     },
     "execution_count": 2,
     "metadata": {},
     "output_type": "execute_result"
    }
   ],
   "source": [
    "from dotenv import load_dotenv\n",
    "load_dotenv(dotenv_path=\"../.env\")"
   ]
  },
  {
   "cell_type": "code",
   "execution_count": 5,
   "metadata": {},
   "outputs": [
    {
     "name": "stdout",
     "output_type": "stream",
     "text": [
      "Hello! How can I assist you today?\n"
     ]
    }
   ],
   "source": [
    "# OpenAI\n",
    "from openai import OpenAI\n",
    "# Set up OpenAI client\n",
    "client = OpenAI(\n",
    "    api_key = os.environ.get('OPENAI_API_KEY'),\n",
    "    base_url = os.environ.get('OPENAI_BASE_URL')\n",
    ")\n",
    "\n",
    "# Get output\n",
    "chat_completion = client.chat.completions.create(\n",
    "    model=\"gpt-4o\",\n",
    "    messages=[{\"role\": \"user\", \"content\": \"Hello World!\"}],\n",
    ")\n",
    "print(chat_completion.choices[0].message.content)"
   ]
  },
  {
   "cell_type": "code",
   "execution_count": 4,
   "metadata": {},
   "outputs": [
    {
     "name": "stdout",
     "output_type": "stream",
     "text": [
      "The classic \"Hello World!\" greeting! It's great to have you here! Is there something I can help you with, or would you like to chat about something in particular? I'm all ears (or rather, all text)!\n"
     ]
    }
   ],
   "source": [
    "# OpenAI\n",
    "from openai import OpenAI\n",
    "# Set up OpenAI client\n",
    "client = OpenAI(\n",
    "    api_key = os.environ.get('ANYSCALE_API_KEY'),\n",
    "    base_url = os.environ.get('ANYSCALE_BASE_URL')\n",
    ")\n",
    "\n",
    "# Get output\n",
    "chat_completion = client.chat.completions.create(\n",
    "    model=\"meta-llama/Meta-Llama-3-70B-Instruct\",\n",
    "    messages=[{\"role\": \"user\", \"content\": \"Hello World!\"}],\n",
    ")\n",
    "print(chat_completion.choices[0].message.content)"
   ]
  },
  {
   "cell_type": "code",
   "execution_count": null,
   "metadata": {},
   "outputs": [],
   "source": []
  }
 ],
 "metadata": {
  "kernelspec": {
   "display_name": "genai-bootcamp-4wh1UwyX-py3.12",
   "language": "python",
   "name": "python3"
  },
  "language_info": {
   "codemirror_mode": {
    "name": "ipython",
    "version": 3
   },
   "file_extension": ".py",
   "mimetype": "text/x-python",
   "name": "python",
   "nbconvert_exporter": "python",
   "pygments_lexer": "ipython3",
   "version": "3.12.0"
  }
 },
 "nbformat": 4,
 "nbformat_minor": 2
}
