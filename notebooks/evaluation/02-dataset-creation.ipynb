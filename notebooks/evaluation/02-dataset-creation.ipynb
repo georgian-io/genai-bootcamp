{
 "cells": [
  {
   "cell_type": "markdown",
   "metadata": {},
   "source": [
    "# Step 2: Create evaluation dataset\n",
    "\n",
    "Next, we're going to create an evaluation dataset for our app."
   ]
  },
  {
   "cell_type": "markdown",
   "metadata": {},
   "source": [
    "## Run the earlier notebook\n",
    "\n",
    "First, we run the code from the previous notebook. The code below does this for us, we don't need to go back to that notebook!"
   ]
  },
  {
   "cell_type": "code",
   "execution_count": 1,
   "metadata": {},
   "outputs": [
    {
     "name": "stderr",
     "output_type": "stream",
     "text": [
      "Repo card metadata block was not found. Setting CardData to empty.\n",
      "100%|██████████| 5/5 [00:00<00:00, 2799.56it/s]\n"
     ]
    },
    {
     "data": {
      "application/vnd.jupyter.widget-view+json": {
       "model_id": "ad44a7a08a5c4b599b1f067e8b441e5b",
       "version_major": 2,
       "version_minor": 0
      },
      "text/plain": [
       "Parsing nodes:   0%|          | 0/5 [00:00<?, ?it/s]"
      ]
     },
     "metadata": {},
     "output_type": "display_data"
    },
    {
     "name": "stdout",
     "output_type": "stream",
     "text": [
      "Documents before chunking: 5\n",
      "Documents after chunking: 35\n"
     ]
    },
    {
     "name": "stderr",
     "output_type": "stream",
     "text": [
      "/Users/akashsaravanan/Library/Caches/pypoetry/virtualenvs/genai-bootcamp-4wh1UwyX-py3.12/lib/python3.12/site-packages/huggingface_hub/file_download.py:1132: FutureWarning: `resume_download` is deprecated and will be removed in version 1.0.0. Downloads always resume when possible. If you want to force a new download, use `force_download=True`.\n",
      "  warnings.warn(\n"
     ]
    },
    {
     "name": "stdout",
     "output_type": "stream",
     "text": [
      " = Plain maskray = \n",
      " \n",
      " The plain maskray or brown stingray ( Neotrygon annotata ) is a species of stingray in the family Dasyatidae . It is found in shallow , soft-bottomed habitats off northern Australia . Reaching 24 cm ( 9.4 in ) in width , this species has a diamond-shaped , grayish green pectoral fin disc . Its short , whip-like tail has alternating black and white bands and fin folds above and below . There are short rows of thorns on the back and the base of the tail , but otherwise the s\n"
     ]
    },
    {
     "data": {
      "application/vnd.jupyter.widget-view+json": {
       "model_id": "a4a8d9e0c61e43daa247203b1cc7b12a",
       "version_major": 2,
       "version_minor": 0
      },
      "text/plain": [
       "Generating embeddings:   0%|          | 0/35 [00:00<?, ?it/s]"
      ]
     },
     "metadata": {},
     "output_type": "display_data"
    },
    {
     "name": "stderr",
     "output_type": "stream",
     "text": [
      "huggingface/tokenizers: The current process just got forked, after parallelism has already been used. Disabling parallelism to avoid deadlocks...\n",
      "To disable this warning, you can either:\n",
      "\t- Avoid using `tokenizers` before the fork if possible\n",
      "\t- Explicitly set the environment variable TOKENIZERS_PARALLELISM=(true | false)\n"
     ]
    },
    {
     "name": "stdout",
     "output_type": "stream",
     "text": [
      "The plain maskray is found in the continental shelf of northern Australia, from the Wellesley Islands in Queensland to the Bonaparte Archipelago in Western Australia, including the Gulf of Carpentaria and the Timor and Arafura Seas. There are also unsubstantiated reports that its range extends to southern Papua New Guinea.\n",
      "\n",
      "**Source:** Plain maskray  \n",
      "**Relevant Snippet:** \"The plain maskray inhabits the continental shelf of northern Australia from the Wellesley Islands in Queensland to the Bonaparte Archipelago in Western Australia, including the Gulf of Carpentaria and the Timor and Arafura Seas. There are unsubstantiated reports that its range extends to southern Papua New Guinea.\"\n"
     ]
    }
   ],
   "source": [
    "%run 01-llm-app-setup.ipynb"
   ]
  },
  {
   "cell_type": "markdown",
   "metadata": {},
   "source": [
    "## 1. Take the document chunks created earlier\n",
    "\n",
    "These are the chunks of documents in our index."
   ]
  },
  {
   "cell_type": "code",
   "execution_count": 2,
   "metadata": {},
   "outputs": [
    {
     "data": {
      "text/plain": [
       "[TextNode(id_='94eaffc3-04f5-4c5b-b864-40f25cc7474e', embedding=None, metadata={'title': 'Valkyria Chronicles III'}, excluded_embed_metadata_keys=[], excluded_llm_metadata_keys=[], relationships={<NodeRelationship.SOURCE: '1'>: RelatedNodeInfo(node_id='65f91edb-6707-4511-baaa-dd935be47e6e', node_type=<ObjectType.DOCUMENT: '4'>, metadata={'title': 'Valkyria Chronicles III'}, hash='f7aadfb478d20e04be770cd882b5e6a44c185eb28a53810838586313c39ccc7c'), <NodeRelationship.NEXT: '3'>: RelatedNodeInfo(node_id='4316ab8e-f7f1-4deb-9f28-50c0574fea38', node_type=<ObjectType.TEXT: '1'>, metadata={}, hash='32c32274359d6ec7e58a31e940b4b433c53354c2fb60611c7cc6bd2c324d075c')}, text='= Valkyria Chronicles III = \\n \\n Senjō no Valkyria 3 : Unrecorded Chronicles ( Japanese : 戦場のヴァルキュリア3 , lit . Valkyria of the Battlefield 3 ) , commonly referred to as Valkyria Chronicles III outside Japan , is a tactical role-playing video game developed by Sega and Media.Vision for the PlayStation Portable . Released in January 2011 in Japan , it is the third game in the Valkyria series . Employing the same fusion of tactical and real-time gameplay as its predecessors , the story runs parallel to the first game and follows the \" Nameless \" , a penal military unit serving the nation of Gallia during the Second Europan War who perform secret black operations and are pitted against the Imperial unit \" Calamaty Raven \" . \\n The game began development in 2010 , carrying over a large portion of the work done on Valkyria Chronicles II . While it retained the standard features of the series , it also underwent multiple adjustments , such as making the game more forgiving for series newcomers . Character designer Raita Honjou and composer Hitoshi Sakimoto both returned from previous entries , along with Valkyria Chronicles II director Takeshi Ozawa . A large team of writers handled the script . The game \\'s opening theme was sung by May \\'n . \\n It met with positive sales in Japan , and was praised by both Japanese and western critics . After release , it received downloadable content , along with an expanded edition in November of that year . It was also adapted into manga and an original video animation series . Due to low sales of Valkyria Chronicles II , Valkyria Chronicles III was not localized , but a fan translation compatible with the game \\'s expanded edition was released in 2014 . Media.Vision would return to the franchise with the development of Valkyria : Azure Revolution for the PlayStation 4 . \\n \\n = = Gameplay = = \\n \\n As with previous Valkyira Chronicles games , Valkyria Chronicles III is a tactical role-playing game where players take control of a military unit and take part in missions against enemy forces . Stories are told through comic book-like panels with animated character portraits , with characters speaking partially through voiced speech bubbles and partially through unvoiced text .', start_char_idx=1, end_char_idx=2234, text_template='{metadata_str}\\n\\n{content}', metadata_template='{key}: {value}', metadata_seperator='\\n'),\n",
       " TextNode(id_='4316ab8e-f7f1-4deb-9f28-50c0574fea38', embedding=None, metadata={'title': 'Valkyria Chronicles III'}, excluded_embed_metadata_keys=[], excluded_llm_metadata_keys=[], relationships={<NodeRelationship.SOURCE: '1'>: RelatedNodeInfo(node_id='65f91edb-6707-4511-baaa-dd935be47e6e', node_type=<ObjectType.DOCUMENT: '4'>, metadata={'title': 'Valkyria Chronicles III'}, hash='f7aadfb478d20e04be770cd882b5e6a44c185eb28a53810838586313c39ccc7c'), <NodeRelationship.PREVIOUS: '2'>: RelatedNodeInfo(node_id='94eaffc3-04f5-4c5b-b864-40f25cc7474e', node_type=<ObjectType.TEXT: '1'>, metadata={'title': 'Valkyria Chronicles III'}, hash='727ee17d1f2fd2ec9a38ff78c5c4581785d12eddd6897a0dfaa005ba44403e50'), <NodeRelationship.NEXT: '3'>: RelatedNodeInfo(node_id='e7f5e17e-3dfb-4c38-8205-509e17596c48', node_type=<ObjectType.TEXT: '1'>, metadata={}, hash='7acd49eeffe3c708f466c74cd73bd1e4f11e1d010e541962945f7536daddedd1')}, text='The player progresses through a series of linear missions , gradually unlocked as maps that can be freely scanned through and replayed as they are unlocked . The route to each story location on the map varies depending on an individual player \\'s approach : when one option is selected , the other is sealed off to the player . Outside missions , the player characters rest in a camp , where units can be customized and character growth occurs . Alongside the main story missions are character-specific sub missions relating to different squad members . After the game \\'s completion , additional episodes are unlocked , some of them having a higher difficulty than those found in the rest of the game . There are also love simulation elements related to the game \\'s two main heroines , although they take a very minor role . \\n The game \\'s battle system , the BliTZ system , is carried over directly from Valkyira Chronicles . During missions , players select each unit using a top-down perspective of the battlefield map : once a character is selected , the player moves the character around the battlefield in third-person . A character can only act once per-turn , but characters can be granted multiple turns at the expense of other characters \\' turns . Each character has a field and distance of movement limited by their Action Gauge . Up to nine characters can be assigned to a single mission . During gameplay , characters will call out if something happens to them , such as their health points ( HP ) getting low or being knocked out by enemy attacks . Each character has specific \" Potentials \" , skills unique to each character . They are divided into \" Personal Potential \" , which are innate skills that remain unaltered unless otherwise dictated by the story and can either help or impede a character , and \" Battle Potentials \" , which are grown throughout the game and always grant boons to a character . To learn Battle Potentials , each character has a unique \" Masters Table \" , a grid-based skill table that can be used to acquire and link different skills . Characters also have Special Abilities that grant them temporary boosts on the battlefield : Kurt can activate \" Direct Command \" and move around the battlefield without depleting his Action Point gauge , the character Reila can shift into her \" Valkyria Form \" and become invincible , while Imca can target multiple enemy units with her heavy weapon .', start_char_idx=2235, end_char_idx=4665, text_template='{metadata_str}\\n\\n{content}', metadata_template='{key}: {value}', metadata_seperator='\\n'),\n",
       " TextNode(id_='e7f5e17e-3dfb-4c38-8205-509e17596c48', embedding=None, metadata={'title': 'Valkyria Chronicles III'}, excluded_embed_metadata_keys=[], excluded_llm_metadata_keys=[], relationships={<NodeRelationship.SOURCE: '1'>: RelatedNodeInfo(node_id='65f91edb-6707-4511-baaa-dd935be47e6e', node_type=<ObjectType.DOCUMENT: '4'>, metadata={'title': 'Valkyria Chronicles III'}, hash='f7aadfb478d20e04be770cd882b5e6a44c185eb28a53810838586313c39ccc7c'), <NodeRelationship.PREVIOUS: '2'>: RelatedNodeInfo(node_id='4316ab8e-f7f1-4deb-9f28-50c0574fea38', node_type=<ObjectType.TEXT: '1'>, metadata={'title': 'Valkyria Chronicles III'}, hash='fef6cbdba32cb7e84d813b8ca6d94cda57d0a9e884c1fa80fa60db53964f9122'), <NodeRelationship.NEXT: '3'>: RelatedNodeInfo(node_id='98697957-9926-4a95-beec-f593599d4608', node_type=<ObjectType.TEXT: '1'>, metadata={}, hash='833761d94e7870fe63079c8528c541fc9afa8467c33ddbd79eef3328086ce320')}, text='Troops are divided into five classes : Scouts , Shocktroopers , Engineers , Lancers and Armored Soldier . Troopers can switch classes by changing their assigned weapon . Changing class does not greatly affect the stats gained while in a previous class . With victory in battle , experience points are awarded to the squad , which are distributed into five different attributes shared by the entire squad , a feature differing from early games \\' method of distributing to different unit types . \\n \\n = = Plot = = \\n \\n The game takes place during the Second Europan War . Gallian Army Squad 422 , also known as \" The Nameless \" , are a penal military unit composed of criminals , foreign deserters , and military offenders whose real names are erased from the records and thereon officially referred to by numbers . Ordered by the Gallian military to perform the most dangerous missions that the Regular Army and Militia will not do , they are nevertheless up to the task , exemplified by their motto , Altaha Abilia , meaning \" Always Ready . \" The three main characters are No.7 Kurt Irving , an army officer falsely accused of treason who wishes to redeem himself ; Ace No.1 Imca , a female Darcsen heavy weapons specialist who seeks revenge against the Valkyria who destroyed her home ; and No.13 Riela Marcellis , a seemingly jinxed young woman who is unknowingly a descendant of the Valkyria . Together with their fellow squad members , these three are tasked to fight against a mysterious Imperial unit known as Calamity Raven , consisting of mostly Darcsen soldiers . \\n As the Nameless officially do not exist , the upper echelons of the Gallian Army exploit the concept of plausible deniability in order to send them on missions that would otherwise make Gallia lose face in the war . While at times this works to their advantage , such as a successful incursion into Imperial territory , other orders cause certain members of the 422nd great distress . One such member , Gusurg , becomes so enraged that he abandons his post and defects into the ranks of Calamity Raven , attached to the ideal of Darcsen independence proposed by their leader , Dahau . At the same time , elements within Gallian Army Command move to erase the Nameless in order to protect their own interests .', start_char_idx=4668, end_char_idx=6951, text_template='{metadata_str}\\n\\n{content}', metadata_template='{key}: {value}', metadata_seperator='\\n'),\n",
       " TextNode(id_='98697957-9926-4a95-beec-f593599d4608', embedding=None, metadata={'title': 'Valkyria Chronicles III'}, excluded_embed_metadata_keys=[], excluded_llm_metadata_keys=[], relationships={<NodeRelationship.SOURCE: '1'>: RelatedNodeInfo(node_id='65f91edb-6707-4511-baaa-dd935be47e6e', node_type=<ObjectType.DOCUMENT: '4'>, metadata={'title': 'Valkyria Chronicles III'}, hash='f7aadfb478d20e04be770cd882b5e6a44c185eb28a53810838586313c39ccc7c'), <NodeRelationship.PREVIOUS: '2'>: RelatedNodeInfo(node_id='e7f5e17e-3dfb-4c38-8205-509e17596c48', node_type=<ObjectType.TEXT: '1'>, metadata={'title': 'Valkyria Chronicles III'}, hash='78e6f6e40effe97a3ca651b63e3e9ba8af949eeb96c3e381d24bcee96c8522f2'), <NodeRelationship.NEXT: '3'>: RelatedNodeInfo(node_id='c96581d5-2d26-4b00-9fda-2e043d0c61ef', node_type=<ObjectType.TEXT: '1'>, metadata={}, hash='65abfff25ad1464f7e1ae7897a7b2107cf72b6ec9f8f11eb45d5ede4347a7a7c')}, text=\"Hounded by both allies and enemies , and combined with the presence of a traitor within their ranks , the 422nd desperately move to keep themselves alive while at the same time fight to help the Gallian war effort . This continues until the Nameless 's commanding officer , Ramsey Crowe , who had been kept under house arrest , is escorted to the capital city of Randgriz in order to present evidence exonerating the weary soldiers and expose the real traitor , the Gallian General that had accused Kurt of Treason . \\n Partly due to these events , and partly due to the major losses in manpower Gallia suffers towards the end of the war with the Empire , the Nameless are offered a formal position as a squad in the Gallian Army rather than serve as an anonymous shadow force . This is short-lived , however , as following Maximilian 's defeat , Dahau and Calamity Raven move to activate an ancient Valkyrian super weapon within the Empire , kept secret by their benefactor . Without the support of Maximilian or the chance to prove themselves in the war with Gallia , it is Dahau 's last trump card in creating a new Darcsen nation . As an armed Gallian force invading the Empire just following the two nations ' cease-fire would certainly wreck their newfound peace , Kurt decides to once again make his squad the Nameless , asking Crowe to list himself and all under his command as killed-in-action . Now owing allegiance to none other than themselves , the 422nd confronts Dahau and destroys the Valkyrian weapon . Each member then goes their separate ways in order to begin their lives anew . \\n \\n = = Development = = \\n \\n Concept work for Valkyria Chronicles III began after development finished on Valkyria Chronicles II in early 2010 , with full development beginning shortly after this . The director of Valkyria Chronicles II , Takeshi Ozawa , returned to that role for Valkyria Chronicles III . Development work took approximately one year . After the release of Valkyria Chronicles II , the staff took a look at both the popular response for the game and what they wanted to do next for the series .\", start_char_idx=6952, end_char_idx=9061, text_template='{metadata_str}\\n\\n{content}', metadata_template='{key}: {value}', metadata_seperator='\\n'),\n",
       " TextNode(id_='c96581d5-2d26-4b00-9fda-2e043d0c61ef', embedding=None, metadata={'title': 'Valkyria Chronicles III'}, excluded_embed_metadata_keys=[], excluded_llm_metadata_keys=[], relationships={<NodeRelationship.SOURCE: '1'>: RelatedNodeInfo(node_id='65f91edb-6707-4511-baaa-dd935be47e6e', node_type=<ObjectType.DOCUMENT: '4'>, metadata={'title': 'Valkyria Chronicles III'}, hash='f7aadfb478d20e04be770cd882b5e6a44c185eb28a53810838586313c39ccc7c'), <NodeRelationship.PREVIOUS: '2'>: RelatedNodeInfo(node_id='98697957-9926-4a95-beec-f593599d4608', node_type=<ObjectType.TEXT: '1'>, metadata={'title': 'Valkyria Chronicles III'}, hash='c3a40301dc043407ced2a611ad24822cdff9a9ae5028d9d73fc5b2bad1bcfa36'), <NodeRelationship.NEXT: '3'>: RelatedNodeInfo(node_id='ac88d9a1-241b-4735-bf0e-d52d49657710', node_type=<ObjectType.TEXT: '1'>, metadata={}, hash='3942ddc11e79a25388c8799d4de6d8245cc4e2333a03da3975851c9f7c6f04b7')}, text='Like its predecessor , Valkyria Chronicles III was developed for PlayStation Portable : this was due to the team wanting to refine the mechanics created for Valkyria Chronicles II , and they had not come up with the \" revolutionary \" idea that would warrant a new entry for the PlayStation 3 . Speaking in an interview , it was stated that the development team considered Valkyria Chronicles III to be the series \\' first true sequel : while Valkyria Chronicles II had required a large amount of trial and error during development due to the platform move , the third game gave them a chance to improve upon the best parts of Valkyria Chronicles II due to being on the same platform . In addition to Sega staff from the previous games , development work was also handled by Media.Vision. The original scenario was written Kazuki Yamanobe , while the script was written by Hiroyuki Fujii , Koichi Majima , Kishiko Miyagi , Seiki Nagakawa and Takayuki Shouji . Its story was darker and more somber than that of its predecessor . \\n The majority of material created for previous games , such as the BLiTZ system and the design of maps , was carried over . Alongside this , improvements were made to the game \\'s graphics and some elements were expanded , such as map layouts , mission structure , and the number of playable units per mission . A part of this upgrade involved creating unique polygon models for each character \\'s body . In order to achieve this , the cooperative elements incorporated into the second game were removed , as they took up a large portion of memory space needed for the improvements . They also adjusted the difficulty settings and ease of play so they could appeal to new players while retaining the essential components of the series \\' gameplay . The newer systems were decided upon early in development . The character designs were done by Raita Honjou , who had worked on the previous Valkyria Chronicles games . When creating the Nameless Squad , Honjou was faced with the same problem he had had during the first game : the military uniforms essentially destroyed character individuality , despite him needing to create unique characters the player could identify while maintaining a sense of reality within the Valkyria Chronicles world . The main color of the Nameless was black . As with the previous Valkyria games , Valkyria Chronicles III used the CANVAS graphics engine .', start_char_idx=9062, end_char_idx=11470, text_template='{metadata_str}\\n\\n{content}', metadata_template='{key}: {value}', metadata_seperator='\\n')]"
      ]
     },
     "execution_count": 2,
     "metadata": {},
     "output_type": "execute_result"
    }
   ],
   "source": [
    "nodes[:5]"
   ]
  },
  {
   "cell_type": "code",
   "execution_count": 3,
   "metadata": {},
   "outputs": [
    {
     "name": "stdout",
     "output_type": "stream",
     "text": [
      "35\n"
     ]
    }
   ],
   "source": [
    "print(len(nodes))"
   ]
  },
  {
   "cell_type": "markdown",
   "metadata": {},
   "source": [
    "## 2. Setup a chain to ask the LLM to create question and answer pairs. \n",
    "\n",
    "We'll use GPT-4 here to ensure good Q&A generation. These are generated based on a given chunk of text."
   ]
  },
  {
   "cell_type": "code",
   "execution_count": 4,
   "metadata": {},
   "outputs": [],
   "source": [
    "from pydantic import BaseModel, Field, field_validator\n",
    "# from llama_index.core.output_parsers import PydanticOutputParser\n",
    "\n",
    "# Define your desired data structure.\n",
    "class QAExample(BaseModel):\n",
    "    \"\"\"\n",
    "    A data structure that holds a question and its answer.\n",
    "    \"\"\"\n",
    "    question: str = Field(description=\"Question relevant to the given input\")\n",
    "    answer: str = Field(description=\"Answer to the question\")\n",
    "\n",
    "    # You can add custom validation logic easily with Pydantic.\n",
    "    @field_validator(\"question\")\n",
    "    def question_ends_with_question_mark(cls, field):\n",
    "        if field[-1] != \"?\":\n",
    "            raise ValueError(\"Badly formed question!\")\n",
    "        return field\n",
    "\n",
    "# parser = PydanticOutputParser(QAExample)"
   ]
  },
  {
   "cell_type": "code",
   "execution_count": 5,
   "metadata": {},
   "outputs": [],
   "source": [
    "from llama_index.program.openai import OpenAIPydanticProgram\n",
    "\n",
    "program = OpenAIPydanticProgram.from_defaults(\n",
    "    output_cls=QAExample,\n",
    "    prompt_template_str=\"Given the following text, generate a set of question and answer about an information contained in the text.\\nText:\\n```\\n{query_str}\\n```\\n\",\n",
    "    verbose=False,\n",
    "    llm=openai_llm,\n",
    ")"
   ]
  },
  {
   "cell_type": "code",
   "execution_count": 6,
   "metadata": {},
   "outputs": [
    {
     "name": "stdout",
     "output_type": "stream",
     "text": [
      "In 2008 , Last and William White elevated the kuhlii group to the rank of full genus as Neotrygon , on the basis of morphological and molecular phylogenetic evidence . \n",
      " In a 2012 phylogenetic analysis based on mitochondrial and nuclear DNA , the plain maskray and the Ningaloo maskray ( N. ningalooensis ) were found to be the most basal members of Neotrygon . The divergence of the N. annotata lineage was estimated to have occurred ~ 54 Ma . Furthermore , the individuals sequenced in the study so\n"
     ]
    }
   ],
   "source": [
    "sample_index = 32\n",
    "print(nodes[sample_index].text[:500])"
   ]
  },
  {
   "cell_type": "code",
   "execution_count": 7,
   "metadata": {},
   "outputs": [],
   "source": [
    "out = program(query_str=nodes[sample_index].text)"
   ]
  },
  {
   "cell_type": "code",
   "execution_count": 8,
   "metadata": {},
   "outputs": [
    {
     "data": {
      "text/plain": [
       "QAExample(question='What did Last and William White do in 2008 regarding the kuhlii group?', answer='In 2008, Last and William White elevated the kuhlii group to the rank of full genus as Neotrygon, based on morphological and molecular phylogenetic evidence.')"
      ]
     },
     "execution_count": 8,
     "metadata": {},
     "output_type": "execute_result"
    }
   ],
   "source": [
    "out"
   ]
  },
  {
   "cell_type": "markdown",
   "metadata": {},
   "source": [
    "## 3. Generate the dataset\n",
    "\n",
    "The output above looks good, so let's run the chain over our entire dataset."
   ]
  },
  {
   "cell_type": "code",
   "execution_count": 9,
   "metadata": {},
   "outputs": [],
   "source": [
    "gen_qa = []\n",
    "\n",
    "for node in nodes:\n",
    "    gen_qa.append(program(query_str=node.text))"
   ]
  },
  {
   "cell_type": "code",
   "execution_count": 10,
   "metadata": {},
   "outputs": [
    {
     "data": {
      "text/plain": [
       "[QAExample(question='What is the full Japanese title of Valkyria Chronicles III?', answer='Senjō no Valkyria 3: Unrecorded Chronicles (Japanese: 戦場のヴァルキュリア3)'),\n",
       " QAExample(question='What is the main progression system in the game?', answer='The player progresses through a series of linear missions, gradually unlocked as maps that can be freely scanned through and replayed as they are unlocked.'),\n",
       " QAExample(question='What are the five classes of troops mentioned in the text?', answer='The five classes of troops are Scouts, Shocktroopers, Engineers, Lancers, and Armored Soldier.'),\n",
       " QAExample(question='Who is the commanding officer of the Nameless?', answer='Ramsey Crowe'),\n",
       " QAExample(question='Why was Valkyria Chronicles III developed for PlayStation Portable?', answer=\"The team wanted to refine the mechanics created for Valkyria Chronicles II and had not come up with a 'revolutionary' idea that would warrant a new entry for the PlayStation 3.\")]"
      ]
     },
     "execution_count": 10,
     "metadata": {},
     "output_type": "execute_result"
    }
   ],
   "source": [
    "gen_qa[:5]"
   ]
  },
  {
   "cell_type": "markdown",
   "metadata": {},
   "source": [
    "## 4. Generate negative samples\n",
    "\n",
    "Let's also make some questions where the answer is not in any parts of the text."
   ]
  },
  {
   "cell_type": "code",
   "execution_count": 21,
   "metadata": {},
   "outputs": [],
   "source": [
    "negative_sample_program = OpenAIPydanticProgram.from_defaults(\n",
    "    output_cls=QAExample,\n",
    "    prompt_template_str=\"Given the following text, generate a question about information not contained in the text, with the answer confirming that the information is not included.\\nText:\\n```\\n{query_str}\\n```\\n\",\n",
    "    verbose=False,\n",
    "    llm=OpenAI(model=\"gpt-4o\", temperature=0.9, max_tokens=2048),\n",
    ")"
   ]
  },
  {
   "cell_type": "code",
   "execution_count": 12,
   "metadata": {},
   "outputs": [
    {
     "name": "stdout",
     "output_type": "stream",
     "text": [
      "In 2008 , Last and William White elevated the kuhlii group to the rank of full genus as Neotrygon , on the basis of morphological and molecular phylogenetic evidence . \n",
      " In a 2012 phylogenetic analysis based on mitochondrial and nuclear DNA , the plain maskray and the Ningaloo maskray ( N. ningalooensis ) were found to be the most basal members of Neotrygon . The divergence of the N. annotata lineage was estimated to have occurred ~ 54 Ma . Furthermore , the individuals sequenced in the study so\n"
     ]
    }
   ],
   "source": [
    "print(nodes[sample_index].text[:500])"
   ]
  },
  {
   "cell_type": "code",
   "execution_count": 13,
   "metadata": {},
   "outputs": [],
   "source": [
    "out = negative_sample_program(query_str=nodes[sample_index].text)"
   ]
  },
  {
   "cell_type": "code",
   "execution_count": 14,
   "metadata": {},
   "outputs": [
    {
     "data": {
      "text/plain": [
       "QAExample(question='What is the geographical distribution of the plain maskray?', answer='The geographical distribution of the plain maskray is not included in the text.')"
      ]
     },
     "execution_count": 14,
     "metadata": {},
     "output_type": "execute_result"
    }
   ],
   "source": [
    "out"
   ]
  },
  {
   "cell_type": "markdown",
   "metadata": {},
   "source": [
    "Checking to make sure the questions generated are varied"
   ]
  },
  {
   "cell_type": "code",
   "execution_count": 22,
   "metadata": {},
   "outputs": [
    {
     "name": "stdout",
     "output_type": "stream",
     "text": [
      "question='What is the size range of the Neotrygon ningalooensis?' answer='The text does not provide information about the size range of the Neotrygon ningalooensis.'\n",
      "question='What is the habitat or geographic distribution of the plain maskray?' answer='The text does not provide information about the habitat or geographic distribution of the plain maskray.'\n"
     ]
    }
   ],
   "source": [
    "for _ in range(2):\n",
    "    print(negative_sample_program(query_str=nodes[sample_index].text))"
   ]
  },
  {
   "cell_type": "markdown",
   "metadata": {},
   "source": [
    "This looks good, let's run it a few more times"
   ]
  },
  {
   "cell_type": "code",
   "execution_count": 16,
   "metadata": {},
   "outputs": [],
   "source": [
    "gen_qa_no_answer = []\n",
    "\n",
    "for i in range(10):\n",
    "    gen_qa_no_answer.append(negative_sample_program(query_str=nodes[i].text))"
   ]
  },
  {
   "cell_type": "code",
   "execution_count": 17,
   "metadata": {},
   "outputs": [
    {
     "data": {
      "text/plain": [
       "[QAExample(question='What is the budget for the development of Valkyria Chronicles III?', answer='The budget for the development of Valkyria Chronicles III is not mentioned in the text.'),\n",
       " QAExample(question='What is the setting or world in which the game takes place?', answer='The information about the setting or world in which the game takes place is not included in the text.'),\n",
       " QAExample(question='What specific battles or missions did the Nameless undertake during the Second Europan War?', answer='The specific battles or missions that the Nameless undertook during the Second Europan War are not mentioned in the text.'),\n",
       " QAExample(question='What was the budget for the development of Valkyria Chronicles III?', answer='The text does not provide information about the budget for the development of Valkyria Chronicles III.'),\n",
       " QAExample(question='What are the specific sales figures for Valkyria Chronicles III?', answer='The specific sales figures for Valkyria Chronicles III are not mentioned in the text.'),\n",
       " QAExample(question='Is there any information about the sales figures of the game provided in the text?', answer='No, the text does not provide any information about the sales figures of the game.'),\n",
       " QAExample(question='Was the development budget for Valkyria Chronicles III mentioned in the text?', answer='No, the development budget for Valkyria Chronicles III was not mentioned in the text.'),\n",
       " QAExample(question='Is there any information about the release dates of Valkyria Chronicles III in the provided text?', answer='No, the provided text does not contain any information about the release dates of Valkyria Chronicles III.'),\n",
       " QAExample(question='What is the total number of episodes in the anime Senjō no Valkyria 3: Taga Tame no Jūsō?', answer='The text does not provide information about the total number of episodes in the anime Senjō no Valkyria 3: Taga Tame no Jūsō.'),\n",
       " QAExample(question='Who composed the music for the ending theme \"Someday the Flowers of Light Will Bloom\"?', answer='The text does not provide information about who composed the music for the ending theme \"Someday the Flowers of Light Will Bloom\".')]"
      ]
     },
     "execution_count": 17,
     "metadata": {},
     "output_type": "execute_result"
    }
   ],
   "source": [
    "gen_qa_no_answer"
   ]
  },
  {
   "cell_type": "markdown",
   "metadata": {},
   "source": [
    "## 5. Save the datasets\n",
    "\n",
    "Let's put this in a dataframe so we don't need to rerun all the code again."
   ]
  },
  {
   "cell_type": "code",
   "execution_count": 18,
   "metadata": {},
   "outputs": [
    {
     "data": {
      "text/html": [
       "<div>\n",
       "<style scoped>\n",
       "    .dataframe tbody tr th:only-of-type {\n",
       "        vertical-align: middle;\n",
       "    }\n",
       "\n",
       "    .dataframe tbody tr th {\n",
       "        vertical-align: top;\n",
       "    }\n",
       "\n",
       "    .dataframe thead th {\n",
       "        text-align: right;\n",
       "    }\n",
       "</style>\n",
       "<table border=\"1\" class=\"dataframe\">\n",
       "  <thead>\n",
       "    <tr style=\"text-align: right;\">\n",
       "      <th></th>\n",
       "      <th>question</th>\n",
       "      <th>ground_truth</th>\n",
       "      <th>ground_truth_context</th>\n",
       "    </tr>\n",
       "  </thead>\n",
       "  <tbody>\n",
       "    <tr>\n",
       "      <th>0</th>\n",
       "      <td>What is the full Japanese title of Valkyria Ch...</td>\n",
       "      <td>Senjō no Valkyria 3: Unrecorded Chronicles (Ja...</td>\n",
       "      <td>= Valkyria Chronicles III = \\n \\n Senjō no Val...</td>\n",
       "    </tr>\n",
       "    <tr>\n",
       "      <th>1</th>\n",
       "      <td>What is the main progression system in the game?</td>\n",
       "      <td>The player progresses through a series of line...</td>\n",
       "      <td>The player progresses through a series of line...</td>\n",
       "    </tr>\n",
       "    <tr>\n",
       "      <th>2</th>\n",
       "      <td>What are the five classes of troops mentioned ...</td>\n",
       "      <td>The five classes of troops are Scouts, Shocktr...</td>\n",
       "      <td>Troops are divided into five classes : Scouts ...</td>\n",
       "    </tr>\n",
       "    <tr>\n",
       "      <th>3</th>\n",
       "      <td>Who is the commanding officer of the Nameless?</td>\n",
       "      <td>Ramsey Crowe</td>\n",
       "      <td>Hounded by both allies and enemies , and combi...</td>\n",
       "    </tr>\n",
       "    <tr>\n",
       "      <th>4</th>\n",
       "      <td>Why was Valkyria Chronicles III developed for ...</td>\n",
       "      <td>The team wanted to refine the mechanics create...</td>\n",
       "      <td>Like its predecessor , Valkyria Chronicles III...</td>\n",
       "    </tr>\n",
       "    <tr>\n",
       "      <th>5</th>\n",
       "      <td>Who produced the anime opening?</td>\n",
       "      <td>Production I.G.</td>\n",
       "      <td>The anime opening was produced by Production I...</td>\n",
       "    </tr>\n",
       "    <tr>\n",
       "      <th>6</th>\n",
       "      <td>When was the game Valkyria Chronicles III rele...</td>\n",
       "      <td>The game was released on January 27, 2011.</td>\n",
       "      <td>During the publicity , story details were kept...</td>\n",
       "    </tr>\n",
       "    <tr>\n",
       "      <th>7</th>\n",
       "      <td>Who wrote the 'Play Test' article for 4Gamer.n...</td>\n",
       "      <td>Naohiko Misuosame</td>\n",
       "      <td>4Gamer.net writer Naohiko Misuosame , in a \" P...</td>\n",
       "    </tr>\n",
       "    <tr>\n",
       "      <th>8</th>\n",
       "      <td>What is the full title of the anime 'Senjō no ...</td>\n",
       "      <td>Senjō no Valkyria 3: Taga Tame no Jūsō (戦場のヴァル...</td>\n",
       "      <td>Titled Senjō no Valkyria 3 : Taga Tame no Jūsō...</td>\n",
       "    </tr>\n",
       "    <tr>\n",
       "      <th>9</th>\n",
       "      <td>Who sang the ending theme 'Someday the Flowers...</td>\n",
       "      <td>Minami Kuribayashi</td>\n",
       "      <td>The ending theme , \" Someday the Flowers of Li...</td>\n",
       "    </tr>\n",
       "    <tr>\n",
       "      <th>10</th>\n",
       "      <td>What is the Tower Building of the Little Rock ...</td>\n",
       "      <td>The Tower Building of the Little Rock Arsenal ...</td>\n",
       "      <td>= Tower Building of the Little Rock Arsenal = ...</td>\n",
       "    </tr>\n",
       "    <tr>\n",
       "      <th>11</th>\n",
       "      <td>What did the Arkansas Gazette refer to the str...</td>\n",
       "      <td>A splendid specimen of masonry.</td>\n",
       "      <td>The Arkansas Gazette referred to the structure...</td>\n",
       "    </tr>\n",
       "    <tr>\n",
       "      <th>12</th>\n",
       "      <td>What was the rumor interpreted by some Arkansans?</td>\n",
       "      <td>The rumor was interpreted by some Arkansans as...</td>\n",
       "      <td>The rumor was interpreted by some Arkansans as...</td>\n",
       "    </tr>\n",
       "    <tr>\n",
       "      <th>13</th>\n",
       "      <td>Who led the citizen militia to the arsenal?</td>\n",
       "      <td>Governor Rector</td>\n",
       "      <td>That afternoon , the citizen militia marched t...</td>\n",
       "    </tr>\n",
       "    <tr>\n",
       "      <th>14</th>\n",
       "      <td>Which units of Van Dorn's Army of the West wer...</td>\n",
       "      <td>The 1st and 2nd Arkansas Mounted Rifles.</td>\n",
       "      <td>The units comprising the infantry force of Van...</td>\n",
       "    </tr>\n",
       "    <tr>\n",
       "      <th>15</th>\n",
       "      <td>What was used for cartridge paper due to the s...</td>\n",
       "      <td>Public documents of the State Library were use...</td>\n",
       "      <td>This ammunition , and that which I brought wit...</td>\n",
       "    </tr>\n",
       "    <tr>\n",
       "      <th>16</th>\n",
       "      <td>Who was in command of the military force at Li...</td>\n",
       "      <td>Dunnington was in command of the military forc...</td>\n",
       "      <td>, had to be procured as well as the employment...</td>\n",
       "    </tr>\n",
       "    <tr>\n",
       "      <th>17</th>\n",
       "      <td>What caliber weapons were predominant in use a...</td>\n",
       "      <td>.69 caliber smoothbores and shotguns were the ...</td>\n",
       "      <td>buck &amp; ball \" , indicating that the .69 calibe...</td>\n",
       "    </tr>\n",
       "    <tr>\n",
       "      <th>18</th>\n",
       "      <td>What was traded to the city of Little Rock on ...</td>\n",
       "      <td>The tower building and the surrounding buildin...</td>\n",
       "      <td>On April 12 , 1893 the tower building and the ...</td>\n",
       "    </tr>\n",
       "    <tr>\n",
       "      <th>19</th>\n",
       "      <td>What was built in the park during the time men...</td>\n",
       "      <td>A band shell named for H. H. Foster was built ...</td>\n",
       "      <td>A band shell named for H. H. Foster also was b...</td>\n",
       "    </tr>\n",
       "    <tr>\n",
       "      <th>20</th>\n",
       "      <td>When was Cicely Mary Barker born?</td>\n",
       "      <td>Cicely Mary Barker was born on 28 June 1895.</td>\n",
       "      <td>= Cicely Mary Barker = \\n \\n Cicely Mary Barke...</td>\n",
       "    </tr>\n",
       "    <tr>\n",
       "      <th>21</th>\n",
       "      <td>What were the professions of the people hired ...</td>\n",
       "      <td>A nanny, a governess, and a cook to prepare sp...</td>\n",
       "      <td>A nanny , a governess , and a cook to prepare ...</td>\n",
       "    </tr>\n",
       "    <tr>\n",
       "      <th>22</th>\n",
       "      <td>Who was Mary Violet Clayton Calthrop married to?</td>\n",
       "      <td>Mary Violet Clayton Calthrop was married to au...</td>\n",
       "      <td>Mary Violet Clayton Calthrop , wife of author ...</td>\n",
       "    </tr>\n",
       "    <tr>\n",
       "      <th>23</th>\n",
       "      <td>Where did she take sketching trips?</td>\n",
       "      <td>She took sketching trips to Amberley and Storr...</td>\n",
       "      <td>She took sketching trips to Amberley and Storr...</td>\n",
       "    </tr>\n",
       "    <tr>\n",
       "      <th>24</th>\n",
       "      <td>What did Barker carry with her for capturing i...</td>\n",
       "      <td>A sketchbook.</td>\n",
       "      <td>She carried a sketchbook with her for capturin...</td>\n",
       "    </tr>\n",
       "    <tr>\n",
       "      <th>25</th>\n",
       "      <td>When was the work published posthumously?</td>\n",
       "      <td>1988</td>\n",
       "      <td>It was published posthumously in 1988 and is c...</td>\n",
       "    </tr>\n",
       "    <tr>\n",
       "      <th>26</th>\n",
       "      <td>What are some of the works listed under 'Cards'?</td>\n",
       "      <td>Some of the works listed under 'Cards' include...</td>\n",
       "      <td>Edmund 's , Pitlake , in 1962 . \\n \\n = = Work...</td>\n",
       "    </tr>\n",
       "    <tr>\n",
       "      <th>27</th>\n",
       "      <td>Who collaborated with the author on the book '...</td>\n",
       "      <td>Dorothy Barker</td>\n",
       "      <td>1933 \\n Our Darling ’ s First Book ( written i...</td>\n",
       "    </tr>\n",
       "    <tr>\n",
       "      <th>28</th>\n",
       "      <td>What is the title of the book published posthu...</td>\n",
       "      <td>The Sand, the Sea and the Sun</td>\n",
       "      <td>The Sand , the Sea and the Sun ; Gibson , 1970...</td>\n",
       "    </tr>\n",
       "    <tr>\n",
       "      <th>29</th>\n",
       "      <td>What does the Gambia women's national football...</td>\n",
       "      <td>The Gambia women's national football team repr...</td>\n",
       "      <td>= Gambia women 's national football team = \\n ...</td>\n",
       "    </tr>\n",
       "    <tr>\n",
       "      <th>30</th>\n",
       "      <td>Who scored the goals for Gambia in the match m...</td>\n",
       "      <td>Adama Tamba and Awa Demba scored the goals for...</td>\n",
       "      <td>Adama Tamba and Awa Demba scored the Gambia 's...</td>\n",
       "    </tr>\n",
       "    <tr>\n",
       "      <th>31</th>\n",
       "      <td>What is the common name and scientific name of...</td>\n",
       "      <td>The common name is the plain maskray or brown ...</td>\n",
       "      <td>= Plain maskray = \\n \\n The plain maskray or b...</td>\n",
       "    </tr>\n",
       "    <tr>\n",
       "      <th>32</th>\n",
       "      <td>What did Last and William White do in 2008 reg...</td>\n",
       "      <td>In 2008, Last and William White elevated the k...</td>\n",
       "      <td>In 2008 , Last and William White elevated the ...</td>\n",
       "    </tr>\n",
       "    <tr>\n",
       "      <th>33</th>\n",
       "      <td>What is the maximum size of the plain maskray?</td>\n",
       "      <td>The plain maskray grows to 24 cm (9.4 in) acro...</td>\n",
       "      <td>The tail behind the stings has alternating bla...</td>\n",
       "    </tr>\n",
       "    <tr>\n",
       "      <th>34</th>\n",
       "      <td>What is the main conservation threat to the pl...</td>\n",
       "      <td>The main conservation threat to the plain mask...</td>\n",
       "      <td>= = Human interactions = = \\n \\n The main cons...</td>\n",
       "    </tr>\n",
       "    <tr>\n",
       "      <th>35</th>\n",
       "      <td>What is the budget for the development of Valk...</td>\n",
       "      <td>The budget for the development of Valkyria Chr...</td>\n",
       "      <td></td>\n",
       "    </tr>\n",
       "    <tr>\n",
       "      <th>36</th>\n",
       "      <td>What is the setting or world in which the game...</td>\n",
       "      <td>The information about the setting or world in ...</td>\n",
       "      <td></td>\n",
       "    </tr>\n",
       "    <tr>\n",
       "      <th>37</th>\n",
       "      <td>What specific battles or missions did the Name...</td>\n",
       "      <td>The specific battles or missions that the Name...</td>\n",
       "      <td></td>\n",
       "    </tr>\n",
       "    <tr>\n",
       "      <th>38</th>\n",
       "      <td>What was the budget for the development of Val...</td>\n",
       "      <td>The text does not provide information about th...</td>\n",
       "      <td></td>\n",
       "    </tr>\n",
       "    <tr>\n",
       "      <th>39</th>\n",
       "      <td>What are the specific sales figures for Valkyr...</td>\n",
       "      <td>The specific sales figures for Valkyria Chroni...</td>\n",
       "      <td></td>\n",
       "    </tr>\n",
       "    <tr>\n",
       "      <th>40</th>\n",
       "      <td>Is there any information about the sales figur...</td>\n",
       "      <td>No, the text does not provide any information ...</td>\n",
       "      <td></td>\n",
       "    </tr>\n",
       "    <tr>\n",
       "      <th>41</th>\n",
       "      <td>Was the development budget for Valkyria Chroni...</td>\n",
       "      <td>No, the development budget for Valkyria Chroni...</td>\n",
       "      <td></td>\n",
       "    </tr>\n",
       "    <tr>\n",
       "      <th>42</th>\n",
       "      <td>Is there any information about the release dat...</td>\n",
       "      <td>No, the provided text does not contain any inf...</td>\n",
       "      <td></td>\n",
       "    </tr>\n",
       "    <tr>\n",
       "      <th>43</th>\n",
       "      <td>What is the total number of episodes in the an...</td>\n",
       "      <td>The text does not provide information about th...</td>\n",
       "      <td></td>\n",
       "    </tr>\n",
       "    <tr>\n",
       "      <th>44</th>\n",
       "      <td>Who composed the music for the ending theme \"S...</td>\n",
       "      <td>The text does not provide information about wh...</td>\n",
       "      <td></td>\n",
       "    </tr>\n",
       "  </tbody>\n",
       "</table>\n",
       "</div>"
      ],
      "text/plain": [
       "                                             question  \\\n",
       "0   What is the full Japanese title of Valkyria Ch...   \n",
       "1    What is the main progression system in the game?   \n",
       "2   What are the five classes of troops mentioned ...   \n",
       "3      Who is the commanding officer of the Nameless?   \n",
       "4   Why was Valkyria Chronicles III developed for ...   \n",
       "5                     Who produced the anime opening?   \n",
       "6   When was the game Valkyria Chronicles III rele...   \n",
       "7   Who wrote the 'Play Test' article for 4Gamer.n...   \n",
       "8   What is the full title of the anime 'Senjō no ...   \n",
       "9   Who sang the ending theme 'Someday the Flowers...   \n",
       "10  What is the Tower Building of the Little Rock ...   \n",
       "11  What did the Arkansas Gazette refer to the str...   \n",
       "12  What was the rumor interpreted by some Arkansans?   \n",
       "13        Who led the citizen militia to the arsenal?   \n",
       "14  Which units of Van Dorn's Army of the West wer...   \n",
       "15  What was used for cartridge paper due to the s...   \n",
       "16  Who was in command of the military force at Li...   \n",
       "17  What caliber weapons were predominant in use a...   \n",
       "18  What was traded to the city of Little Rock on ...   \n",
       "19  What was built in the park during the time men...   \n",
       "20                  When was Cicely Mary Barker born?   \n",
       "21  What were the professions of the people hired ...   \n",
       "22   Who was Mary Violet Clayton Calthrop married to?   \n",
       "23                Where did she take sketching trips?   \n",
       "24  What did Barker carry with her for capturing i...   \n",
       "25          When was the work published posthumously?   \n",
       "26   What are some of the works listed under 'Cards'?   \n",
       "27  Who collaborated with the author on the book '...   \n",
       "28  What is the title of the book published posthu...   \n",
       "29  What does the Gambia women's national football...   \n",
       "30  Who scored the goals for Gambia in the match m...   \n",
       "31  What is the common name and scientific name of...   \n",
       "32  What did Last and William White do in 2008 reg...   \n",
       "33     What is the maximum size of the plain maskray?   \n",
       "34  What is the main conservation threat to the pl...   \n",
       "35  What is the budget for the development of Valk...   \n",
       "36  What is the setting or world in which the game...   \n",
       "37  What specific battles or missions did the Name...   \n",
       "38  What was the budget for the development of Val...   \n",
       "39  What are the specific sales figures for Valkyr...   \n",
       "40  Is there any information about the sales figur...   \n",
       "41  Was the development budget for Valkyria Chroni...   \n",
       "42  Is there any information about the release dat...   \n",
       "43  What is the total number of episodes in the an...   \n",
       "44  Who composed the music for the ending theme \"S...   \n",
       "\n",
       "                                         ground_truth  \\\n",
       "0   Senjō no Valkyria 3: Unrecorded Chronicles (Ja...   \n",
       "1   The player progresses through a series of line...   \n",
       "2   The five classes of troops are Scouts, Shocktr...   \n",
       "3                                        Ramsey Crowe   \n",
       "4   The team wanted to refine the mechanics create...   \n",
       "5                                     Production I.G.   \n",
       "6          The game was released on January 27, 2011.   \n",
       "7                                   Naohiko Misuosame   \n",
       "8   Senjō no Valkyria 3: Taga Tame no Jūsō (戦場のヴァル...   \n",
       "9                                  Minami Kuribayashi   \n",
       "10  The Tower Building of the Little Rock Arsenal ...   \n",
       "11                    A splendid specimen of masonry.   \n",
       "12  The rumor was interpreted by some Arkansans as...   \n",
       "13                                    Governor Rector   \n",
       "14           The 1st and 2nd Arkansas Mounted Rifles.   \n",
       "15  Public documents of the State Library were use...   \n",
       "16  Dunnington was in command of the military forc...   \n",
       "17  .69 caliber smoothbores and shotguns were the ...   \n",
       "18  The tower building and the surrounding buildin...   \n",
       "19  A band shell named for H. H. Foster was built ...   \n",
       "20       Cicely Mary Barker was born on 28 June 1895.   \n",
       "21  A nanny, a governess, and a cook to prepare sp...   \n",
       "22  Mary Violet Clayton Calthrop was married to au...   \n",
       "23  She took sketching trips to Amberley and Storr...   \n",
       "24                                      A sketchbook.   \n",
       "25                                               1988   \n",
       "26  Some of the works listed under 'Cards' include...   \n",
       "27                                     Dorothy Barker   \n",
       "28                      The Sand, the Sea and the Sun   \n",
       "29  The Gambia women's national football team repr...   \n",
       "30  Adama Tamba and Awa Demba scored the goals for...   \n",
       "31  The common name is the plain maskray or brown ...   \n",
       "32  In 2008, Last and William White elevated the k...   \n",
       "33  The plain maskray grows to 24 cm (9.4 in) acro...   \n",
       "34  The main conservation threat to the plain mask...   \n",
       "35  The budget for the development of Valkyria Chr...   \n",
       "36  The information about the setting or world in ...   \n",
       "37  The specific battles or missions that the Name...   \n",
       "38  The text does not provide information about th...   \n",
       "39  The specific sales figures for Valkyria Chroni...   \n",
       "40  No, the text does not provide any information ...   \n",
       "41  No, the development budget for Valkyria Chroni...   \n",
       "42  No, the provided text does not contain any inf...   \n",
       "43  The text does not provide information about th...   \n",
       "44  The text does not provide information about wh...   \n",
       "\n",
       "                                 ground_truth_context  \n",
       "0   = Valkyria Chronicles III = \\n \\n Senjō no Val...  \n",
       "1   The player progresses through a series of line...  \n",
       "2   Troops are divided into five classes : Scouts ...  \n",
       "3   Hounded by both allies and enemies , and combi...  \n",
       "4   Like its predecessor , Valkyria Chronicles III...  \n",
       "5   The anime opening was produced by Production I...  \n",
       "6   During the publicity , story details were kept...  \n",
       "7   4Gamer.net writer Naohiko Misuosame , in a \" P...  \n",
       "8   Titled Senjō no Valkyria 3 : Taga Tame no Jūsō...  \n",
       "9   The ending theme , \" Someday the Flowers of Li...  \n",
       "10  = Tower Building of the Little Rock Arsenal = ...  \n",
       "11  The Arkansas Gazette referred to the structure...  \n",
       "12  The rumor was interpreted by some Arkansans as...  \n",
       "13  That afternoon , the citizen militia marched t...  \n",
       "14  The units comprising the infantry force of Van...  \n",
       "15  This ammunition , and that which I brought wit...  \n",
       "16  , had to be procured as well as the employment...  \n",
       "17  buck & ball \" , indicating that the .69 calibe...  \n",
       "18  On April 12 , 1893 the tower building and the ...  \n",
       "19  A band shell named for H. H. Foster also was b...  \n",
       "20  = Cicely Mary Barker = \\n \\n Cicely Mary Barke...  \n",
       "21  A nanny , a governess , and a cook to prepare ...  \n",
       "22  Mary Violet Clayton Calthrop , wife of author ...  \n",
       "23  She took sketching trips to Amberley and Storr...  \n",
       "24  She carried a sketchbook with her for capturin...  \n",
       "25  It was published posthumously in 1988 and is c...  \n",
       "26  Edmund 's , Pitlake , in 1962 . \\n \\n = = Work...  \n",
       "27  1933 \\n Our Darling ’ s First Book ( written i...  \n",
       "28  The Sand , the Sea and the Sun ; Gibson , 1970...  \n",
       "29  = Gambia women 's national football team = \\n ...  \n",
       "30  Adama Tamba and Awa Demba scored the Gambia 's...  \n",
       "31  = Plain maskray = \\n \\n The plain maskray or b...  \n",
       "32  In 2008 , Last and William White elevated the ...  \n",
       "33  The tail behind the stings has alternating bla...  \n",
       "34  = = Human interactions = = \\n \\n The main cons...  \n",
       "35                                                     \n",
       "36                                                     \n",
       "37                                                     \n",
       "38                                                     \n",
       "39                                                     \n",
       "40                                                     \n",
       "41                                                     \n",
       "42                                                     \n",
       "43                                                     \n",
       "44                                                     "
      ]
     },
     "execution_count": 18,
     "metadata": {},
     "output_type": "execute_result"
    }
   ],
   "source": [
    "import pandas as pd\n",
    "\n",
    "gen_qa_lst = []\n",
    "\n",
    "for i in range(len(gen_qa)):\n",
    "    qa_dict = gen_qa[i].dict()\n",
    "    qa_dict[\"ground_truth_context\"] = nodes[i].text\n",
    "    gen_qa_lst.append(qa_dict)\n",
    "    \n",
    "for qa in gen_qa_no_answer:\n",
    "    qa_dict = qa.dict()\n",
    "    qa_dict[\"ground_truth_context\"] = \"\"\n",
    "    gen_qa_lst.append(qa_dict)\n",
    "\n",
    "gen_dataset = pd.DataFrame(gen_qa_lst)\n",
    "gen_dataset.rename(columns={\"answer\": \"ground_truth\"}, inplace=True)\n",
    "gen_dataset"
   ]
  },
  {
   "cell_type": "code",
   "execution_count": 19,
   "metadata": {},
   "outputs": [],
   "source": [
    "gen_dataset.to_csv(\"generated_qa.csv\", index=False)"
   ]
  },
  {
   "cell_type": "code",
   "execution_count": null,
   "metadata": {},
   "outputs": [],
   "source": []
  }
 ],
 "metadata": {
  "kernelspec": {
   "display_name": "llm-evaluation",
   "language": "python",
   "name": "python3"
  },
  "language_info": {
   "codemirror_mode": {
    "name": "ipython",
    "version": 3
   },
   "file_extension": ".py",
   "mimetype": "text/x-python",
   "name": "python",
   "nbconvert_exporter": "python",
   "pygments_lexer": "ipython3",
   "version": "3.12.0"
  }
 },
 "nbformat": 4,
 "nbformat_minor": 2
}
