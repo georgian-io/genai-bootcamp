{
 "cells": [
  {
   "cell_type": "code",
   "execution_count": 1,
   "metadata": {},
   "outputs": [],
   "source": [
    "import tqdm\n",
    "import numpy as np\n",
    "import utils"
   ]
  },
  {
   "cell_type": "markdown",
   "metadata": {},
   "source": [
    "# API Setup"
   ]
  },
  {
   "cell_type": "code",
   "execution_count": 2,
   "metadata": {},
   "outputs": [
    {
     "data": {
      "text/plain": [
       "True"
      ]
     },
     "execution_count": 2,
     "metadata": {},
     "output_type": "execute_result"
    }
   ],
   "source": [
    "from dotenv import load_dotenv\n",
    "load_dotenv(dotenv_path=\"../.env\")"
   ]
  },
  {
   "cell_type": "markdown",
   "metadata": {},
   "source": [
    "# Dataset\n",
    "\n",
    "We've abstracted away the code from the previous notebooks to focus on the concepts from this notebook."
   ]
  },
  {
   "cell_type": "code",
   "execution_count": 3,
   "metadata": {},
   "outputs": [
    {
     "name": "stderr",
     "output_type": "stream",
     "text": [
      "Repo card metadata block was not found. Setting CardData to empty.\n"
     ]
    }
   ],
   "source": [
    "data_index = 38\n",
    "data = utils.load_data(sample_size=100)"
   ]
  },
  {
   "cell_type": "markdown",
   "metadata": {},
   "source": [
    "# Preprocessing\n",
    "We've abstracted away the code from the previous notebooks to focus on the concepts from this notebook."
   ]
  },
  {
   "cell_type": "code",
   "execution_count": 4,
   "metadata": {},
   "outputs": [
    {
     "name": "stderr",
     "output_type": "stream",
     "text": [
      "100%|██████████| 100/100 [00:00<00:00, 3232.90it/s]\n"
     ]
    }
   ],
   "source": [
    "documents = utils.preprocess_data(data)"
   ]
  },
  {
   "cell_type": "markdown",
   "metadata": {},
   "source": [
    "# Chunking\n",
    "\n",
    "We first demonstrate basic fixed size chunking with overlaps via LlamaIndex's [TokenTextSplitter](https://docs.llamaindex.ai/en/stable/api_reference/node_parsers/token_text_splitter/).\n",
    "\n",
    "However, for the rest of the demo, we use a mix of two chunking methods - fixed-size chunking and content-aware chunking. Specifically, we use LlamaIndex's [SentenceSplitter](https://docs.llamaindex.ai/en/stable/api_reference/node_parsers/sentence_splitter/) which attempts to keep sentences and paragraphs together while maintaining chunks of roughly equal size.\n",
    "\n",
    "We use a chunk size of 512 which is the maximum size that our embedding model (chosen further down) accepts. Within these chunks, we set an overlap of 20 tokens which corresponds to roughly 1-2 sentences.\n",
    "\n",
    "You can examine other chunking methods implemented in LlamaIndex [here](https://docs.llamaindex.ai/en/stable/api_reference/node_parsers/)."
   ]
  },
  {
   "cell_type": "markdown",
   "metadata": {},
   "source": [
    "### Fixed Size Chunking"
   ]
  },
  {
   "cell_type": "code",
   "execution_count": 5,
   "metadata": {},
   "outputs": [],
   "source": [
    "from llama_index.core.node_parser import TokenTextSplitter\n",
    "chunker = TokenTextSplitter(chunk_size=512, chunk_overlap=20)"
   ]
  },
  {
   "cell_type": "code",
   "execution_count": 6,
   "metadata": {},
   "outputs": [
    {
     "name": "stdout",
     "output_type": "stream",
     "text": [
      "Document has ~10294 words and was split into 25 chunks of maximum 512 tokens.\n"
     ]
    }
   ],
   "source": [
    "sample = data[\"page\"][data_index]\n",
    "chunked = chunker.split_text(sample)\n",
    "print(f\"Document has ~{len(sample.split(' '))} words and was split into {len(chunked)} chunks of maximum 512 tokens.\")"
   ]
  },
  {
   "cell_type": "code",
   "execution_count": 7,
   "metadata": {},
   "outputs": [
    {
     "name": "stdout",
     "output_type": "stream",
     "text": [
      "= Michael Jordan = \n",
      " \n",
      " Michael Jeffrey Jordan ( born February 17 , 1963 ) , also known by his initials , MJ , is an American retired professional basketball player . He is also a businessman , and principal owner and chairman of the Charlotte Hornets . Jordan played 15 seasons in the National Basketball Association ( NBA ) for the Chicago Bulls and Washington Wizards . His biography on the NBA website states : \" By acclamation , Michael Jordan is the greatest basketball player of all time . \" Jordan was one of the most effectively marketed athletes of his generation and was considered instrumental in popularizing the NBA around the world in the 1980s and 1990s . \n",
      " Jordan played three seasons for coach Dean Smith at the University of North Carolina . He was a member of the Tar Heels ' national championship team in 1982 . Jordan joined the NBA 's Chicago Bulls in 1984 as the third overall draft pick . He quickly emerged as a league star , entertaining crowds with his prolific scoring . His leaping ability , demonstrated by performing slam dunks from the free throw line in slam dunk contests , earned him the nicknames \" Air Jordan \" and \" His Airness \" . He also gained a reputation for being one of the best defensive players in basketball . In 1991 , he won his first NBA championship with the Bulls , and followed that achievement with titles in 1992 and 1993 , securing a \" three @-@ peat \" . Although Jordan abruptly retired from basketball before the beginning of the 1993 – 94 NBA season to pursue a career in baseball , he returned to the Bulls in March 1995 and led them to three additional championships in 1996 , 1997 , and 1998 , as well as a then @-@ record 72 regular @-@ season wins in the 1995 – 96 NBA season . Jordan retired for a second time in January 1999 , but returned for two more NBA seasons from 2001 to 2003 as a member of the Wizards . \n",
      " Jordan 's individual accolades and accomplishments include five Most Valuable Player ( MVP ) Awards , ten All @-@ NBA First Team designations , nine All @-@ Defensive First Team honors , fourteen NBA All @-@ Star Game appearances , three All @-@ Star Game MVP Awards , ten scoring titles , three steals titles , six NBA Finals MVP Awards , and the 1988 NBA Defensive Player of the Year Award . Among his numerous accomplishments , Jordan holds the NBA\n"
     ]
    }
   ],
   "source": [
    "# Can result in sentences being cut off in the middle\n",
    "print(chunked[0])"
   ]
  },
  {
   "cell_type": "code",
   "execution_count": 8,
   "metadata": {},
   "outputs": [
    {
     "name": "stdout",
     "output_type": "stream",
     "text": [
      "1988 NBA Defensive Player of the Year Award . Among his numerous accomplishments , Jordan holds the NBA records for highest career regular season scoring average ( 30 @.@ 12 points per game ) and highest career playoff scoring average ( 33 @.@ 45 points per game ) . In 1999 , he was named the greatest North American athlete of the 20th century by ESPN , and was second to Babe Ruth on the Associated Press 's list of athletes of the century . Jordan is a two @-@ time inductee into the Basketball Hall of Fame , having been enshrined in 2009 for his individual career , and again in 2010 as part of the group induction of the 1992 United States men 's Olympic basketball team ( \" The Dream Team \" ) . He became a member of the FIBA Hall of Fame in 2015 . \n",
      " Jordan is also known for his product endorsements . He fueled the success of Nike 's Air Jordan sneakers , which were introduced in 1985 and remain popular today . Jordan also starred in the 1996 feature film Space Jam as himself . In 2006 , he became part @-@ owner and head of basketball operations for the then @-@ Charlotte Bobcats , buying a controlling interest in 2010 . In 2015 , as a result of the increase in value of NBA franchises , Jordan became the first billionaire NBA player in history and the world 's second @-@ richest African @-@ American . \n",
      " \n",
      " = = Early years = = \n",
      " \n",
      " Jordan was born in Brooklyn , New York , the son of Deloris ( née Peoples ) , who worked in banking , and James R. Jordan , Sr. , an equipment supervisor . His family moved to Wilmington , North Carolina , when he was a toddler . \n",
      " Jordan is the fourth of five children . He has two older brothers , Larry Jordan and James R. Jordan , Jr . , one older sister , Deloris , and a younger sister , Roslyn . Jordan 's brother James retired in 2006 as the Command Sergeant Major of the 35th Signal Brigade of the XVIII Airborne Corps in the U.S. Army . \n",
      " \n",
      " = = High school career = = \n",
      " \n",
      " Jordan attended Emsley A. Laney High School in Wilmington , where he anchored his athletic career by playing baseball , football , and basketball . He tried out for the varsity basketball team during his sophomore year , but at 5 ' 11 \" ( 1\n"
     ]
    }
   ],
   "source": [
    "print(chunked[1])"
   ]
  },
  {
   "cell_type": "markdown",
   "metadata": {},
   "source": [
    "### Content Aware Chunking"
   ]
  },
  {
   "cell_type": "code",
   "execution_count": 9,
   "metadata": {},
   "outputs": [],
   "source": [
    "from llama_index.core.node_parser import SentenceSplitter\n",
    "chunker = SentenceSplitter(chunk_size=512, chunk_overlap=20)"
   ]
  },
  {
   "cell_type": "code",
   "execution_count": 10,
   "metadata": {},
   "outputs": [
    {
     "name": "stdout",
     "output_type": "stream",
     "text": [
      "Document has 10294 words and was split into 26 chunks of maximum 512 tokens.\n"
     ]
    }
   ],
   "source": [
    "sample = data[\"page\"][data_index]\n",
    "chunked = chunker.split_text(sample)\n",
    "print(f\"Document has {len(sample.split(' '))} words and was split into {len(chunked)} chunks of maximum 512 tokens.\")"
   ]
  },
  {
   "cell_type": "code",
   "execution_count": 11,
   "metadata": {},
   "outputs": [
    {
     "name": "stdout",
     "output_type": "stream",
     "text": [
      "= Michael Jordan = \n",
      " \n",
      " Michael Jeffrey Jordan ( born February 17 , 1963 ) , also known by his initials , MJ , is an American retired professional basketball player . He is also a businessman , and principal owner and chairman of the Charlotte Hornets . Jordan played 15 seasons in the National Basketball Association ( NBA ) for the Chicago Bulls and Washington Wizards . His biography on the NBA website states : \" By acclamation , Michael Jordan is the greatest basketball player of all time . \" Jordan was one of the most effectively marketed athletes of his generation and was considered instrumental in popularizing the NBA around the world in the 1980s and 1990s . \n",
      " Jordan played three seasons for coach Dean Smith at the University of North Carolina . He was a member of the Tar Heels ' national championship team in 1982 . Jordan joined the NBA 's Chicago Bulls in 1984 as the third overall draft pick . He quickly emerged as a league star , entertaining crowds with his prolific scoring . His leaping ability , demonstrated by performing slam dunks from the free throw line in slam dunk contests , earned him the nicknames \" Air Jordan \" and \" His Airness \" . He also gained a reputation for being one of the best defensive players in basketball . In 1991 , he won his first NBA championship with the Bulls , and followed that achievement with titles in 1992 and 1993 , securing a \" three @-@ peat \" . Although Jordan abruptly retired from basketball before the beginning of the 1993 – 94 NBA season to pursue a career in baseball , he returned to the Bulls in March 1995 and led them to three additional championships in 1996 , 1997 , and 1998 , as well as a then @-@ record 72 regular @-@ season wins in the 1995 – 96 NBA season . Jordan retired for a second time in January 1999 , but returned for two more NBA seasons from 2001 to 2003 as a member of the Wizards .\n"
     ]
    }
   ],
   "source": [
    "# Does not cut sentences off in the middle\n",
    "print(chunked[0])"
   ]
  },
  {
   "cell_type": "code",
   "execution_count": 12,
   "metadata": {},
   "outputs": [
    {
     "name": "stdout",
     "output_type": "stream",
     "text": [
      "Jordan 's individual accolades and accomplishments include five Most Valuable Player ( MVP ) Awards , ten All @-@ NBA First Team designations , nine All @-@ Defensive First Team honors , fourteen NBA All @-@ Star Game appearances , three All @-@ Star Game MVP Awards , ten scoring titles , three steals titles , six NBA Finals MVP Awards , and the 1988 NBA Defensive Player of the Year Award . Among his numerous accomplishments , Jordan holds the NBA records for highest career regular season scoring average ( 30 @.@ 12 points per game ) and highest career playoff scoring average ( 33 @.@ 45 points per game ) . In 1999 , he was named the greatest North American athlete of the 20th century by ESPN , and was second to Babe Ruth on the Associated Press 's list of athletes of the century . Jordan is a two @-@ time inductee into the Basketball Hall of Fame , having been enshrined in 2009 for his individual career , and again in 2010 as part of the group induction of the 1992 United States men 's Olympic basketball team ( \" The Dream Team \" ) . He became a member of the FIBA Hall of Fame in 2015 . \n",
      " Jordan is also known for his product endorsements . He fueled the success of Nike 's Air Jordan sneakers , which were introduced in 1985 and remain popular today . Jordan also starred in the 1996 feature film Space Jam as himself . In 2006 , he became part @-@ owner and head of basketball operations for the then @-@ Charlotte Bobcats , buying a controlling interest in 2010 . In 2015 , as a result of the increase in value of NBA franchises , Jordan became the first billionaire NBA player in history and the world 's second @-@ richest African @-@ American . \n",
      " \n",
      " = = Early years = = \n",
      " \n",
      " Jordan was born in Brooklyn , New York , the son of Deloris ( née Peoples ) , who worked in banking , and James R. Jordan , Sr. , an equipment supervisor . His family moved to Wilmington , North Carolina , when he was a toddler . \n",
      " Jordan is the fourth of five children . He has two older brothers , Larry Jordan and James R. Jordan , Jr . , one older sister , Deloris , and a younger sister , Roslyn .\n"
     ]
    }
   ],
   "source": [
    "print(chunked[1])"
   ]
  },
  {
   "cell_type": "markdown",
   "metadata": {},
   "source": [
    "### Perform Chunking on Dataset\n",
    "\n",
    "Now we perform chunking on our entire dataset. We use the chunker's in-built function to do this on our list of documents. We get a list of [TextNodes](https://docs.llamaindex.ai/en/stable/module_guides/loading/documents_and_nodes/usage_nodes/) as output. "
   ]
  },
  {
   "cell_type": "code",
   "execution_count": 13,
   "metadata": {},
   "outputs": [
    {
     "data": {
      "application/vnd.jupyter.widget-view+json": {
       "model_id": "03f1b948fed44331936c10a601375771",
       "version_major": 2,
       "version_minor": 0
      },
      "text/plain": [
       "Parsing nodes:   0%|          | 0/100 [00:00<?, ?it/s]"
      ]
     },
     "metadata": {},
     "output_type": "display_data"
    }
   ],
   "source": [
    "nodes = chunker.get_nodes_from_documents(documents, show_progress=True)"
   ]
  },
  {
   "cell_type": "code",
   "execution_count": 14,
   "metadata": {},
   "outputs": [
    {
     "name": "stdout",
     "output_type": "stream",
     "text": [
      "Documents before chunking: 100\n",
      "Documents after chunking: 852\n"
     ]
    },
    {
     "data": {
      "text/plain": [
       "TextNode(id_='c7f5f02f-12b7-48d0-b64f-bcff596476ef', embedding=None, metadata={'title': 'Valkyria Chronicles III'}, excluded_embed_metadata_keys=[], excluded_llm_metadata_keys=[], relationships={<NodeRelationship.SOURCE: '1'>: RelatedNodeInfo(node_id='18f9ce5d-0421-412b-bad4-064c6809e6e0', node_type=<ObjectType.DOCUMENT: '4'>, metadata={'title': 'Valkyria Chronicles III'}, hash='97c375d8ad713d727b964c7dd41b019777797b46662a06bc24ec8ccc392f6af2'), <NodeRelationship.NEXT: '3'>: RelatedNodeInfo(node_id='d239d345-c077-455e-96bd-ce4e5343dc59', node_type=<ObjectType.TEXT: '1'>, metadata={}, hash='94bdb8573c0fb81586bf08bff93c5ee404e82ac21c627a13dd97b798040aa604')}, text='= Valkyria Chronicles III = \\n \\n Senjō no Valkyria 3 : Unrecorded Chronicles ( Japanese : 戦場のヴァルキュリア3 , lit . Valkyria of the Battlefield 3 ) , commonly referred to as Valkyria Chronicles III outside Japan , is a tactical role @-@ playing video game developed by Sega and Media.Vision for the PlayStation Portable . Released in January 2011 in Japan , it is the third game in the Valkyria series . Employing the same fusion of tactical and real @-@ time gameplay as its predecessors , the story runs parallel to the first game and follows the \" Nameless \" , a penal military unit serving the nation of Gallia during the Second Europan War who perform secret black operations and are pitted against the Imperial unit \" Calamaty Raven \" . \\n The game began development in 2010 , carrying over a large portion of the work done on Valkyria Chronicles II . While it retained the standard features of the series , it also underwent multiple adjustments , such as making the game more forgiving for series newcomers . Character designer Raita Honjou and composer Hitoshi Sakimoto both returned from previous entries , along with Valkyria Chronicles II director Takeshi Ozawa . A large team of writers handled the script . The game \\'s opening theme was sung by May \\'n . \\n It met with positive sales in Japan , and was praised by both Japanese and western critics . After release , it received downloadable content , along with an expanded edition in November of that year . It was also adapted into manga and an original video animation series . Due to low sales of Valkyria Chronicles II , Valkyria Chronicles III was not localized , but a fan translation compatible with the game \\'s expanded edition was released in 2014 . Media.Vision would return to the franchise with the development of Valkyria : Azure Revolution for the PlayStation 4 . \\n \\n = = Gameplay = = \\n \\n As with previous Valkyira Chronicles games , Valkyria Chronicles III is a tactical role @-@ playing game where players take control of a military unit and take part in missions against enemy forces . Stories are told through comic book @-@ like panels with animated character portraits , with characters speaking partially through voiced speech bubbles and partially through unvoiced text .', start_char_idx=1, end_char_idx=2250, text_template='{metadata_str}\\n\\n{content}', metadata_template='{key}: {value}', metadata_seperator='\\n')"
      ]
     },
     "execution_count": 14,
     "metadata": {},
     "output_type": "execute_result"
    }
   ],
   "source": [
    "print(f\"Documents before chunking: {len(documents)}\")\n",
    "print(f\"Documents after chunking: {len(nodes)}\")\n",
    "nodes[0]"
   ]
  }
 ],
 "metadata": {
  "kernelspec": {
   "display_name": "genai-bootcamp-4wh1UwyX-py3.12",
   "language": "python",
   "name": "python3"
  },
  "language_info": {
   "codemirror_mode": {
    "name": "ipython",
    "version": 3
   },
   "file_extension": ".py",
   "mimetype": "text/x-python",
   "name": "python",
   "nbconvert_exporter": "python",
   "pygments_lexer": "ipython3",
   "version": "3.12.0"
  }
 },
 "nbformat": 4,
 "nbformat_minor": 2
}
