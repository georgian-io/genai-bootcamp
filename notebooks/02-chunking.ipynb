{
 "cells": [
  {
   "cell_type": "code",
   "execution_count": 1,
   "metadata": {},
   "outputs": [],
   "source": [
    "import tqdm\n",
    "import numpy as np"
   ]
  },
  {
   "cell_type": "markdown",
   "metadata": {},
   "source": [
    "# API Setup"
   ]
  },
  {
   "cell_type": "code",
   "execution_count": 2,
   "metadata": {},
   "outputs": [
    {
     "data": {
      "text/plain": [
       "True"
      ]
     },
     "execution_count": 2,
     "metadata": {},
     "output_type": "execute_result"
    }
   ],
   "source": [
    "from dotenv import load_dotenv\n",
    "load_dotenv(dotenv_path=\"../.env\")"
   ]
  },
  {
   "cell_type": "markdown",
   "metadata": {},
   "source": [
    "# Dataset"
   ]
  },
  {
   "cell_type": "code",
   "execution_count": 3,
   "metadata": {},
   "outputs": [
    {
     "name": "stderr",
     "output_type": "stream",
     "text": [
      "Repo card metadata block was not found. Setting CardData to empty.\n"
     ]
    }
   ],
   "source": [
    "from datasets import load_dataset\n",
    "data = load_dataset(\"EleutherAI/wikitext_document_level\", \"wikitext-103-raw-v1\", trust_remote_code=False)"
   ]
  },
  {
   "cell_type": "code",
   "execution_count": 4,
   "metadata": {},
   "outputs": [],
   "source": [
    "sample_size = 100\n",
    "data_index = 38\n",
    "np.random.seed(42)\n",
    "data = data[\"train\"][:sample_size]"
   ]
  },
  {
   "cell_type": "markdown",
   "metadata": {},
   "source": [
    "# Preprocessing"
   ]
  },
  {
   "cell_type": "code",
   "execution_count": 5,
   "metadata": {},
   "outputs": [],
   "source": [
    "# Data cleaning\n",
    "import re\n",
    "pattern = re.compile(r\" @(.)@ \")\n",
    "\n",
    "# Run this across the entire dataset\n",
    "for i, page in enumerate(data[\"page\"]):\n",
    "    data[\"page\"][i] = re.sub(pattern, r\"\\1\", page)"
   ]
  },
  {
   "cell_type": "code",
   "execution_count": 6,
   "metadata": {},
   "outputs": [],
   "source": [
    "# Data enrichment\n",
    "def extract_metadata(data):\n",
    "    title_pattern = re.compile(r\"\\s=\\s([^=]{1,50})\\s=\\s\")\n",
    "    title = [item for item in re.findall(title_pattern, data)]\n",
    "    # The regex above isn't perfect so we take the first match as the title \n",
    "    if len(title) > 0:\n",
    "        title = title[0]\n",
    "    else:\n",
    "        title = \"Unknown Title\"\n",
    "    return {\"title\": title}"
   ]
  },
  {
   "cell_type": "code",
   "execution_count": 7,
   "metadata": {},
   "outputs": [
    {
     "name": "stderr",
     "output_type": "stream",
     "text": [
      "100%|██████████| 100/100 [00:00<00:00, 3642.69it/s]\n"
     ]
    }
   ],
   "source": [
    "# Load documents\n",
    "from llama_index.core import Document\n",
    "\n",
    "documents = []\n",
    "for i in tqdm.tqdm(range(len(data[\"page\"]))):\n",
    "    documents.append(\n",
    "        Document(\n",
    "            text=data[\"page\"][i],\n",
    "            metadata=extract_metadata(data[\"page\"][i]),\n",
    "        )\n",
    "    )"
   ]
  },
  {
   "cell_type": "markdown",
   "metadata": {},
   "source": [
    "# Chunking\n",
    "\n",
    "We first demonstrate basic fixed size chunking with overlaps via llamaindex's [TokenTextSplitter](https://docs.llamaindex.ai/en/stable/api_reference/node_parsers/token_text_splitter/).\n",
    "\n",
    "However, for the rest of the demo, we use a mix of two chunking methods - fixed-size chunking and content-aware chunking. Specifically, we use llamaindex's [SentenceSplitter](https://docs.llamaindex.ai/en/stable/api_reference/node_parsers/sentence_splitter/) which attempts to keep sentences and paragraphs together while maintaining chunks of roughly equal size.\n",
    "\n",
    "We use a chunk size of 512 which is the maximum size that our embedding model (chosen further down) accepts. Within these chunks, we set an overlap of 20 tokens which corresponds to roughly 1-2 sentences.\n",
    "\n",
    "You can examine other chunking methods implemented in llamaindex [here](https://docs.llamaindex.ai/en/stable/api_reference/node_parsers/)."
   ]
  },
  {
   "cell_type": "markdown",
   "metadata": {},
   "source": [
    "### Fixed Size Chunking"
   ]
  },
  {
   "cell_type": "code",
   "execution_count": 8,
   "metadata": {},
   "outputs": [],
   "source": [
    "from llama_index.core.node_parser import TokenTextSplitter\n",
    "chunker = TokenTextSplitter(chunk_size=512, chunk_overlap=20)"
   ]
  },
  {
   "cell_type": "code",
   "execution_count": 9,
   "metadata": {},
   "outputs": [
    {
     "name": "stdout",
     "output_type": "stream",
     "text": [
      "Document has ~9872 words and was split into 24 chunks of maximum 512 tokens.\n"
     ]
    }
   ],
   "source": [
    "sample = data[\"page\"][data_index]\n",
    "chunked = chunker.split_text(sample)\n",
    "print(f\"Document has ~{len(sample.split(' '))} words and was split into {len(chunked)} chunks of maximum 512 tokens.\")"
   ]
  },
  {
   "cell_type": "code",
   "execution_count": 10,
   "metadata": {},
   "outputs": [
    {
     "name": "stdout",
     "output_type": "stream",
     "text": [
      "= Michael Jordan = \n",
      " \n",
      " Michael Jeffrey Jordan ( born February 17 , 1963 ) , also known by his initials , MJ , is an American retired professional basketball player . He is also a businessman , and principal owner and chairman of the Charlotte Hornets . Jordan played 15 seasons in the National Basketball Association ( NBA ) for the Chicago Bulls and Washington Wizards . His biography on the NBA website states : \" By acclamation , Michael Jordan is the greatest basketball player of all time . \" Jordan was one of the most effectively marketed athletes of his generation and was considered instrumental in popularizing the NBA around the world in the 1980s and 1990s . \n",
      " Jordan played three seasons for coach Dean Smith at the University of North Carolina . He was a member of the Tar Heels ' national championship team in 1982 . Jordan joined the NBA 's Chicago Bulls in 1984 as the third overall draft pick . He quickly emerged as a league star , entertaining crowds with his prolific scoring . His leaping ability , demonstrated by performing slam dunks from the free throw line in slam dunk contests , earned him the nicknames \" Air Jordan \" and \" His Airness \" . He also gained a reputation for being one of the best defensive players in basketball . In 1991 , he won his first NBA championship with the Bulls , and followed that achievement with titles in 1992 and 1993 , securing a \" three-peat \" . Although Jordan abruptly retired from basketball before the beginning of the 1993 – 94 NBA season to pursue a career in baseball , he returned to the Bulls in March 1995 and led them to three additional championships in 1996 , 1997 , and 1998 , as well as a then-record 72 regular-season wins in the 1995 – 96 NBA season . Jordan retired for a second time in January 1999 , but returned for two more NBA seasons from 2001 to 2003 as a member of the Wizards . \n",
      " Jordan 's individual accolades and accomplishments include five Most Valuable Player ( MVP ) Awards , ten All-NBA First Team designations , nine All-Defensive First Team honors , fourteen NBA All-Star Game appearances , three All-Star Game MVP Awards , ten scoring titles , three steals titles , six NBA Finals MVP Awards , and the 1988 NBA Defensive Player of the Year Award . Among his numerous accomplishments , Jordan holds the NBA records for highest career regular season scoring average ( 30.12 points per game ) and\n"
     ]
    }
   ],
   "source": [
    "# Can result in sentences being cut off in the middle\n",
    "print(chunked[0])"
   ]
  },
  {
   "cell_type": "code",
   "execution_count": 11,
   "metadata": {},
   "outputs": [
    {
     "name": "stdout",
     "output_type": "stream",
     "text": [
      "the NBA records for highest career regular season scoring average ( 30.12 points per game ) and highest career playoff scoring average ( 33.45 points per game ) . In 1999 , he was named the greatest North American athlete of the 20th century by ESPN , and was second to Babe Ruth on the Associated Press 's list of athletes of the century . Jordan is a two-time inductee into the Basketball Hall of Fame , having been enshrined in 2009 for his individual career , and again in 2010 as part of the group induction of the 1992 United States men 's Olympic basketball team ( \" The Dream Team \" ) . He became a member of the FIBA Hall of Fame in 2015 . \n",
      " Jordan is also known for his product endorsements . He fueled the success of Nike 's Air Jordan sneakers , which were introduced in 1985 and remain popular today . Jordan also starred in the 1996 feature film Space Jam as himself . In 2006 , he became part-owner and head of basketball operations for the then-Charlotte Bobcats , buying a controlling interest in 2010 . In 2015 , as a result of the increase in value of NBA franchises , Jordan became the first billionaire NBA player in history and the world 's second-richest African-American . \n",
      " \n",
      " = = Early years = = \n",
      " \n",
      " Jordan was born in Brooklyn , New York , the son of Deloris ( née Peoples ) , who worked in banking , and James R. Jordan , Sr. , an equipment supervisor . His family moved to Wilmington , North Carolina , when he was a toddler . \n",
      " Jordan is the fourth of five children . He has two older brothers , Larry Jordan and James R. Jordan , Jr . , one older sister , Deloris , and a younger sister , Roslyn . Jordan 's brother James retired in 2006 as the Command Sergeant Major of the 35th Signal Brigade of the XVIII Airborne Corps in the U.S. Army . \n",
      " \n",
      " = = High school career = = \n",
      " \n",
      " Jordan attended Emsley A. Laney High School in Wilmington , where he anchored his athletic career by playing baseball , football , and basketball . He tried out for the varsity basketball team during his sophomore year , but at 5 ' 11 \" ( 1.80 m ) , he was deemed too short to play at that level . His taller friend , Harvest Leroy Smith , was the only sophomore to make the team .\n"
     ]
    }
   ],
   "source": [
    "print(chunked[1])"
   ]
  },
  {
   "cell_type": "markdown",
   "metadata": {},
   "source": [
    "### Content Aware Chunking"
   ]
  },
  {
   "cell_type": "code",
   "execution_count": 12,
   "metadata": {},
   "outputs": [],
   "source": [
    "from llama_index.core.node_parser import SentenceSplitter\n",
    "chunker = SentenceSplitter(chunk_size=512, chunk_overlap=20)"
   ]
  },
  {
   "cell_type": "code",
   "execution_count": 13,
   "metadata": {},
   "outputs": [
    {
     "name": "stdout",
     "output_type": "stream",
     "text": [
      "Document has 9872 words and was split into 24 chunks of maximum 512 tokens.\n"
     ]
    }
   ],
   "source": [
    "sample = data[\"page\"][data_index]\n",
    "chunked = chunker.split_text(sample)\n",
    "print(f\"Document has {len(sample.split(' '))} words and was split into {len(chunked)} chunks of maximum 512 tokens.\")"
   ]
  },
  {
   "cell_type": "code",
   "execution_count": 14,
   "metadata": {},
   "outputs": [
    {
     "name": "stdout",
     "output_type": "stream",
     "text": [
      "= Michael Jordan = \n",
      " \n",
      " Michael Jeffrey Jordan ( born February 17 , 1963 ) , also known by his initials , MJ , is an American retired professional basketball player . He is also a businessman , and principal owner and chairman of the Charlotte Hornets . Jordan played 15 seasons in the National Basketball Association ( NBA ) for the Chicago Bulls and Washington Wizards . His biography on the NBA website states : \" By acclamation , Michael Jordan is the greatest basketball player of all time . \" Jordan was one of the most effectively marketed athletes of his generation and was considered instrumental in popularizing the NBA around the world in the 1980s and 1990s . \n",
      " Jordan played three seasons for coach Dean Smith at the University of North Carolina . He was a member of the Tar Heels ' national championship team in 1982 . Jordan joined the NBA 's Chicago Bulls in 1984 as the third overall draft pick . He quickly emerged as a league star , entertaining crowds with his prolific scoring . His leaping ability , demonstrated by performing slam dunks from the free throw line in slam dunk contests , earned him the nicknames \" Air Jordan \" and \" His Airness \" . He also gained a reputation for being one of the best defensive players in basketball . In 1991 , he won his first NBA championship with the Bulls , and followed that achievement with titles in 1992 and 1993 , securing a \" three-peat \" . Although Jordan abruptly retired from basketball before the beginning of the 1993 – 94 NBA season to pursue a career in baseball , he returned to the Bulls in March 1995 and led them to three additional championships in 1996 , 1997 , and 1998 , as well as a then-record 72 regular-season wins in the 1995 – 96 NBA season . Jordan retired for a second time in January 1999 , but returned for two more NBA seasons from 2001 to 2003 as a member of the Wizards . \n",
      " Jordan 's individual accolades and accomplishments include five Most Valuable Player ( MVP ) Awards , ten All-NBA First Team designations , nine All-Defensive First Team honors , fourteen NBA All-Star Game appearances , three All-Star Game MVP Awards , ten scoring titles , three steals titles , six NBA Finals MVP Awards , and the 1988 NBA Defensive Player of the Year Award .\n"
     ]
    }
   ],
   "source": [
    "# Does not cut sentences off in the middle\n",
    "print(chunked[0])"
   ]
  },
  {
   "cell_type": "code",
   "execution_count": 15,
   "metadata": {},
   "outputs": [
    {
     "name": "stdout",
     "output_type": "stream",
     "text": [
      "Among his numerous accomplishments , Jordan holds the NBA records for highest career regular season scoring average ( 30.12 points per game ) and highest career playoff scoring average ( 33.45 points per game ) . In 1999 , he was named the greatest North American athlete of the 20th century by ESPN , and was second to Babe Ruth on the Associated Press 's list of athletes of the century . Jordan is a two-time inductee into the Basketball Hall of Fame , having been enshrined in 2009 for his individual career , and again in 2010 as part of the group induction of the 1992 United States men 's Olympic basketball team ( \" The Dream Team \" ) . He became a member of the FIBA Hall of Fame in 2015 . \n",
      " Jordan is also known for his product endorsements . He fueled the success of Nike 's Air Jordan sneakers , which were introduced in 1985 and remain popular today . Jordan also starred in the 1996 feature film Space Jam as himself . In 2006 , he became part-owner and head of basketball operations for the then-Charlotte Bobcats , buying a controlling interest in 2010 . In 2015 , as a result of the increase in value of NBA franchises , Jordan became the first billionaire NBA player in history and the world 's second-richest African-American . \n",
      " \n",
      " = = Early years = = \n",
      " \n",
      " Jordan was born in Brooklyn , New York , the son of Deloris ( née Peoples ) , who worked in banking , and James R. Jordan , Sr. , an equipment supervisor . His family moved to Wilmington , North Carolina , when he was a toddler . \n",
      " Jordan is the fourth of five children . He has two older brothers , Larry Jordan and James R. Jordan , Jr . , one older sister , Deloris , and a younger sister , Roslyn . Jordan 's brother James retired in 2006 as the Command Sergeant Major of the 35th Signal Brigade of the XVIII Airborne Corps in the U.S. Army . \n",
      " \n",
      " = = High school career = = \n",
      " \n",
      " Jordan attended Emsley A. Laney High School in Wilmington , where he anchored his athletic career by playing baseball , football , and basketball .\n"
     ]
    }
   ],
   "source": [
    "print(chunked[1])"
   ]
  },
  {
   "cell_type": "markdown",
   "metadata": {},
   "source": [
    "### Perform Chunking on Dataset\n",
    "\n",
    "Now we perform chunking on our entire dataset. We use the chunker's in-built function to do this on our list of documents. We get a list of [TextNodes](https://docs.llamaindex.ai/en/stable/module_guides/loading/documents_and_nodes/usage_nodes/) as output. "
   ]
  },
  {
   "cell_type": "code",
   "execution_count": 16,
   "metadata": {},
   "outputs": [
    {
     "data": {
      "application/vnd.jupyter.widget-view+json": {
       "model_id": "94aefb059bbe496d9c05a4eac3659eea",
       "version_major": 2,
       "version_minor": 0
      },
      "text/plain": [
       "Parsing nodes:   0%|          | 0/100 [00:00<?, ?it/s]"
      ]
     },
     "metadata": {},
     "output_type": "display_data"
    }
   ],
   "source": [
    "nodes = chunker.get_nodes_from_documents(documents, show_progress=True)"
   ]
  },
  {
   "cell_type": "code",
   "execution_count": 17,
   "metadata": {},
   "outputs": [
    {
     "name": "stdout",
     "output_type": "stream",
     "text": [
      "Documents before chunking: 100\n",
      "Documents after chunking: 837\n"
     ]
    },
    {
     "data": {
      "text/plain": [
       "TextNode(id_='def5af20-e66e-4ec5-906c-ec6ca3c723cf', embedding=None, metadata={'title': 'Valkyria Chronicles III'}, excluded_embed_metadata_keys=[], excluded_llm_metadata_keys=[], relationships={<NodeRelationship.SOURCE: '1'>: RelatedNodeInfo(node_id='3e5f57ab-4225-4edb-8a71-4cb4706ad4f1', node_type=<ObjectType.DOCUMENT: '4'>, metadata={'title': 'Valkyria Chronicles III'}, hash='f7aadfb478d20e04be770cd882b5e6a44c185eb28a53810838586313c39ccc7c'), <NodeRelationship.NEXT: '3'>: RelatedNodeInfo(node_id='1fb81062-ebd0-4d4c-9ca6-eec39b25ac16', node_type=<ObjectType.TEXT: '1'>, metadata={}, hash='32c32274359d6ec7e58a31e940b4b433c53354c2fb60611c7cc6bd2c324d075c')}, text='= Valkyria Chronicles III = \\n \\n Senjō no Valkyria 3 : Unrecorded Chronicles ( Japanese : 戦場のヴァルキュリア3 , lit . Valkyria of the Battlefield 3 ) , commonly referred to as Valkyria Chronicles III outside Japan , is a tactical role-playing video game developed by Sega and Media.Vision for the PlayStation Portable . Released in January 2011 in Japan , it is the third game in the Valkyria series . Employing the same fusion of tactical and real-time gameplay as its predecessors , the story runs parallel to the first game and follows the \" Nameless \" , a penal military unit serving the nation of Gallia during the Second Europan War who perform secret black operations and are pitted against the Imperial unit \" Calamaty Raven \" . \\n The game began development in 2010 , carrying over a large portion of the work done on Valkyria Chronicles II . While it retained the standard features of the series , it also underwent multiple adjustments , such as making the game more forgiving for series newcomers . Character designer Raita Honjou and composer Hitoshi Sakimoto both returned from previous entries , along with Valkyria Chronicles II director Takeshi Ozawa . A large team of writers handled the script . The game \\'s opening theme was sung by May \\'n . \\n It met with positive sales in Japan , and was praised by both Japanese and western critics . After release , it received downloadable content , along with an expanded edition in November of that year . It was also adapted into manga and an original video animation series . Due to low sales of Valkyria Chronicles II , Valkyria Chronicles III was not localized , but a fan translation compatible with the game \\'s expanded edition was released in 2014 . Media.Vision would return to the franchise with the development of Valkyria : Azure Revolution for the PlayStation 4 . \\n \\n = = Gameplay = = \\n \\n As with previous Valkyira Chronicles games , Valkyria Chronicles III is a tactical role-playing game where players take control of a military unit and take part in missions against enemy forces . Stories are told through comic book-like panels with animated character portraits , with characters speaking partially through voiced speech bubbles and partially through unvoiced text .', start_char_idx=1, end_char_idx=2234, text_template='{metadata_str}\\n\\n{content}', metadata_template='{key}: {value}', metadata_seperator='\\n')"
      ]
     },
     "execution_count": 17,
     "metadata": {},
     "output_type": "execute_result"
    }
   ],
   "source": [
    "print(f\"Documents before chunking: {len(documents)}\")\n",
    "print(f\"Documents after chunking: {len(nodes)}\")\n",
    "nodes[0]"
   ]
  }
 ],
 "metadata": {
  "kernelspec": {
   "display_name": "genai-bootcamp-4wh1UwyX-py3.12",
   "language": "python",
   "name": "python3"
  },
  "language_info": {
   "codemirror_mode": {
    "name": "ipython",
    "version": 3
   },
   "file_extension": ".py",
   "mimetype": "text/x-python",
   "name": "python",
   "nbconvert_exporter": "python",
   "pygments_lexer": "ipython3",
   "version": "3.12.0"
  }
 },
 "nbformat": 4,
 "nbformat_minor": 2
}
