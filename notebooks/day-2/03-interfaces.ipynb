{
 "cells": [
  {
   "attachments": {},
   "cell_type": "markdown",
   "metadata": {},
   "source": [
    "# Interfaces & GenAI Links\n",
    "\n",
    "## Links\n",
    "- [Slides](https://docs.google.com/presentation/d/13cXFt_ZqBujDOk-6ifnNY9JHw87tRcXbk5f3gealaKw/edit?usp=sharing)\n",
    "- [StreamLit](https://streamlit.io/)\n",
    "  - [Examples](git@github.com:streamlit/streamlit.git)\n",
    "  - [Template](https://github.com/rodrigo-georgian/genai-interface-cookiecutter)\n",
    "- [Vercel Example](https://vercel.com/templates/next.js/ai-gpt3-chatbot)\n",
    "- [ReactPy Link](https://github.com/reactive-python/reactpy)\n"
   ]
  },
  {
   "attachments": {},
   "cell_type": "markdown",
   "metadata": {},
   "source": [
    "# Hello World Example\n",
    "```\n",
    "genai-bootcamp\n",
    "conda activate genai-bootcamp\n",
    "poetry install\n",
    "poetry run streamlit run src/genai_bootcamp/interfaces/helloworld.py\n",
    "```"
   ]
  },
  {
   "attachments": {},
   "cell_type": "markdown",
   "metadata": {},
   "source": [
    "# A/B Data Generation Example\n",
    "```\n",
    "poetry run streamlit run src/genai_bootcamp/interfaces/AB-datagen.py\n",
    "```"
   ]
  },
  {
   "cell_type": "markdown",
   "metadata": {},
   "source": []
  }
 ],
 "metadata": {
  "kernelspec": {
   "display_name": "genai-bootcamp",
   "language": "python",
   "name": "python3"
  },
  "language_info": {
   "codemirror_mode": {
    "name": "ipython",
    "version": 3
   },
   "file_extension": ".py",
   "mimetype": "text/x-python",
   "name": "python",
   "nbconvert_exporter": "python",
   "pygments_lexer": "ipython3",
   "version": "3.10.11"
  },
  "orig_nbformat": 4
 },
 "nbformat": 4,
 "nbformat_minor": 2
}
