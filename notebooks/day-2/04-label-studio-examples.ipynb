{
 "cells": [
  {
   "cell_type": "code",
   "execution_count": 1,
   "metadata": {},
   "outputs": [],
   "source": [
    "%reload_ext autoreload\n",
    "%autoreload 2\n",
    "\n",
    "import pandas as pd\n",
    "import json\n",
    "from typing import Dict, List\n",
    "from pathlib import Path\n"
   ]
  },
  {
   "attachments": {},
   "cell_type": "markdown",
   "metadata": {},
   "source": [
    "# Motivation (TODO)"
   ]
  },
  {
   "attachments": {},
   "cell_type": "markdown",
   "metadata": {},
   "source": [
    "# Function Definitions"
   ]
  },
  {
   "cell_type": "code",
   "execution_count": 2,
   "metadata": {},
   "outputs": [],
   "source": [
    "def set_NaN_to_None(x):\n",
    "    return 'None' if pd.isna(x) else x\n",
    "\n",
    "def generate_AB_tasks(inputs: pd.DataFrame, outputs_a: pd.DataFrame, outputs_b: pd.DataFrame):\n",
    "    ids = set(outputs_a.index).intersection(set(outputs_b.index))\n",
    "    tasks = []\n",
    "    for id in ids:\n",
    "        input_row = inputs.loc[id]\n",
    "        row_a = outputs_a.loc[id]\n",
    "        row_b = outputs_b.loc[id]\n",
    "    \n",
    "        option_a = set_NaN_to_None(row_a.values[0])\n",
    "        option_b = set_NaN_to_None(row_b.values[0])\n",
    "        \n",
    "        task_dict = {\n",
    "            \"id\": id,\n",
    "            \"data\": {\n",
    "                \"input\": input_row,\n",
    "                \"option_A\": option_a,\n",
    "                \"option_B\": option_b,\n",
    "            }\n",
    "        }\n",
    "        tasks.append(task_dict)\n",
    "    return tasks\n",
    "\n",
    "def serialize_tasks(tasks: List[Dict], path: Path):\n",
    "    json_data = json.dumps(tasks)\n",
    "    path = Path(path)\n",
    "    path.parent.mkdir(parents=True, exist_ok=True)\n",
    "    with open(path, 'w') as f:\n",
    "        f.write(json_data)\n",
    "    print(f'Saved to {path}')\n"
   ]
  },
  {
   "attachments": {},
   "cell_type": "markdown",
   "metadata": {},
   "source": [
    "```\n",
    "<View>\n",
    "  <Header value=\"Question\"/>\n",
    "  <Text name=\"question_id\" value=\"Question ID: $question_id\"/>\n",
    "  <Text name=\"question\" value=\"$question\"/>\n",
    "  <Header value=\"Options\"/>\n",
    "  <Text name=\"options\" value=\"$options\"/>\n",
    "  <Header value=\"Answer(s)\"/>\n",
    "  <Text name=\"answer\" value=\"$answer\"/>\n",
    "  <Header value=\"-----------------\"/>\n",
    "  <Header value=\"Hints\"/>\n",
    "  <View style=\"display: flex;\">\n",
    "    <View>\n",
    "      <Text name=\"space1\" value=\" \"/>\n",
    "      <Text name=\"hint_a\" value=\"A) $option_A\"/>\n",
    "      <Text name=\"space2\" value=\" \"/>\n",
    "      <Text name=\"hint_b\" value=\"B) $option_B\"/>\n",
    "      <Text name=\"space3\" value=\" \"/>\n",
    "    </View>\n",
    "  </View>\n",
    "  <Header value=\"Which hint is the best?\"/>\n",
    "    <Choices name=\"resp\" toName=\"question\" required=\"true\">\n",
    "      <Choice value=\"Hint A\"/>\n",
    "      <Choice value=\"Hint B\"/>\n",
    "      <Choice value=\"I cannot assess\"/>\n",
    "      <Choice value=\"The hints are basically the same\"/>\n",
    "    </Choices>\n",
    "</View>\n",
    "```"
   ]
  },
  {
   "attachments": {},
   "cell_type": "markdown",
   "metadata": {},
   "source": [
    "# Generate Data"
   ]
  },
  {
   "cell_type": "code",
   "execution_count": null,
   "metadata": {},
   "outputs": [],
   "source": []
  },
  {
   "attachments": {},
   "cell_type": "markdown",
   "metadata": {},
   "source": [
    "# Model comparison"
   ]
  },
  {
   "cell_type": "code",
   "execution_count": null,
   "metadata": {},
   "outputs": [],
   "source": [
    "hints_dir = 'azin/v3'\n",
    "hints_name_1 = 'INS_A_V1_GPT4_40'\n",
    "hints_name_2 = 'INS_A_V2_GPT4_40'\n",
    "hints_path_1 = Path(f'../data/hints/{hints_dir}/{hints_name_1}.csv')\n",
    "hints_path_2 = Path(f'../data/hints/{hints_dir}/{hints_name_2}.csv')\n",
    "\n",
    "AB_tasks_path = Path(f'../data/label_studio/{hints_dir}/{hints_name_1}-vs-{hints_name_2}.json')\n",
    "\n",
    "hints_df_a = pd.read_csv(hints_path_1)[['question_ptr_id', 'ai_hint']]\n",
    "hints_df_b = pd.read_csv(hints_path_2)[['question_ptr_id', 'ai_hint']]\n",
    "\n",
    "questions_df = pd.read_csv('../data/courses/v1/TestSubjects.csv')\n",
    "questions_df.set_index('question_ptr_id', inplace=True)\n",
    "hints_df_a.set_index('question_ptr_id', inplace=True)\n",
    "hints_df_b.set_index('question_ptr_id', inplace=True)\n",
    "print(AB_tasks_path)\n"
   ]
  }
 ],
 "metadata": {
  "kernelspec": {
   "display_name": "genai-bootcamp-ayA35lH7-py3.11",
   "language": "python",
   "name": "python3"
  },
  "language_info": {
   "codemirror_mode": {
    "name": "ipython",
    "version": 3
   },
   "file_extension": ".py",
   "mimetype": "text/x-python",
   "name": "python",
   "nbconvert_exporter": "python",
   "pygments_lexer": "ipython3",
   "version": "3.10.11"
  },
  "orig_nbformat": 4
 },
 "nbformat": 4,
 "nbformat_minor": 2
}
