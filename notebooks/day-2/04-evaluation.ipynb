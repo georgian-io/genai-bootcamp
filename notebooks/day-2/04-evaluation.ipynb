{
 "cells": [
  {
   "attachments": {},
   "cell_type": "markdown",
   "metadata": {},
   "source": [
    "# Evaluation\n",
    "Because they are natural language and there often is more than one right answer, LLM output is notoriously difficult to evaluate.\n",
    "\n",
    "[Here](https://wandb.ai/wandb_gen/llm-evaluation/reports/Evaluating-Large-Language-Models-LLMs-with-Eleuther-AI--VmlldzoyOTI0MDQ3) is a comprehensive analysis on the topic.\n",
    "\n",
    "For the purposes of this Bootcamp, we'll be focusing on `Human Evaluation`."
   ]
  },
  {
   "attachments": {},
   "cell_type": "markdown",
   "metadata": {},
   "source": [
    "## [Label Studio](https://labelstud.io/guide/)\n",
    "There are many tools one can use to annotate LLM outputs. For this bootcamp, we selected Label Studio and have set it up so everyone can use it.\n",
    "\n",
    "Here are the steps you need to take to use it:\n",
    "1. Create data to evaluate\n",
    "   - Lucky for us, we already did that in the previous streamlit demo.\n",
    "2. Format your data\n",
    "3. Upload your data\n",
    "4. Define your annotation view\n",
    "5. Annotate your data\n",
    "6. Analyze your results"
   ]
  },
  {
   "attachments": {},
   "cell_type": "markdown",
   "metadata": {},
   "source": [
    "### Links\n",
    "- [HuggingFace Space](https://huggingface.co/spaces/georgian-genai-bootcamp/label-studio-01)\n",
    "  - [Signup Link](https://georgian-genai-bootcamp-label-studio-01.hf.space/user/signup/?token=36fddda3ba987895)\n",
    "- [Video Walkthrough](TODO)\n",
    "- [Label Studio Docs](https://labelstud.io/guide/)"
   ]
  },
  {
   "attachments": {},
   "cell_type": "markdown",
   "metadata": {},
   "source": [
    "# Step 2: Format Data"
   ]
  },
  {
   "cell_type": "code",
   "execution_count": 16,
   "metadata": {},
   "outputs": [],
   "source": [
    "\n",
    "\n",
    "import pandas as pd\n",
    "import json\n",
    "from typing import Dict, List\n",
    "from pathlib import Path\n",
    "\n",
    "def set_NaN_to_None(x):\n",
    "    return 'None' if pd.isna(x) else x\n",
    "\n",
    "def generate_AB_tasks(outputs_a: pd.DataFrame, outputs_b: pd.DataFrame):\n",
    "    common_inputs = set(outputs_a['Input']).intersection(set(outputs_b['Input']))\n",
    "    tasks = []\n",
    "    for i, input in enumerate(common_inputs):\n",
    "        row_a = outputs_a[outputs_a['Input'] == input]['Output']\n",
    "        row_b = outputs_b[outputs_b['Input'] == input]['Output']\n",
    "    \n",
    "        option_a = set_NaN_to_None(row_a.values[0])\n",
    "        option_b = set_NaN_to_None(row_b.values[0])\n",
    "        \n",
    "        task_dict = {\n",
    "            \"id\": i,\n",
    "            \"data\": {\n",
    "                \"input\": input,\n",
    "                \"option_A\": option_a,\n",
    "                \"option_B\": option_b,\n",
    "            }\n",
    "        }\n",
    "        tasks.append(task_dict)\n",
    "    return tasks\n",
    "\n",
    "def serialize_tasks(tasks: List[Dict], path: Path):\n",
    "    json_data = json.dumps(tasks)\n",
    "    path = Path(path)\n",
    "    path.parent.mkdir(parents=True, exist_ok=True)\n",
    "    with open(path, 'w') as f:\n",
    "        f.write(json_data)\n",
    "    print(f'Saved to {path}')\n"
   ]
  },
  {
   "cell_type": "code",
   "execution_count": 20,
   "metadata": {},
   "outputs": [
    {
     "name": "stdout",
     "output_type": "stream",
     "text": [
      "[{'id': 0, 'data': {'input': ' Python is a widely used, easy-to-read programming language known for its versatility and simplicity.', 'option_A': \"Python, a language versatile and slick,\\nEasy-to-read, man, it's that programming pick,\\nWidely used, simplicity's the game,\\nEminem and Python, we both got the fame.\", 'option_B': \"Python's the game, versatility we claim,\\nEasy-read code, simplicity's the aim.\\nWidely used language, we takin' the lead,\\nJay-Z rappin' 'bout that programming creed.\"}}, {'id': 1, 'data': {'input': 'A large language model is a powerful AI system that learns from extensive text data and can generate human-like responses and understand natural language.', 'option_A': \"I'm a language model, large and in charge, AI\\nLearnin' from the text, you can't deny\\nGeneratin' responses, human-like, no strife\\nUnderstandin' natural language, that's the life\", 'option_B': \"I'm a large language model, AI so strong,\\nLearnin' from the text, all day long,\\nGeneratin' responses, human-like vibes,\\nUnderstandin' language, that's how I survive.\"}}, {'id': 2, 'data': {'input': ' AI stands for Artificial Intelligence, which involves creating intelligent machines that can perform tasks that typically require human intelligence.', 'option_A': \"AI, Artificial Intelligence, see,\\nMakin' machines smart, like you and me,\\nTask-performers, human-like indeed,\\nIntelligent creations, that's what we need.\", 'option_B': \"AI, that's Artificial Intelligence, y'know,\\nMakin' machines smart, human skills they show,\\nTasks that we do, they perform with persistence,\\nBringin' the future close, it's a new existence.\"}}]\n",
      "Saved to outputs/label_studio/tasks/task_1.json\n"
     ]
    }
   ],
   "source": [
    "df1 = pd.read_csv('outputs/3b992f93a458963cfd6d8ac9ab35dd53.csv')\n",
    "df2 = pd.read_csv('outputs/25da2ede31c52f51891be6399ea4a852.csv')\n",
    "\n",
    "tasks = generate_AB_tasks(outputs_a=df1, outputs_b=df2)\n",
    "print(tasks)\n",
    "serialize_tasks(tasks, path='outputs/label_studio/tasks/task_1.json')"
   ]
  },
  {
   "attachments": {},
   "cell_type": "markdown",
   "metadata": {},
   "source": [
    "# Step 3: Upload your data\n",
    "[Watch video](TODO) - Time XX:XX"
   ]
  },
  {
   "attachments": {},
   "cell_type": "markdown",
   "metadata": {},
   "source": [
    "# Step 4: Define your View\n",
    "[Watch Video](TODO) - Time XX:XX"
   ]
  },
  {
   "attachments": {},
   "cell_type": "markdown",
   "metadata": {},
   "source": [
    "```\n",
    "<View>\n",
    "  <Header value=\"Input\"/>\n",
    "  <Text name=\"input\" value=\"$input\"/>\n",
    "  <Header value=\"Options\"/>\n",
    "  <View style=\"display: flex;\">\n",
    "    <View>\n",
    "      <Text name=\"space1\" value=\" \"/>\n",
    "      <Text name=\"opt_a\" value=\"A) $option_A\"/>\n",
    "      <Text name=\"space2\" value=\" \"/>\n",
    "      <Text name=\"opt_b\" value=\"B) $option_B\"/>\n",
    "      <Text name=\"space3\" value=\" \"/>\n",
    "    </View>\n",
    "  </View>\n",
    "  <Header value=\"Which is better?\"/>\n",
    "    <Choices name=\"resp\" toName=\"input\" required=\"true\">\n",
    "      <Choice value=\"Option A\"/>\n",
    "      <Choice value=\"Option B\"/>\n",
    "      <Choice value=\"Draw\"/>\n",
    "    </Choices>\n",
    "</View>\n",
    "```"
   ]
  },
  {
   "attachments": {},
   "cell_type": "markdown",
   "metadata": {},
   "source": [
    "## Step 5: Annotate\n",
    "[Watch Video](TODO) - Time XX:XX"
   ]
  },
  {
   "attachments": {},
   "cell_type": "markdown",
   "metadata": {},
   "source": [
    "## Step 6: Analyze Results \n",
    "[Watch Video](TODO) - Time XX:XX"
   ]
  },
  {
   "cell_type": "code",
   "execution_count": 136,
   "metadata": {},
   "outputs": [],
   "source": [
    "import pandas as pd\n",
    "import seaborn as sns\n",
    "import matplotlib.pyplot as plt\n",
    "\n",
    "def plot(df):\n",
    "    # Create a DataFrame suitable for a stacked bar graph\n",
    "    stacked_df = pd.crosstab(df['task'], df['annotation'])\n",
    "\n",
    "    # Define color mapping for each output type\n",
    "    color_mapping = {\n",
    "        'Option A': '#d62728',  # Red\n",
    "        'Option B': '#1f77b4',  # Blue\n",
    "        'Draw': '#9467bd'     # Purple\n",
    "    }\n",
    "\n",
    "    # Create the figure and axes\n",
    "    fig, (ax1, ax2) = plt.subplots(1, 2, figsize=(12, 5))\n",
    "\n",
    "    # Plot stacked bars for each task with counts of output types\n",
    "    stacked_df.plot(kind='bar', stacked=True, color=[color_mapping[i] for i in stacked_df.columns], ax=ax1)\n",
    "    ax1.set_xlabel('Task')\n",
    "    ax1.set_ylabel('Count')\n",
    "    ax1.set_title('Count of Output Types per Task (Stacked)')\n",
    "\n",
    "    # Plot counts of output types independent of task number using Seaborn\n",
    "    sns.countplot(data=df, x='annotation', ax=ax2, palette=color_mapping, order=color_mapping.keys())\n",
    "    ax2.set_xlabel('Output Type')\n",
    "    ax2.set_ylabel('Count')\n",
    "    ax2.set_title('Count of Output Types')\n",
    "\n",
    "    # Adjust spacing between subplots\n",
    "    plt.tight_layout()\n",
    "\n",
    "    # Show the plot\n",
    "    plt.show()"
   ]
  },
  {
   "cell_type": "code",
   "execution_count": 137,
   "metadata": {},
   "outputs": [
    {
     "data": {
      "image/png": "[encoded data removed]",
      "text/plain": [
       "<Figure size 1200x500 with 2 Axes>"
      ]
     },
     "metadata": {},
     "output_type": "display_data"
    }
   ],
   "source": [
    "df = pd.read_json('./outputs/label_studio/annotations/project-6-at-2023-06-09-22-29-8e9657b4.json')\n",
    "rows = []\n",
    "for i, annotations in enumerate(df['annotations']):\n",
    "    for annotation in annotations:  \n",
    "        rows.append({'task': f\"Task {annotation['task']}\", 'annotation': annotation['result'][0]['value']['choices'][0]})\n",
    "\n",
    "annotations_df = pd.DataFrame(rows)\n",
    "plot(annotations_df)"
   ]
  },
  {
   "attachments": {},
   "cell_type": "markdown",
   "metadata": {},
   "source": [
    "## Additonal Links\n",
    "- [Dialogue Analysis Example](https://labelstud.io/templates/dialogue_analysis.html)"
   ]
  },
  {
   "attachments": {},
   "cell_type": "markdown",
   "metadata": {},
   "source": []
  }
 ],
 "metadata": {
  "kernelspec": {
   "display_name": "genai-bootcamp",
   "language": "python",
   "name": "python3"
  },
  "language_info": {
   "codemirror_mode": {
    "name": "ipython",
    "version": 3
   },
   "file_extension": ".py",
   "mimetype": "text/x-python",
   "name": "python",
   "nbconvert_exporter": "python",
   "pygments_lexer": "ipython3",
   "version": "3.10.11"
  },
  "orig_nbformat": 4
 },
 "nbformat": 4,
 "nbformat_minor": 2
}
