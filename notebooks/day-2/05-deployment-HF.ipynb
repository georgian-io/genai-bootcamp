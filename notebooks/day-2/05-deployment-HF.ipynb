{
 "cells": [
  {
   "attachments": {},
   "cell_type": "markdown",
   "metadata": {},
   "source": [
    "# Deployment with Hugging Face\n",
    "\n",
    "To deploy open-sourced models, simply [go here](https://ui.endpoints.huggingface.co/rodrigo-georgian/endpoints) and click on `+ New Endpoint` and follow the configuration instructions.\n",
    "\n",
    "For other needs, the [HuggingFace documentation](https://huggingface.co/docs/inference-endpoints/index) is very good!"
   ]
  }
 ],
 "metadata": {
  "language_info": {
   "name": "python"
  },
  "orig_nbformat": 4
 },
 "nbformat": 4,
 "nbformat_minor": 2
}
