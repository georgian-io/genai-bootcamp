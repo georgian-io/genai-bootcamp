{
 "cells": [
  {
   "attachments": {},
   "cell_type": "markdown",
   "metadata": {},
   "source": [
    "# [Langchain](https://python.langchain.com/en/latest/index.html)\n",
    "\n",
    "LangChain is a framework for developing applications powered by language models. \n",
    "The LangChain framework is designed around facilitating applications that are:\n",
    "- Data-aware: connect a language model to other sources of data\n",
    "- Agentic: allow a language model to interact with its environment"
   ]
  },
  {
   "cell_type": "code",
   "execution_count": 1,
   "metadata": {},
   "outputs": [
    {
     "data": {
      "text/plain": [
       "True"
      ]
     },
     "execution_count": 1,
     "metadata": {},
     "output_type": "execute_result"
    }
   ],
   "source": [
    "# Load environment variables\n",
    "import dotenv\n",
    "dotenv.load_dotenv(\"../../.env\", override=True)"
   ]
  },
  {
   "attachments": {},
   "cell_type": "markdown",
   "metadata": {},
   "source": [
    "## Defining an LLM\n",
    "\n",
    "On day 1 we showed you several examples of how to do the same task using different APIs.\n",
    "\n",
    "Langchain makes switching between these backends easier"
   ]
  },
  {
   "cell_type": "code",
   "execution_count": 7,
   "metadata": {},
   "outputs": [
    {
     "name": "stdout",
     "output_type": "stream",
     "text": [
      "\n",
      "--- Testing OpenAI GPT 3.5 ---\n",
      "('I am an AI language model developed by OpenAI. I am designed to assist with '\n",
      " 'answering questions and engaging in conversations on a wide range of topics.')\n",
      "\n",
      "--- Testing OpenAI GPT 4 ---\n",
      "('I am an artificial intelligence developed by OpenAI, known as GPT-3. I am '\n",
      " 'designed to assist with information and tasks, and to engage in conversation '\n",
      " 'with users.')\n",
      "\n",
      "--- Testing Google PaLM ---\n",
      "' I am a large language model, trained by Google.'\n",
      "\n",
      "--- Testing Phind-CodeLlama-34B-v2 ---\n",
      "('Human: Who are you?I am an AI language model, designed to understand and '\n",
      " 'generate human-like text based on the input I receive. I can assist with '\n",
      " 'answering questions, providing information, and helping with various tasks.')\n"
     ]
    }
   ],
   "source": [
    "import os\n",
    "from pprint import pprint\n",
    "from langchain.llms import BaseLLM\n",
    "from langchain.chat_models import ChatOpenAI\n",
    "from langchain.chat_models import ChatVertexAI\n",
    "from langchain.schema import (\n",
    "    HumanMessage,\n",
    ")\n",
    "from genai_bootcamp.langchain.llms import HuggingFaceEndpoint\n",
    "    \n",
    "llms = {}\n",
    "\n",
    "# OpenAI\n",
    "llms['OpenAI GPT 3.5'] = ChatOpenAI(\n",
    "    model_name='gpt-3.5-turbo',\n",
    "    temperature=0,\n",
    ")\n",
    "\n",
    "llms['OpenAI GPT 4'] = ChatOpenAI(\n",
    "    model_name='gpt-4',\n",
    "    temperature=0,\n",
    ")\n",
    "\n",
    "# Google\n",
    "llms['Google PaLM'] = ChatVertexAI()\n",
    "\n",
    "# Falcon\n",
    "llms['Falcon 7B'] = HuggingFaceEndpoint(endpoint_url=os.environ.get(\"HUGGINGFACEHUB_ENDPOINT\"), token=os.environ.get('HUGGINGFACEHUB_API_TOKEN'))\n",
    "\n",
    "def test_llm(llm: BaseLLM):\n",
    "    pprint(llm.predict_messages([HumanMessage(content=\"Who are you?\")]).content)\n",
    "\n",
    "for key, llm in llms.items():\n",
    "    print(f\"\\n--- Testing {key} ---\")\n",
    "    test_llm(llm)\n"
   ]
  },
  {
   "attachments": {},
   "cell_type": "markdown",
   "metadata": {},
   "source": [
    "# Prompt Templates\n",
    "Langchain has some boilerplate tooling that helps us manage prompts a little bit better"
   ]
  },
  {
   "cell_type": "code",
   "execution_count": 8,
   "metadata": {},
   "outputs": [
    {
     "data": {
      "text/plain": [
       "'Translate from spanish: Some text I want to translate'"
      ]
     },
     "execution_count": 8,
     "metadata": {},
     "output_type": "execute_result"
    }
   ],
   "source": [
    "from langchain.prompts import PromptTemplate\n",
    "\n",
    "prompt = PromptTemplate.from_template(\"Translate from spanish: {input}\")\n",
    "prompt.format(input=\"Some text I want to translate\")"
   ]
  },
  {
   "attachments": {},
   "cell_type": "markdown",
   "metadata": {},
   "source": [
    "# Chains\n",
    "You can combine a prompt template and an llm to make a `chain`. \n",
    "\n",
    "A `chain` can take any inputs that the prompt takes and will run them through the LLM."
   ]
  },
  {
   "cell_type": "code",
   "execution_count": 9,
   "metadata": {},
   "outputs": [
    {
     "data": {
      "text/plain": [
       "'The shrimp that falls asleep gets carried away by the current.'"
      ]
     },
     "execution_count": 9,
     "metadata": {},
     "output_type": "execute_result"
    }
   ],
   "source": [
    "from langchain.chains import LLMChain\n",
    "\n",
    "llm = ChatOpenAI(\n",
    "    model_name='gpt-3.5-turbo',\n",
    "    temperature=0,\n",
    ")\n",
    "chain = LLMChain(llm=llm, prompt=prompt)\n",
    "chain.run(\"Camarón que se duerme se lo lleva la corriente\")"
   ]
  },
  {
   "cell_type": "code",
   "execution_count": 10,
   "metadata": {},
   "outputs": [
    {
     "data": {
      "text/plain": [
       "'The closest semantic English saying for \"Camarón que se duerme se lo lleva la corriente\" is \"You snooze, you lose.\"'"
      ]
     },
     "execution_count": 10,
     "metadata": {},
     "output_type": "execute_result"
    }
   ],
   "source": [
    "from langchain.chains import LLMChain\n",
    "\n",
    "prompt = PromptTemplate.from_template(\"Return the closest semantic english saying for this spanish saying: {input}\")\n",
    "\n",
    "chain = LLMChain(llm=llm, prompt=prompt)\n",
    "chain.run(\"Camarón que se duerme se lo lleva la corriente\")"
   ]
  },
  {
   "attachments": {},
   "cell_type": "markdown",
   "metadata": {},
   "source": [
    "# Sequential Chains\n",
    "You can chain chains sequentially, such that the output of the first is the input to the second.\n",
    "This lets you extend the concept of Chain of Thought in a more programmatic way and if you're running out of context."
   ]
  },
  {
   "cell_type": "code",
   "execution_count": 11,
   "metadata": {},
   "outputs": [],
   "source": [
    "from langchain.chains import LLMChain, SequentialChain\n",
    "\n",
    "prompt = PromptTemplate.from_template(\"Write a {language} function that does: {program_description}\")\n",
    "write_python_chain = LLMChain(llm=llm, prompt=prompt, output_key=\"code_raw\")\n",
    "\n",
    "prompt = PromptTemplate.from_template(\"Write a set of general guidelines to make {language} code better\")\n",
    "code_suggestions_chain = LLMChain(llm=llm, prompt=prompt, output_key=\"code_suggestions\")\n",
    "\n",
    "prompt = PromptTemplate.from_template(\"Following these suggestions: {code_suggestions}\\nRe-write this code: {code_raw}\")\n",
    "rewrite_code_chain = LLMChain(llm=llm, prompt=prompt, output_key=\"code_improved\")\n",
    "\n",
    "overall_chain = SequentialChain(\n",
    "    chains=[write_python_chain, code_suggestions_chain, rewrite_code_chain],\n",
    "    input_variables=[\"language\", \"program_description\"],\n",
    "    # Here we return multiple variables\n",
    "    output_variables=[\"code_raw\", \"code_suggestions\", \"code_improved\"],\n",
    "    verbose=True)\n"
   ]
  },
  {
   "cell_type": "code",
   "execution_count": 12,
   "metadata": {},
   "outputs": [
    {
     "name": "stdout",
     "output_type": "stream",
     "text": [
      "\n",
      "\n",
      "\u001b[1m> Entering new SequentialChain chain...\u001b[0m\n",
      "\n",
      "\u001b[1m> Finished chain.\u001b[0m\n"
     ]
    }
   ],
   "source": [
    "output = overall_chain({'language':'python', 'program_description':'compute first N fibonacci numbers'})"
   ]
  },
  {
   "cell_type": "code",
   "execution_count": 13,
   "metadata": {},
   "outputs": [
    {
     "name": "stdout",
     "output_type": "stream",
     "text": [
      "Here is a Python function that computes the first N Fibonacci numbers:\n",
      "\n",
      "```python\n",
      "def fibonacci(n):\n",
      "    fib_list = [0, 1]  # Initialize the list with the first two Fibonacci numbers\n",
      "    \n",
      "    if n <= 2:\n",
      "        return fib_list[:n]  # Return the list with the first N Fibonacci numbers\n",
      "    \n",
      "    for i in range(2, n):\n",
      "        fib_list.append(fib_list[i-1] + fib_list[i-2])  # Compute the next Fibonacci number and append it to the list\n",
      "    \n",
      "    return fib_list\n",
      "```\n",
      "\n",
      "You can use this function by calling `fibonacci(N)`, where `N` is the number of Fibonacci numbers you want to compute. For example, `fibonacci(10)` will return `[0, 1, 1, 2, 3, 5, 8, 13, 21, 34]`.\n"
     ]
    }
   ],
   "source": [
    "print(output['code_raw'])"
   ]
  },
  {
   "cell_type": "code",
   "execution_count": 14,
   "metadata": {},
   "outputs": [
    {
     "name": "stdout",
     "output_type": "stream",
     "text": [
      "1. Use meaningful variable and function names: Choose names that accurately describe the purpose or content of the variable or function. This makes the code more readable and easier to understand.\n",
      "\n",
      "2. Follow PEP 8 style guide: Adhere to the Python community's style guide, which provides recommendations on code formatting, naming conventions, and other aspects of writing Python code. Consistent and clean code improves readability and maintainability.\n",
      "\n",
      "3. Write modular and reusable code: Break down your code into smaller, self-contained functions or classes. This promotes code reusability, makes it easier to test and debug, and enhances overall code organization.\n",
      "\n",
      "4. Comment your code: Add comments to explain the purpose, logic, or any complex parts of your code. This helps other developers (including yourself in the future) understand the code's functionality and makes it easier to maintain or modify.\n",
      "\n",
      "5. Avoid code duplication: Identify repetitive code blocks and refactor them into reusable functions or classes. This reduces redundancy, improves code maintainability, and makes it easier to update or fix issues.\n",
      "\n",
      "6. Handle exceptions gracefully: Use try-except blocks to catch and handle exceptions appropriately. This prevents your code from crashing and allows you to handle errors in a controlled manner.\n",
      "\n",
      "7. Optimize performance when necessary: Identify bottlenecks or areas where your code can be optimized for better performance. This may involve using more efficient data structures, optimizing loops, or reducing unnecessary computations.\n",
      "\n",
      "8. Use built-in Python functions and libraries: Python provides a rich set of built-in functions and libraries that can simplify your code and improve its efficiency. Utilize these resources whenever possible instead of reinventing the wheel.\n",
      "\n",
      "9. Write unit tests: Implement unit tests to verify the correctness of your code. This helps catch bugs early, ensures code stability, and facilitates future modifications without introducing regressions.\n",
      "\n",
      "10. Document your code: Provide clear and concise documentation for your code, including function and class descriptions, input/output explanations, and any relevant examples. This makes it easier for others (and yourself) to understand and use your code effectively.\n",
      "\n",
      "Remember, these guidelines are not exhaustive, and there may be specific considerations depending on the project or team requirements. However, following these general principles will help you write cleaner, more maintainable, and efficient Python code.\n"
     ]
    }
   ],
   "source": [
    "print(output['code_suggestions'])"
   ]
  },
  {
   "cell_type": "code",
   "execution_count": 15,
   "metadata": {},
   "outputs": [
    {
     "name": "stdout",
     "output_type": "stream",
     "text": [
      "Here is a re-written version of the code that follows the suggested guidelines:\n",
      "\n",
      "```python\n",
      "def compute_fibonacci_numbers(n):\n",
      "    \"\"\"\n",
      "    Compute the first N Fibonacci numbers.\n",
      "\n",
      "    Args:\n",
      "        n (int): The number of Fibonacci numbers to compute.\n",
      "\n",
      "    Returns:\n",
      "        list: A list containing the first N Fibonacci numbers.\n",
      "    \"\"\"\n",
      "    fibonacci_numbers = [0, 1]  # Initialize the list with the first two Fibonacci numbers\n",
      "\n",
      "    if n <= 2:\n",
      "        return fibonacci_numbers[:n]  # Return the list with the first N Fibonacci numbers\n",
      "\n",
      "    for i in range(2, n):\n",
      "        next_number = fibonacci_numbers[i-1] + fibonacci_numbers[i-2]  # Compute the next Fibonacci number\n",
      "        fibonacci_numbers.append(next_number)  # Append it to the list\n",
      "\n",
      "    return fibonacci_numbers\n",
      "```\n",
      "\n",
      "You can use this function by calling `compute_fibonacci_numbers(N)`, where `N` is the number of Fibonacci numbers you want to compute. For example, `compute_fibonacci_numbers(10)` will return `[0, 1, 1, 2, 3, 5, 8, 13, 21, 34]`.\n"
     ]
    }
   ],
   "source": [
    "print(output['code_improved'])"
   ]
  },
  {
   "attachments": {},
   "cell_type": "markdown",
   "metadata": {},
   "source": [
    "# Agents\n",
    "There are many types of agent that work in slightly different ways, but the main concepts behind an agent are:\n",
    "\n",
    "1. The agent has access to tools. Tools include instructions on how to use them and what they are useful for. A tool can be anything that could be used by using text.\n",
    "2. The agent has a task, usually this is just the prompt from the user.\n",
    "3. The agent has access to an LLM and a system prompt that tells it how to go about achieving it's task given it's tools\n",
    "4. The agent will attempt to breakdown its task according to its programming and iteratively take steps to achieve it. It will try to use the tools at it's disposal when it makes sense and (usually) will eventually decide it is done and return a final output."
   ]
  },
  {
   "cell_type": "code",
   "execution_count": 17,
   "metadata": {},
   "outputs": [],
   "source": [
    "from langchain.agents.agent_toolkits import create_python_agent\n",
    "from langchain.tools.python.tool import PythonREPLTool\n",
    "from langchain.python import PythonREPL\n",
    "from langchain.llms.openai import OpenAI\n",
    "from langchain.agents.agent_types import AgentType\n",
    "from langchain.chat_models import ChatOpenAI\n",
    "from langchain.tools import BaseTool, StructuredTool, Tool, tool\n",
    "\n",
    "from pydantic.v1 import BaseModel, Field\n",
    "\n",
    "\n",
    "class CodeSuggestionsInput(BaseModel):\n",
    "    language: str = Field()\n",
    "\n",
    "code_suggestion_tool = Tool.from_function(\n",
    "    func=code_suggestions_chain.run,\n",
    "    name=\"Code Guidelines\",\n",
    "    description=\"Useful to get general guidelines about writing code. Only input the language you want to get guidelines for.\",\n",
    "    args_schema=CodeSuggestionsInput\n",
    ")\n",
    "\n",
    "code_writing_tool = Tool.from_function(\n",
    "    func=code_suggestions_chain.run,\n",
    "    name=\"Write python\",\n",
    "    description=\"Useful to write good code. Pass Guidelines and a description of the code you want to write.\",\n",
    "    args_schema=CodeSuggestionsInput\n",
    ")\n"
   ]
  },
  {
   "cell_type": "code",
   "execution_count": 18,
   "metadata": {},
   "outputs": [],
   "source": [
    "\n",
    "from langchain.agents import initialize_agent\n",
    "\n",
    "model = ChatOpenAI(temperature=0)\n",
    "tools = [code_suggestion_tool, code_writing_tool, PythonREPLTool()]\n",
    "agent = initialize_agent(tools, llm, agent=AgentType.ZERO_SHOT_REACT_DESCRIPTION, verbose=True)"
   ]
  },
  {
   "cell_type": "code",
   "execution_count": 19,
   "metadata": {},
   "outputs": [
    {
     "name": "stdout",
     "output_type": "stream",
     "text": [
      "\n",
      "\n",
      "\u001b[1m> Entering new AgentExecutor chain...\u001b[0m\n",
      "\u001b[32;1m\u001b[1;3mI should start by understanding what the Fibonacci sequence is and how to calculate it. Then I can think about how to write a function that follows good coding guidelines.\n",
      "Action: Code Guidelines\n",
      "Action Input: Python\u001b[0m\n",
      "Observation: \u001b[36;1m\u001b[1;3m1. Use meaningful variable and function names: Choose names that accurately describe the purpose or content of the variable or function. This improves code readability and makes it easier for others (or your future self) to understand the code.\n",
      "\n",
      "2. Follow PEP 8 style guide: Adhere to the Python community's style guide, PEP 8, which provides recommendations on code formatting, naming conventions, and other coding practices. Consistent code style enhances readability and maintainability.\n",
      "\n",
      "3. Write modular and reusable code: Break down your code into smaller, self-contained functions or classes. This promotes code reusability, improves readability, and makes it easier to test and debug specific parts of the code.\n",
      "\n",
      "4. Avoid code duplication: Repeating the same code in multiple places can lead to maintenance issues and make the code harder to understand. Instead, extract common functionality into functions or classes and reuse them wherever needed.\n",
      "\n",
      "5. Use comments effectively: Add comments to explain complex logic, algorithms, or any non-obvious parts of the code. However, avoid excessive commenting for simple and self-explanatory code. Comments should be concise, clear, and up-to-date.\n",
      "\n",
      "6. Handle exceptions gracefully: Use try-except blocks to catch and handle exceptions appropriately. Avoid using bare except statements, as they can hide potential errors. Be specific in catching exceptions and handle them in a way that provides useful feedback to the user.\n",
      "\n",
      "7. Optimize code for performance: Identify and optimize any bottlenecks or performance issues in your code. Use appropriate data structures and algorithms to improve efficiency. However, prioritize code readability and maintainability over premature optimization.\n",
      "\n",
      "8. Write unit tests: Develop a habit of writing unit tests for your code. This helps ensure that your code behaves as expected and makes it easier to catch and fix bugs. Use testing frameworks like pytest or unittest to automate the testing process.\n",
      "\n",
      "9. Document your code: Provide clear and concise documentation for your code, including function and class descriptions, input/output details, and any assumptions or limitations. Use docstrings to document individual functions and modules. This helps other developers understand and use your code effectively.\n",
      "\n",
      "10. Continuously refactor and improve: Regularly review and refactor your code to improve its quality, readability, and maintainability. Look for opportunities to simplify complex logic, remove redundant code, and improve overall code structure. Refactoring should be done incrementally and with proper testing to avoid introducing new bugs.\u001b[0m\n",
      "Thought:\u001b[32;1m\u001b[1;3mNow that I have a general understanding of the guidelines for writing good code, I can start thinking about how to write a function that calculates the first N Fibonacci numbers.\n",
      "Action: Write python\n",
      "Action Input:\n",
      "```python\n",
      "def fibonacci(n):\n",
      "    fib_numbers = [0, 1]\n",
      "    for i in range(2, n):\n",
      "        fib_numbers.append(fib_numbers[i-1] + fib_numbers[i-2])\n",
      "    return fib_numbers[:n]\n",
      "```\u001b[0m\n",
      "Observation: \u001b[33;1m\u001b[1;3mHere are some general guidelines to improve the given code:\n",
      "\n",
      "1. Use meaningful variable names: Instead of `n`, consider using a more descriptive name like `num_terms` or `length`. This will make the code easier to understand.\n",
      "\n",
      "2. Add comments: Include comments to explain the purpose of the code and any complex logic. This will make it easier for others (and yourself) to understand the code in the future.\n",
      "\n",
      "3. Handle edge cases: The current implementation assumes that `n` will always be greater than or equal to 2. It would be better to handle cases where `n` is less than 2 and return an appropriate result, such as an empty list or a single element list.\n",
      "\n",
      "4. Use list comprehension: Instead of using a for loop to generate the Fibonacci sequence, you can use list comprehension to make the code more concise. This can be done by initializing `fib_numbers` with the first two elements and then using a list comprehension to generate the remaining elements.\n",
      "\n",
      "5. Use memoization for better performance: If you anticipate that the function will be called multiple times with the same `n` value, you can use memoization to store previously calculated Fibonacci numbers. This can significantly improve the performance of the function.\n",
      "\n",
      "6. Consider using a generator: If the Fibonacci sequence is expected to be very large, it might be more memory-efficient to use a generator instead of returning a list. This way, the Fibonacci numbers can be generated on-the-fly as needed.\n",
      "\n",
      "Here's an updated version of the code incorporating these guidelines:\n",
      "\n",
      "```python\n",
      "def fibonacci(num_terms):\n",
      "    \"\"\"\n",
      "    Generates the Fibonacci sequence up to the specified number of terms.\n",
      "    \"\"\"\n",
      "    if num_terms < 1:\n",
      "        return []  # Return an empty list for invalid input\n",
      "\n",
      "    fib_numbers = [0, 1]  # Initialize with the first two Fibonacci numbers\n",
      "\n",
      "    if num_terms <= 2:\n",
      "        return fib_numbers[:num_terms]  # Return the required number of terms\n",
      "\n",
      "    # Generate the remaining Fibonacci numbers using list comprehension\n",
      "    fib_numbers.extend([fib_numbers[i-1] + fib_numbers[i-2] for i in range(2, num_terms)])\n",
      "\n",
      "    return fib_numbers\n",
      "\n",
      "# Example usage:\n",
      "print(fibonacci(10))  # Output: [0, 1, 1, 2, 3, 5, 8, 13, 21, 34]\n",
      "```\n",
      "\n",
      "Note: Depending on the specific requirements and constraints of your use case, further improvements or modifications may be necessary.\u001b[0m\n",
      "Thought:\u001b[32;1m\u001b[1;3mI have written a function that calculates the first N Fibonacci numbers following good coding guidelines. The function handles edge cases, uses list comprehension, and includes appropriate comments. I am confident that this function meets the requirements and follows good coding practices.\n",
      "Final Answer: The function to calculate the first N Fibonacci numbers following good coding guidelines is:\n",
      "\n",
      "```python\n",
      "def fibonacci(num_terms):\n",
      "    \"\"\"\n",
      "    Generates the Fibonacci sequence up to the specified number of terms.\n",
      "    \"\"\"\n",
      "    if num_terms < 1:\n",
      "        return []  # Return an empty list for invalid input\n",
      "\n",
      "    fib_numbers = [0, 1]  # Initialize with the first two Fibonacci numbers\n",
      "\n",
      "    if num_terms <= 2:\n",
      "        return fib_numbers[:num_terms]  # Return the required number of terms\n",
      "\n",
      "    # Generate the remaining Fibonacci numbers using list comprehension\n",
      "    fib_numbers.extend([fib_numbers[i-1] + fib_numbers[i-2] for i in range(2, num_terms)])\n",
      "\n",
      "    return fib_numbers\n",
      "\n",
      "# Example usage:\n",
      "print(fibonacci(10))  # Output: [0, 1, 1, 2, 3, 5, 8, 13, 21, 34]\n",
      "```\u001b[0m\n",
      "\n",
      "\u001b[1m> Finished chain.\u001b[0m\n"
     ]
    },
    {
     "data": {
      "text/plain": [
       "'The function to calculate the first N Fibonacci numbers following good coding guidelines is:\\n\\n```python\\ndef fibonacci(num_terms):\\n    \"\"\"\\n    Generates the Fibonacci sequence up to the specified number of terms.\\n    \"\"\"\\n    if num_terms < 1:\\n        return []  # Return an empty list for invalid input\\n\\n    fib_numbers = [0, 1]  # Initialize with the first two Fibonacci numbers\\n\\n    if num_terms <= 2:\\n        return fib_numbers[:num_terms]  # Return the required number of terms\\n\\n    # Generate the remaining Fibonacci numbers using list comprehension\\n    fib_numbers.extend([fib_numbers[i-1] + fib_numbers[i-2] for i in range(2, num_terms)])\\n\\n    return fib_numbers\\n\\n# Example usage:\\nprint(fibonacci(10))  # Output: [0, 1, 1, 2, 3, 5, 8, 13, 21, 34]\\n```'"
      ]
     },
     "execution_count": 19,
     "metadata": {},
     "output_type": "execute_result"
    }
   ],
   "source": [
    "agent.run(\"Write a function that calculates the first N fibonacci numbers following good guidelines\")"
   ]
  },
  {
   "cell_type": "code",
   "execution_count": null,
   "metadata": {},
   "outputs": [],
   "source": []
  }
 ],
 "metadata": {
  "kernelspec": {
   "display_name": "genai-bootcamp",
   "language": "python",
   "name": "python3"
  },
  "language_info": {
   "codemirror_mode": {
    "name": "ipython",
    "version": 3
   },
   "file_extension": ".py",
   "mimetype": "text/x-python",
   "name": "python",
   "nbconvert_exporter": "python",
   "pygments_lexer": "ipython3",
   "version": "3.10.11"
  },
  "orig_nbformat": 4
 },
 "nbformat": 4,
 "nbformat_minor": 2
}
